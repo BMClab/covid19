{
 "cells": [
  {
   "cell_type": "markdown",
   "metadata": {},
   "source": [
    "# Running training in 2019 and 2020\n",
    "\n",
    "> [https://github.com/BMClab/covid19](https://github.com/BMClab/covid19)  \n",
    "> [Laboratory of Biomechanics and Motor Control](http://pesquisa.ufabc.edu.br/bmclab/)  \n",
    "> Federal University of ABC, Brazil"
   ]
  },
  {
   "cell_type": "markdown",
   "metadata": {
    "toc": true
   },
   "source": [
    "<h1>Contents<span class=\"tocSkip\"></span></h1>\n",
    "<div class=\"toc\"><ul class=\"toc-item\"><li><span><a href=\"#Setup\" data-toc-modified-id=\"Setup-1\"><span class=\"toc-item-num\">1&nbsp;&nbsp;</span>Setup</a></span><ul class=\"toc-item\"><li><span><a href=\"#Environment\" data-toc-modified-id=\"Environment-1.1\"><span class=\"toc-item-num\">1.1&nbsp;&nbsp;</span>Environment</a></span></li><li><span><a href=\"#Helping-functions\" data-toc-modified-id=\"Helping-functions-1.2\"><span class=\"toc-item-num\">1.2&nbsp;&nbsp;</span>Helping functions</a></span></li></ul></li><li><span><a href=\"#Load-dataset\" data-toc-modified-id=\"Load-dataset-2\"><span class=\"toc-item-num\">2&nbsp;&nbsp;</span>Load dataset</a></span><ul class=\"toc-item\"><li><span><a href=\"#Basic-information-about-the-dataset\" data-toc-modified-id=\"Basic-information-about-the-dataset-2.1\"><span class=\"toc-item-num\">2.1&nbsp;&nbsp;</span>Basic information about the dataset</a></span></li></ul></li><li><span><a href=\"#Load-dataset-with-indexes-of-policy-responses-to-the-coronavirus-pandemic\" data-toc-modified-id=\"Load-dataset-with-indexes-of-policy-responses-to-the-coronavirus-pandemic-3\"><span class=\"toc-item-num\">3&nbsp;&nbsp;</span>Load dataset with indexes of policy responses to the coronavirus pandemic</a></span></li><li><span><a href=\"#Running-activity\" data-toc-modified-id=\"Running-activity-4\"><span class=\"toc-item-num\">4&nbsp;&nbsp;</span>Running activity</a></span><ul class=\"toc-item\"><li><span><a href=\"#Number-of-running-activities-per-period\" data-toc-modified-id=\"Number-of-running-activities-per-period-4.1\"><span class=\"toc-item-num\">4.1&nbsp;&nbsp;</span>Number of running activities per period</a></span></li></ul></li><li><span><a href=\"#Data-distribution\" data-toc-modified-id=\"Data-distribution-5\"><span class=\"toc-item-num\">5&nbsp;&nbsp;</span>Data distribution</a></span><ul class=\"toc-item\"><li><span><a href=\"#Difference-between-2020-and-2019\" data-toc-modified-id=\"Difference-between-2020-and-2019-5.1\"><span class=\"toc-item-num\">5.1&nbsp;&nbsp;</span>Difference between 2020 and 2019</a></span></li><li><span><a href=\"#Histrogram\" data-toc-modified-id=\"Histrogram-5.2\"><span class=\"toc-item-num\">5.2&nbsp;&nbsp;</span>Histrogram</a></span></li></ul></li><li><span><a href=\"#Volume-of-training:-average-and-95%-confidence-interval\" data-toc-modified-id=\"Volume-of-training:-average-and-95%-confidence-interval-6\"><span class=\"toc-item-num\">6&nbsp;&nbsp;</span>Volume of training: average and 95% confidence interval</a></span><ul class=\"toc-item\"><li><span><a href=\"#Calculus-of-central-tendency-and-confidence-interval-for-each-year\" data-toc-modified-id=\"Calculus-of-central-tendency-and-confidence-interval-for-each-year-6.1\"><span class=\"toc-item-num\">6.1&nbsp;&nbsp;</span>Calculus of central tendency and confidence interval for each year</a></span></li><li><span><a href=\"#Calculate-differences-between-years\" data-toc-modified-id=\"Calculate-differences-between-years-6.2\"><span class=\"toc-item-num\">6.2&nbsp;&nbsp;</span>Calculate differences between years</a></span><ul class=\"toc-item\"><li><span><a href=\"#Statistical-inference\" data-toc-modified-id=\"Statistical-inference-6.2.1\"><span class=\"toc-item-num\">6.2.1&nbsp;&nbsp;</span>Statistical inference</a></span></li></ul></li><li><span><a href=\"#Plots\" data-toc-modified-id=\"Plots-6.3\"><span class=\"toc-item-num\">6.3&nbsp;&nbsp;</span>Plots</a></span><ul class=\"toc-item\"><li><span><a href=\"#Infographic\" data-toc-modified-id=\"Infographic-6.3.1\"><span class=\"toc-item-num\">6.3.1&nbsp;&nbsp;</span>Infographic</a></span></li></ul></li></ul></li></ul></div>"
   ]
  },
  {
   "cell_type": "markdown",
   "metadata": {},
   "source": [
    "## Setup"
   ]
  },
  {
   "cell_type": "code",
   "execution_count": null,
   "metadata": {
    "ExecuteTime": {
     "end_time": "2021-04-27T21:13:43.915382Z",
     "start_time": "2021-04-27T21:13:43.417896Z"
    }
   },
   "outputs": [],
   "source": [
    "import sys, os\n",
    "import numpy as np\n",
    "import pandas as pd\n",
    "import seaborn as sns\n",
    "import matplotlib.pyplot as plt\n",
    "%matplotlib inline\n",
    "import tqdm\n",
    "from spm1d.stats import ttest_paired, ttest2, _spm\n",
    "import matplotlib.patches as patches\n",
    "%load_ext watermark  \n",
    "\n",
    "%watermark\n",
    "%watermark --iversions"
   ]
  },
  {
   "cell_type": "markdown",
   "metadata": {},
   "source": [
    "### Environment"
   ]
  },
  {
   "cell_type": "code",
   "execution_count": null,
   "metadata": {
    "ExecuteTime": {
     "end_time": "2021-04-27T21:13:43.923808Z",
     "start_time": "2021-04-27T21:13:43.916686Z"
    }
   },
   "outputs": [],
   "source": [
    "path2 = r'./../data/'\n",
    "\n",
    "pd.set_option('display.float_format', lambda x: '%.4g' % x)\n",
    "plt.rcParams.update({'font.size': 14, 'xtick.labelsize': 12, 'ytick.labelsize': 12})\n",
    "\n",
    "sns.set_style('whitegrid', rc={'xtick.bottom': True, 'xtick.top': True, 'ytick.left': True,\n",
    "              'ytick.right': True, 'xtick.direction': 'in', 'ytick.direction': 'in'})\n",
    "\n",
    "# plot colors\n",
    "colors = sns.color_palette()\n",
    "display(colors)\n",
    "c1 = colors[0]\n",
    "c2 = colors[3]\n",
    "c3 = 'k'\n",
    "c4 = colors[2]\n",
    "c5 = colors[1]\n",
    "# feature (dependent variable)\n",
    "variables, units = ['distance', 'duration'], ['km', 'min']\n",
    "freq = 'w'\n",
    "freq_s = 'week'\n",
    "# confidence interval\n",
    "estimate = np.mean\n",
    "level = 99\n",
    "method = 'normal'\n",
    "method = 'bootstrap'  # use to generate the final figures in paper, but much slower\n",
    "# Statistics\n",
    "alpha = 0.01\n",
    "two_tailed = True\n",
    "spmtest = ttest_paired\n",
    "#spmtest = wilcoxon\n",
    "# other variables:\n",
    "ages = ['18 - 34', '35 - 54', '55 +']\n",
    "genders = ['F', 'M']\n",
    "years = ['2019', '2020']\n",
    "months = ['January', 'February', 'March', 'April', 'May', 'June', 'July',\n",
    "          'August', 'September', 'October', 'November', 'December']\n",
    "freqs = ['d', 'w', 'm']\n",
    "freqs_s = ['day', 'week', 'month']"
   ]
  },
  {
   "cell_type": "markdown",
   "metadata": {},
   "source": [
    "### Helping functions"
   ]
  },
  {
   "cell_type": "code",
   "execution_count": null,
   "metadata": {
    "ExecuteTime": {
     "end_time": "2021-04-27T21:13:43.930872Z",
     "start_time": "2021-04-27T21:13:43.924998Z"
    },
    "code_folding": [
     0
    ]
   },
   "outputs": [],
   "source": [
    "def ci_calc(y, estimate=np.nanmean, level=95, axis=0, method='bootstrap',\n",
    "            n_boot=1000, n=None, seed=None):\n",
    "    \"\"\"Calculate `level`% confidence interval of the `estimate` for `y`.\n",
    "\n",
    "    Parameters\n",
    "    ----------\n",
    "    y : 1-d or 2-d array_like\n",
    "        Calculate the confidence interval of these values.\n",
    "    estimate : numpy function (optional, default=np.nanmean)\n",
    "        Function (unknown parameter) to which the confidence interval will be\n",
    "        estimated\n",
    "    level : number (optional, default=95)\n",
    "        Confidence level (in %, in the interval ]0, 100[) of the confidence\n",
    "        interval\n",
    "    axis : int (optional, default=0)\n",
    "        Axis of y which the confidence interval will be estimated\n",
    "    method: string (optional, default=`'bootstrap'`)\n",
    "        Valid options: `'bootstrap'`, `'bootstrap_sns'` (Seaborn), `'normal'`.\n",
    "        `'normal'` method calculates confidence interval for the `'estimate'`\n",
    "        of `y` assuming normal distribution and unknown mean and unknown\n",
    "        standard deviation.\n",
    "        `'bootstrap'` and `'bootstrap_sns'` methods calculate confidence\n",
    "        interval for the `estimate` of `y` by percentile bootstrap.\n",
    "    n_boot : int (optional, default=1000)\n",
    "        Number of bootstrap iteractions\n",
    "    n : {None, int} (optional, default=None)\n",
    "        Number of samples to bootstrap (only works with method `'bootstrap'`)\n",
    "    seed : {None, int, ..., Generator} (optional, default=None)\n",
    "        Seed for the random number generator\n",
    "\n",
    "    Returns\n",
    "    -------\n",
    "    confidence interval : 1-d or 2-d array_like\n",
    "\n",
    "    Example\n",
    "    -------\n",
    "    >>> rng = np.random.default_rng(12345)\n",
    "    >>> y = 1 + rng.standard_normal(size=(10000, 4))\n",
    "    >>> ci_calc(y, method='bootstrap', seed=rng)\n",
    "    array([[0.98543573, 0.97812353, 0.99513357, 0.98174334],\n",
    "           [1.02535726, 1.01852985, 1.03386319, 1.02152344]])\n",
    "\n",
    "    >>> ci_calc(y, method='normal')\n",
    "    array([[0.98530252, 0.97851995, 0.99611958, 0.98188726],\n",
    "           [1.02378054, 1.01758363, 1.03539235, 1.02153012]])\n",
    "\n",
    "    See Also\n",
    "    --------\n",
    "    https://github.com/BMClab/BMC/blob/master/notebooks/ConfidencePredictionIntervals.ipynb\n",
    "    https://stats.stackexchange.com/questions/355781/\n",
    "    \"\"\"\n",
    "    if method == 'bootstrap':\n",
    "        rng = np.random.default_rng(seed=seed).integers\n",
    "        if n is None:\n",
    "            n = y.shape[axis]\n",
    "        boots = [estimate(y.take(rng(y.shape[axis], size=n), axis=axis),\n",
    "                          axis=axis) for i in range(n_boot)]\n",
    "        ci = np.percentile(boots, [(100-level)/2, (100+level)/2], axis=0)\n",
    "    elif method == 'bootstrap_sns':            \n",
    "        import seaborn as sns\n",
    "        ci = sns.utils.ci(sns.algorithms.bootstrap(y, n_boot=n_boot, axis=axis,\n",
    "                                                   units=None, func=estimate,\n",
    "                                                   seed=seed),\n",
    "                          which=level, axis=axis)\n",
    "    elif method == 'normal':\n",
    "        from scipy import stats\n",
    "        n = y.shape[axis]\n",
    "        tppf = stats.t.ppf((1+level/100)/2, n-1)\n",
    "        std = np.nanstd(y, axis=axis, ddof=1)\n",
    "        ci = estimate(y, axis=axis) + tppf * np.array([-std, std])/np.sqrt(n)\n",
    "    else:\n",
    "        raise Exception('Unknown method for calculating ci: {}.'.format(method))\n",
    "\n",
    "    return ci\n",
    "\n",
    "\n",
    "def m_ci95(x=None, estimate=np.nanmedian, level=95, method='bootstrap'):\n",
    "    \"\"\"Return array with median and 95% confidence interval.\"\"\"\n",
    "    ci = ci_calc(x, estimate=estimate, level=level, method=method)\n",
    "    return np.r_[estimate(x), ci[0], ci[1]]\n",
    "\n",
    "\n",
    "def m_ci95df(y, estimate=np.nanmedian, level=level, method='bootstrap'):\n",
    "    y = y.groupby(by='datetime', axis='index').apply(lambda x: m_ci95(x, estimate, level, method))\n",
    "    y = pd.DataFrame(y.values.tolist(), index=y.index, columns=['m', 'c95inf', 'c95sup'])\n",
    "    return y"
   ]
  },
  {
   "cell_type": "markdown",
   "metadata": {},
   "source": [
    "## Load dataset\n",
    "\n",
    "Let's load the dataset and create a dictionary with all the data and grouped by gender and age.  \n",
    "We will also create two equivalents dictionaries with the number of athletes per period and the number of activities per athlete."
   ]
  },
  {
   "cell_type": "code",
   "execution_count": null,
   "metadata": {
    "ExecuteTime": {
     "end_time": "2021-04-27T21:13:47.442520Z",
     "start_time": "2021-04-27T21:13:43.931964Z"
    }
   },
   "outputs": [],
   "source": [
    "dfs, dfs0, nathletes, nruns = dict(), dict(), dict(), dict()\n",
    "for year in years:\n",
    "    for f, frq in enumerate(freqs):\n",
    "        fname = 'run_ww_{}_{}.parquet'.format(year, frq)\n",
    "        df = pd.read_parquet(os.path.join(path2, fname))\n",
    "        df['athlete'] = df['athlete'].astype('category')  # bug in parquet\n",
    "        df = df.set_index('datetime', drop=True)\n",
    "        #df.index = df.index.normalize()\n",
    "        display(df.iloc[[0, -1]].style.set_caption('Year: {}, Frequency: {} (first and last rows)'.\n",
    "                                                   format(year, freqs_s[f])))\n",
    "        dfs[year, frq] = df\n",
    "        dfs0[year, frq] = df[df[variables[0]] > 0]\n",
    "        nathletes[year, frq] = dfs0[year, frq].groupby(level='datetime').size()\n",
    "        x = dfs0[year, frq].groupby('athlete').size()\n",
    "        nruns[year, frq] = x[x > 0]  # removes athletes with zero runs\n",
    "        for gender in genders:\n",
    "            for age in ages:\n",
    "                x = dfs0[year, frq][(dfs0[year, frq]['gender'] == gender) &\n",
    "                                     (dfs0[year, frq]['age_group'] == age)] \n",
    "                nathletes[year, frq, gender, age] = x.groupby(level='datetime').size()\n",
    "                x = x.groupby('athlete').size()\n",
    "                nruns[year, frq, gender, age] = x[x > 0]  # removes athletes with zero runs"
   ]
  },
  {
   "cell_type": "markdown",
   "metadata": {},
   "source": [
    "### Basic information about the dataset"
   ]
  },
  {
   "cell_type": "code",
   "execution_count": null,
   "metadata": {
    "ExecuteTime": {
     "end_time": "2021-04-27T21:13:47.587362Z",
     "start_time": "2021-04-27T21:13:47.443480Z"
    }
   },
   "outputs": [],
   "source": [
    "dfs['2019', 'd'].info(memory_usage='deep')"
   ]
  },
  {
   "cell_type": "code",
   "execution_count": null,
   "metadata": {
    "ExecuteTime": {
     "end_time": "2021-04-27T21:13:47.737414Z",
     "start_time": "2021-04-27T21:13:47.588405Z"
    }
   },
   "outputs": [],
   "source": [
    "for year in years:\n",
    "    print('Year: {}'.format(year))\n",
    "    nday = dfs[year, 'd'].index.value_counts().size\n",
    "    print(' Number of days:', nday)\n",
    "    nathlete = nruns[year, 'd'].size\n",
    "    print(' Number of athletes:', nathlete)\n",
    "    nactivity = dfs[year, 'd'].shape[0]\n",
    "    print(' Total number of activities:', nactivity)\n",
    "    nactivity = nathletes[year, 'd'].sum()\n",
    "    print(' Actual number of running activities:', nactivity)\n",
    "print('Number of running activities in 2019 and 2020:',\n",
    "      nathletes['2019', 'd'].sum() + nathletes['2020', 'd'].sum())"
   ]
  },
  {
   "cell_type": "code",
   "execution_count": null,
   "metadata": {
    "ExecuteTime": {
     "end_time": "2021-04-27T21:13:47.740985Z",
     "start_time": "2021-04-27T21:13:47.738301Z"
    }
   },
   "outputs": [],
   "source": [
    "nathletes['2019', 'd'].sum() + nathletes['2020', 'd'].sum()"
   ]
  },
  {
   "cell_type": "code",
   "execution_count": null,
   "metadata": {
    "ExecuteTime": {
     "end_time": "2021-04-27T21:13:47.744740Z",
     "start_time": "2021-04-27T21:13:47.742344Z"
    }
   },
   "outputs": [],
   "source": [
    "dfs0['2019', 'd'].shape[0] + dfs0['2020', 'd'].shape[0]"
   ]
  },
  {
   "cell_type": "code",
   "execution_count": null,
   "metadata": {
    "ExecuteTime": {
     "end_time": "2021-04-27T21:13:47.748436Z",
     "start_time": "2021-04-27T21:13:47.745973Z"
    }
   },
   "outputs": [],
   "source": [
    "nruns['2019', 'd'].sum() + nruns['2020', 'd'].sum()"
   ]
  },
  {
   "cell_type": "markdown",
   "metadata": {},
   "source": [
    "## Load dataset with indexes of policy responses to the coronavirus pandemic"
   ]
  },
  {
   "cell_type": "code",
   "execution_count": null,
   "metadata": {
    "ExecuteTime": {
     "end_time": "2021-04-27T21:13:47.759316Z",
     "start_time": "2021-04-27T21:13:47.749323Z"
    }
   },
   "outputs": [],
   "source": [
    "c19idx = pd.read_csv(os.path.join(path2, 'policy_response_indexes.csv'), sep=',',\n",
    "                 header=0, parse_dates=['date'], verbose=False)\n",
    "c19idx = c19idx.set_index('date', drop=True)\n",
    "c19idx"
   ]
  },
  {
   "cell_type": "code",
   "execution_count": null,
   "metadata": {
    "ExecuteTime": {
     "end_time": "2021-04-27T21:13:47.766674Z",
     "start_time": "2021-04-27T21:13:47.760180Z"
    }
   },
   "outputs": [],
   "source": [
    "def correct_last_days(y, freq):\n",
    "    \"\"\"\n",
    "    Change the dates of the last days to avoid a last week with less than 7 days.\n",
    "    \"\"\"\n",
    "    nlastdays = 7 + y.index[-1].dayofyear % 7\n",
    "    if freq == '7d' and nlastdays > 7:\n",
    "        ts = pd.Timestamp(y.index[-1].date() - pd.to_timedelta(nlastdays-7, unit='D'))\n",
    "        y.index = y.index.where(y.index <= ts, ts)    \n",
    "    grouper = pd.Grouper(axis=0, freq=freq)\n",
    "    y = y.groupby(grouper).mean()\n",
    "    if freq == '7d':\n",
    "        # correct the divisor if the last week doesn't have 7 days\n",
    "        y.loc[y.index[-1], :] = y.loc[y.index[-1], :] * (7 / nlastdays)\n",
    "    return y\n",
    "\n",
    "freq2 = '7d' if freq == 'w' else freq\n",
    "c19idx = correct_last_days(c19idx, freq2)"
   ]
  },
  {
   "cell_type": "markdown",
   "metadata": {},
   "source": [
    "## Running activity"
   ]
  },
  {
   "cell_type": "code",
   "execution_count": null,
   "metadata": {
    "ExecuteTime": {
     "end_time": "2021-04-27T21:13:47.769669Z",
     "start_time": "2021-04-27T21:13:47.767727Z"
    }
   },
   "outputs": [],
   "source": [
    "nathlete = nruns['2019', 'd'].size\n",
    "nactivity = nathletes['2019', 'd'].sum() + nathletes['2020', 'd'].sum()"
   ]
  },
  {
   "cell_type": "code",
   "execution_count": null,
   "metadata": {
    "ExecuteTime": {
     "end_time": "2021-04-27T21:13:48.597364Z",
     "start_time": "2021-04-27T21:13:47.770678Z"
    }
   },
   "outputs": [],
   "source": [
    "grouper = pd.Grouper(axis=0, freq='y', sort=True)\n",
    "for year in years:\n",
    "    print(year)\n",
    "    display(dfs[year, freq][['distance', 'duration']].groupby(grouper).describe().stack(level=0))    \n",
    "    display(dfs[year, freq][['gender', 'age_group', 'distance', 'duration']].groupby(\n",
    "        [grouper, 'gender', 'age_group']).describe().stack(level=0))"
   ]
  },
  {
   "cell_type": "markdown",
   "metadata": {},
   "source": [
    "### Number of running activities per period"
   ]
  },
  {
   "cell_type": "code",
   "execution_count": null,
   "metadata": {
    "ExecuteTime": {
     "end_time": "2021-04-27T21:13:48.601787Z",
     "start_time": "2021-04-27T21:13:48.598234Z"
    }
   },
   "outputs": [],
   "source": [
    "print('Median and interquartile range of number of days the athletes ran each year:')\n",
    "for year in years:\n",
    "    print('In {}: {:.0f} ({:.0f}, {:.0f}) days'.\n",
    "          format(year, *np.percentile(nruns[year, 'd'], [50, 25, 75]).round()))"
   ]
  },
  {
   "cell_type": "markdown",
   "metadata": {},
   "source": [
    "The athletes ran on average about once every three days and half of them ran between once every week and once every two days in 2019 and 2020."
   ]
  },
  {
   "cell_type": "markdown",
   "metadata": {},
   "source": [
    "## Data distribution"
   ]
  },
  {
   "cell_type": "markdown",
   "metadata": {},
   "source": [
    "### Difference between 2020 and 2019"
   ]
  },
  {
   "cell_type": "code",
   "execution_count": null,
   "metadata": {
    "ExecuteTime": {
     "end_time": "2021-04-27T21:13:48.983667Z",
     "start_time": "2021-04-27T21:13:48.602572Z"
    }
   },
   "outputs": [],
   "source": [
    "d_v = ['d_' + v for v in variables]\n",
    "dfs['2020', freq][d_v] = ((dfs['2020', freq][variables].values -\n",
    "                           dfs['2019', freq][variables].values) /\n",
    "                          estimate(dfs['2019', freq][variables].values)) * 100"
   ]
  },
  {
   "cell_type": "code",
   "execution_count": null,
   "metadata": {
    "ExecuteTime": {
     "end_time": "2021-04-27T21:13:49.423205Z",
     "start_time": "2021-04-27T21:13:48.984651Z"
    }
   },
   "outputs": [],
   "source": [
    "display(dfs['2020', freq][d_v].describe().T)\n",
    "display(dfs['2020', freq][d_v].groupby('datetime').describe())"
   ]
  },
  {
   "cell_type": "markdown",
   "metadata": {},
   "source": [
    "### Histrogram"
   ]
  },
  {
   "cell_type": "code",
   "execution_count": null,
   "metadata": {
    "ExecuteTime": {
     "end_time": "2021-04-27T21:13:49.426114Z",
     "start_time": "2021-04-27T21:13:49.424084Z"
    }
   },
   "outputs": [],
   "source": [
    "if freq == 'd':\n",
    "    nrows, ncols = 31, 12\n",
    "    xmin, xmax = -20, 20\n",
    "elif freq == 'w':\n",
    "    nrows, ncols = 8, 7\n",
    "    xmin, xmax = -50, 50\n",
    "else:\n",
    "    nrows, ncols = 4, 3  \n",
    "    xmin, xmax = -200, 200"
   ]
  },
  {
   "cell_type": "code",
   "execution_count": null,
   "metadata": {
    "ExecuteTime": {
     "end_time": "2021-04-27T21:13:49.834476Z",
     "start_time": "2021-04-27T21:13:49.426882Z"
    }
   },
   "outputs": [],
   "source": [
    "fig, ax = plt.subplots(1, 2, figsize=(13, 6))\n",
    "for v, var in enumerate(d_v):\n",
    "    dfs['2020', freq][var].hist(bins=100, ax=ax[v])\n",
    "    ax[v].set_title('{} (in {})'.format(var, units[v]))\n",
    "fig.suptitle('Histogram of the difference (2020-2019)/2019 [%]')\n",
    "plt.show()"
   ]
  },
  {
   "cell_type": "code",
   "execution_count": null,
   "metadata": {
    "ExecuteTime": {
     "end_time": "2021-04-27T21:14:06.242935Z",
     "start_time": "2021-04-27T21:13:49.835718Z"
    }
   },
   "outputs": [],
   "source": [
    "for v, var in enumerate(variables):\n",
    "    fig, axs = plt.subplots(nrows, ncols, sharex=True, sharey=True, figsize=(13, 8))\n",
    "    fig.suptitle('Histograms for {} difference at each {} (2020-2019)/2019 [%]'.format(var, freq))\n",
    "    axs[0, 0].set_xlim(xmin - 6*v*xmin, xmax + 6*v*xmin)\n",
    "    axs = axs.flatten()\n",
    "    x = dfs['2020', freq][['athlete', 'd_'+var]].pivot(columns='athlete')['d_'+var].T\n",
    "    axs = x.hist(bins=100, figsize=(13, 9), ax=axs[:x.shape[1]])\n",
    "    for ax in axs:\n",
    "        ax.set_title('')\n",
    "    plt.tight_layout(h_pad=.05, w_pad=.05)\n",
    "    plt.show()"
   ]
  },
  {
   "cell_type": "markdown",
   "metadata": {},
   "source": [
    "## Volume of training: average and 95% confidence interval"
   ]
  },
  {
   "cell_type": "markdown",
   "metadata": {},
   "source": [
    "### Calculus of central tendency and confidence interval for each year"
   ]
  },
  {
   "cell_type": "code",
   "execution_count": null,
   "metadata": {
    "ExecuteTime": {
     "end_time": "2021-04-27T21:21:13.962148Z",
     "start_time": "2021-04-27T21:14:06.244043Z"
    },
    "scrolled": false
   },
   "outputs": [],
   "source": [
    "dfsci, dfs0ci = dict(), dict()\n",
    "\n",
    "for var in variables:\n",
    "    for year in years:\n",
    "        dfsci[year, freq, var] = m_ci95df(y=dfs[year, freq][var],\n",
    "                                          estimate=estimate, level=level, method=method)\n",
    "        dfs0ci[year, freq, var] = m_ci95df(y=dfs0[year, freq][var],\n",
    "                                           estimate=estimate, level=level, method=method)\n",
    "        for gender in genders:\n",
    "            for age in ages:\n",
    "                x = dfs[year, freq][(dfs[year, freq]['gender'] == gender) &\n",
    "                                    (dfs[year, freq]['age_group'] == age)][var]\n",
    "                dfsci[year, freq, gender, age, var] = m_ci95df(y=x, estimate=estimate,\n",
    "                                                               level=level, method=method)\n",
    "                x = dfs0[year, freq][(dfs0[year, freq]['gender'] == gender) &\n",
    "                                     (dfs0[year, freq]['age_group'] == age)][var]\n",
    "                dfs0ci[year, freq, gender, age, var] = m_ci95df(y=x, estimate=estimate,\n",
    "                                                                level=level, method=method)             "
   ]
  },
  {
   "cell_type": "markdown",
   "metadata": {},
   "source": [
    "### Calculate differences between years"
   ]
  },
  {
   "cell_type": "code",
   "execution_count": null,
   "metadata": {
    "ExecuteTime": {
     "end_time": "2021-04-27T21:22:56.509654Z",
     "start_time": "2021-04-27T21:21:13.963083Z"
    },
    "lang": "en"
   },
   "outputs": [],
   "source": [
    "dfscid = dict()\n",
    "nathletesd = dict()\n",
    "# store old index\n",
    "dfs['2019', freq]['index'] = dfs['2019', freq].index\n",
    "dfs['2020', freq]['index'] = dfs['2020', freq].index\n",
    "days = np.r_[0, np.cumsum(dfs['2019', 'm'].index.unique().daysinmonth.values)[:]]\n",
    "# change the index\n",
    "idx = dfs['2019', freq].index.dayofyear\n",
    "dfs['2019', freq].index = idx\n",
    "dfs['2020', freq].index = idx\n",
    "\n",
    "for var in variables:\n",
    "    dfscid[freq, var] = m_ci95df(100 * ((dfs['2020', freq][var] - dfs['2019', freq][var]) /\n",
    "                                        estimate(dfs['2019', freq][var])),\n",
    "                                 estimate=estimate, level=level, method=method)\n",
    "\n",
    "    nathletesd[freq, var] = pd.Series(((nathletes['2020', freq].values - nathletes['2019', freq].values) /\n",
    "                                     estimate(nathletes['2019', freq])) * 100,\n",
    "                                     index=dfscid[freq, var].index)\n",
    "\n",
    "    for gender in genders:\n",
    "        for age in ages:\n",
    "            idx = (dfs['2020', freq]['gender'] == gender) & (dfs['2020', freq]['age_group'] == age)\n",
    "            x = 100 * ((dfs['2020', freq][idx][var] - dfs['2019', freq][idx][var]) /\n",
    "                       estimate(dfs['2019', freq][idx][var]))\n",
    "            dfscid[freq, gender, age, var] = m_ci95df(x, estimate=estimate, level=level, method=method)   \n",
    "\n",
    "            nathletesd[freq, gender, age, var] = pd.Series(((nathletes['2020', freq, gender, age].values -  \n",
    "                                                      nathletes['2019', freq, gender, age].values) /\n",
    "                                                      estimate(nathletes['2019', freq, gender, age]))\n",
    "                                                      * 100, index=dfscid[freq, var].index)"
   ]
  },
  {
   "cell_type": "code",
   "execution_count": null,
   "metadata": {
    "ExecuteTime": {
     "end_time": "2021-04-27T21:22:56.650640Z",
     "start_time": "2021-04-27T21:22:56.510589Z"
    },
    "scrolled": false
   },
   "outputs": [],
   "source": [
    "for var in variables:\n",
    "    print(var)\n",
    "    display(dfscid[freq, var]['m'].describe().to_frame(name='All athletes').T)\n",
    "    display(nathletesd[freq, var].describe().to_frame(name='N All athletes').T)\n",
    "    for gender in genders:\n",
    "        for age in ages:\n",
    "            display(dfscid[freq, gender, age, var]['m'].describe().to_frame(name=gender + age).T)\n",
    "            display(nathletesd[freq, gender, age, var].describe().to_frame(name='N All athletes').T)"
   ]
  },
  {
   "cell_type": "code",
   "execution_count": null,
   "metadata": {
    "ExecuteTime": {
     "end_time": "2021-04-27T21:22:56.789854Z",
     "start_time": "2021-04-27T21:22:56.653516Z"
    },
    "scrolled": false
   },
   "outputs": [],
   "source": [
    "for var in variables:\n",
    "    print(var)\n",
    "    display(nathletesd[freq, var].describe().to_frame().T)    \n",
    "    display(nathletesd[freq, var].groupby('datetime').describe())"
   ]
  },
  {
   "cell_type": "markdown",
   "metadata": {},
   "source": [
    "#### Statistical inference"
   ]
  },
  {
   "cell_type": "code",
   "execution_count": null,
   "metadata": {
    "ExecuteTime": {
     "end_time": "2021-04-27T21:22:57.621846Z",
     "start_time": "2021-04-27T21:22:56.791693Z"
    }
   },
   "outputs": [],
   "source": [
    "# demonstration\n",
    "spm = spmtest(dfs['2020', freq][['athlete', variables[0]]].pivot(columns='athlete')[variables[0]].T,\n",
    "              dfs['2019', freq][['athlete', variables[0]]].pivot(columns='athlete')[variables[0]].T)\n",
    "spmi = spm.inference(alpha, two_tailed=two_tailed)\n",
    "print(spmi)\n",
    "# print(snpmi.clusters)\n",
    "\n",
    "ax = plt.axes((0.55, 0.15, 0.7, 0.8))\n",
    "spmi.plot()\n",
    "spmi.plot_threshold_label(fontsize=8)\n",
    "spmi.plot_p_values(size=10)\n",
    "ax.set_xlabel('Time (weeks)')\n",
    "plt.show()"
   ]
  },
  {
   "cell_type": "code",
   "execution_count": null,
   "metadata": {
    "ExecuteTime": {
     "end_time": "2021-04-27T21:23:01.185128Z",
     "start_time": "2021-04-27T21:22:57.623051Z"
    }
   },
   "outputs": [],
   "source": [
    "spmi = dict()\n",
    "for var in variables:\n",
    "    spm = spmtest(dfs['2020', freq][['athlete', var]].pivot(columns='athlete')[var].T,\n",
    "                  dfs['2019', freq][['athlete', var]].pivot(columns='athlete')[var].T)\n",
    "    spmi[freq, var] = spm.inference(alpha=alpha, two_tailed=two_tailed)\n",
    "    for gender in genders:\n",
    "        for age in ages:\n",
    "            idx = (dfs['2020', freq]['gender']==gender) & (dfs['2020', freq]['age_group']==age)\n",
    "            spm = spmtest(dfs['2020', freq][idx][['athlete', var]].pivot(columns='athlete')[var].T,\n",
    "                          dfs['2019', freq][idx][['athlete', var]].pivot(columns='athlete')[var].T)\n",
    "            spmi[freq, gender, age, var] = spm.inference(alpha=alpha, two_tailed=two_tailed)   "
   ]
  },
  {
   "cell_type": "markdown",
   "metadata": {},
   "source": [
    "### Plots"
   ]
  },
  {
   "cell_type": "code",
   "execution_count": null,
   "metadata": {
    "ExecuteTime": {
     "end_time": "2021-04-27T21:23:08.640335Z",
     "start_time": "2021-04-27T21:23:01.186759Z"
    }
   },
   "outputs": [],
   "source": [
    "def repeat_last(df, freq):\n",
    "    \"\"\"Repeat last point in data for plotting.\n",
    "    \"\"\"    \n",
    "    x = df.iloc[-1]\n",
    "    if freq == 'w':\n",
    "        x.name = x.name + 7\n",
    "        df = df.append(x)\n",
    "        t = df.index\n",
    "    elif freq == 'm':\n",
    "        x.name = x.name + 31\n",
    "        df = df.append(x)\n",
    "        t = df.index - 31\n",
    "    return t, df\n",
    "\n",
    "\n",
    "def plot(ax, axb, freq, df, n, c1=c1, c2=c2):\n",
    "    \"\"\"General plot.\n",
    "    \"\"\"\n",
    "    t, df = repeat_last(df, freq)\n",
    "    n = np.r_[n, n[-1]]\n",
    "    ax.fill_between(t, df['c95inf'], df['c95sup'],\n",
    "                    color=c1, alpha=.7, clip_on=False)  # , step='post'\n",
    "    sns.lineplot(x=t, y=df['m'], color=c1, ci=None, alpha=1, \n",
    "                 legend=False, lw=3, ax=ax, clip_on=False) # , drawstyle='steps-post'\n",
    "    axb.plot(t, n, color=c2, lw=3, alpha=1, clip_on=False)  # , drawstyle='steps-post'\n",
    "\n",
    "\n",
    "weight = 'normal'\n",
    "x = days\n",
    "\n",
    "for v, var in enumerate(variables):\n",
    "    fig = plt.figure(constrained_layout=True, figsize=(12, 8))\n",
    "    gs = fig.add_gridspec(3, 3)\n",
    "    ax0 = fig.add_subplot(gs[0, :])\n",
    "    ax1 = fig.add_subplot(gs[1, 0])\n",
    "    ax2 = fig.add_subplot(gs[1, 1])\n",
    "    ax3 = fig.add_subplot(gs[1, 2])\n",
    "    ax4 = fig.add_subplot(gs[2, 0])\n",
    "    ax5 = fig.add_subplot(gs[2, 1])\n",
    "    ax6 = fig.add_subplot(gs[2, 2])\n",
    "    ax0b = ax0.twinx()  # ax0.get_shared_x_axes().get_siblings(ax0)[7]\n",
    "\n",
    "    ax0.axvline(x[3], c=c3, alpha=.8, ls=':', lw=1)\n",
    "    ax0.axvline(x[6], c=c3, alpha=.8, ls=':', lw=1)\n",
    "    ax0.axvline(x[9], c=c3, alpha=.8, ls=':', lw=1)\n",
    "    ax0.axhline(0, c=c3, alpha=.8, lw=2)\n",
    "\n",
    "    if 1:\n",
    "        plot(ax0, ax0b, freq, dfscid[freq, var], nathletesd[freq, var].values, c1, c2)\n",
    "    else:\n",
    "        width = 4\n",
    "        t = dfscid[freq, var].index\n",
    "        #yerr = np.diff(ci, axis=0).flatten() * norm[days].values/2\n",
    "        ax0.bar(t - width/2, dfscid[freq, var]['m'], width=width, linewidth=0, color=c1)\n",
    "        ax0b.bar(t + width/2, r_a, width=width, linewidth=0, color=c2)\n",
    "\n",
    "    # plot coronavirus policy response index\n",
    "    ax0c = ax0.twinx()\n",
    "    c19idx.index = dfscid[freq, var].index\n",
    "    t, c19idx2 = repeat_last(c19idx, freq)\n",
    "    ax0c.plot(t, c19idx2['si_w'], color=c4, alpha=.8, \n",
    "              lw=3, ls='-', clip_on=False)\n",
    "    ax0c.set_ylim([100, -100])\n",
    "    ax0c.set_yticks([0, 50, 100])    \n",
    "\n",
    "    # spm1d plot\n",
    "    # lines stretches from lineoffset - linelength/2 to lineoffset + linelength/2\n",
    "    if freq == 'd':\n",
    "        factor = 1\n",
    "    elif freq == 'w':\n",
    "        factor = 7\n",
    "    elif freq == 'm':\n",
    "        factor = 31\n",
    "    s2020 = np.where(spmi[freq, var].z > spmi[freq, var].zstar)[0] \n",
    "    s2020 = (t[s2020] + factor/2, ) \n",
    "    s2019 = np.where(spmi[freq, var].z < -spmi[freq, var].zstar)[0]\n",
    "    s2019 = (t[s2019] + factor/2, ) \n",
    "    ax0.eventplot(-np.ones_like(s2020)*52, colors=c1, lineoffsets=s2020,\n",
    "                  linelengths=[factor], orientation='vertical',\n",
    "                  linewidth=6, alpha=0.4, clip_on=False)\n",
    "    ax0.eventplot(-np.ones_like(s2019)*58, colors=c1, lineoffsets=s2019,\n",
    "                  linelengths=[factor], orientation='vertical',\n",
    "                  linewidth=6, alpha=0.4, clip_on=False)\n",
    "\n",
    "    axes = np.array([[ax1, ax2, ax3], [ax4, ax5, ax6]])\n",
    "    axesb = np.empty_like(axes)\n",
    "    letter = np.array([['b', 'c', 'd'], ['e', 'f', 'g']])\n",
    "    for g, gender in enumerate(genders):\n",
    "        for a, age in enumerate(ages):\n",
    "            axesb[g, a] = axes[g, a].twinx()\n",
    "            axes[g, a].axvline(x[3], c=c3, alpha=.8, ls=':', lw=1)\n",
    "            axes[g, a].axvline(x[6], c=c3, alpha=.8, ls=':', lw=1)\n",
    "            axes[g, a].axvline(x[9], c=c3, alpha=.8, ls=':', lw=1)\n",
    "            axes[g, a].axhline(0, c=c3, alpha=.8, lw=2)\n",
    "            plot(axes[g, a], axesb[g, a], freq, dfscid[freq, gender, age, var],\n",
    "                  nathletesd[freq, gender, age, var].values, c1, c2)\n",
    "            # spm1d plot\n",
    "            # lines stretches from lineoffset - linelength/2 to lineoffset + linelength/2\n",
    "            s2020 = np.where(spmi[freq, gender, age, var].z >\n",
    "                             spmi[freq, gender, age, var].zstar)[0] \n",
    "            s2020 = (t[s2020] + factor/2, ) \n",
    "            s2019 = np.where(spmi[freq, gender, age, var].z <\n",
    "                             -spmi[freq, gender, age, var].zstar)[0]\n",
    "            s2019 = (t[s2019] + factor/2, )    \n",
    "            axes[g, a].eventplot(-np.ones_like(s2020)*52, colors=c1, lineoffsets=s2020,\n",
    "                                 linelengths=[factor], orientation='vertical',\n",
    "                                 linewidth=6, alpha=0.4, clip_on=False)\n",
    "            axes[g, a].eventplot(-np.ones_like(s2019)*58, colors=c1, lineoffsets=s2019,\n",
    "                                 linelengths=[factor], orientation='vertical',\n",
    "                                 linewidth=6, alpha=0.4, clip_on=False)\n",
    "            # aesthetics\n",
    "            axes[g, a].text(-.045, 1.025, letter[g, a], ha='right', weight=weight,\n",
    "                            fontsize=14, c='k', transform=axes[g, a].transAxes)\n",
    "            axes[g, a].text(0.02, .9, '{:.0f} {}'.format(np.round(estimate(\n",
    "                            dfsci['2020', freq, gender, age, var]['m']), 0), units[v]),\n",
    "                            ha='left', weight=weight, fontsize=14, c=c1,\n",
    "                            transform=axes[g, a].transAxes)\n",
    "            axes[g, a].text(.98, .9, '{:,}'.format(nruns['2020', freq, gender, age].size),\n",
    "                            ha='right', weight=weight, fontsize=14, c=c2,\n",
    "                            transform=axes[g, a].transAxes)\n",
    "            axes[g, a].text(0.02, .78, '{:.0f} {}'.format(np.round(estimate(\n",
    "                            dfsci['2019', freq, gender,age, var]['m']), 0), units[v]),\n",
    "                            ha='left', weight=weight, fontsize=14, c=c1,\n",
    "                            transform=axes[g, a].transAxes)\n",
    "            axes[g, a].text(.98, .78, '{:,}'.format(nruns['2019', freq, gender, age].size),\n",
    "                            ha='right', weight=weight, fontsize=14, c=c2,\n",
    "                            transform=axes[g, a].transAxes)\n",
    "            gender2 = 'Women' if gender == 'F' else 'Men'\n",
    "            age2 = age + ' yr.'\n",
    "            axes[g, a].set_title('{} {}'.format(gender2, age2), fontsize=14,\n",
    "                                 c=c3, ha='center', y=1)\n",
    "            axes[g, a].set_xticks(x)\n",
    "            if g == 0:\n",
    "                axes[g, a].set_xticklabels([])\n",
    "            if g == 1:\n",
    "                labels = ['  ' + m[0] for m in months]\n",
    "                labels.append('')\n",
    "                axes[g, a].set_xticklabels(labels, rotation=0, fontsize=14, ha='left')\n",
    "            if a == 0:\n",
    "                axes[g, a].set_ylabel('')\n",
    "                #axesb[g, a].axes.get_yaxis().set_visible(False)\n",
    "            if a > 0:\n",
    "                axes[g, a].set_yticklabels([])\n",
    "                axes[g, a].set_ylabel('')\n",
    "                #axes[g, a].spines['left'].set_visible(False)\n",
    "            if a == 1:\n",
    "                #axes[g, a].axes.get_yaxis().set_visible(False)\n",
    "                #axesb[g, a].axes.get_yaxis().set_visible(False)\n",
    "                pass\n",
    "            if a == 2:\n",
    "                #axes[g, a].axes.get_yaxis().set_visible(False)\n",
    "                pass\n",
    "            if a < 2:\n",
    "                axesb[g, a].set_yticklabels([])\n",
    "                axesb[g, a].set_ylabel('')\n",
    "                #axesb[g, a].spines['right'].set_visible(False)\n",
    "            if g == 1 & a == 1:\n",
    "                axes[g, a].set_xlabel('Month of the year', c=c3, fontsize=16)\n",
    "                axes[g, a].xaxis.set_label_coords(.5, -.3)\n",
    "            else:\n",
    "                axes[g, a].set_xlabel('')\n",
    "\n",
    "            axes[g, a].tick_params(axis='x', colors=c3)\n",
    "            axes[g, a].spines['right'].set_visible(False)\n",
    "            axes[g, a].spines['top'].set_visible(False)\n",
    "            axesb[g, a].spines['bottom'].set_visible(False)\n",
    "            axesb[g, a].spines['left'].set_visible(False)\n",
    "            axesb[g, a].spines['top'].set_visible(False)\n",
    "            axes[g, a].spines['bottom'].set_color(c3)\n",
    "            axes[g, a].spines['left'].set_color(c1)\n",
    "            axes[g, a].tick_params(axis='y', colors=c1)\n",
    "            axesb[g, a].spines['right'].set_color(c2)\n",
    "            axesb[g, a].tick_params(axis='y', colors=c2)\n",
    "            axes[g, a].spines['bottom'].set_position(('axes', -0.15))\n",
    "            axes[g, a].spines['left'].set_position(('axes', -0.04))\n",
    "            axesb[g, a].spines['right'].set_position(('axes', 1.04))\n",
    "            axes[g, a].xaxis.set_ticks_position('bottom')\n",
    "            axes[g, a].yaxis.set_ticks_position('left')\n",
    "            axesb[g, a].xaxis.set_ticks_position('bottom')\n",
    "            axesb[g, a].yaxis.set_ticks_position('right')   \n",
    "            axes[g, a].tick_params(axis='y', which='major', labelsize=14)\n",
    "            axesb[g, a].tick_params(axis='y', which='major', labelsize=14)\n",
    "\n",
    "    ax0.set_ylabel('')\n",
    "    ax0.set_xlabel('')\n",
    "    ax0.xaxis.set_ticks_position('bottom')\n",
    "    ax0.spines['bottom'].set_color(c3)\n",
    "    ax0.spines['top'].set_visible(False)\n",
    "    ax0.spines['right'].set_visible(False)\n",
    "    ax0.spines['left'].set_color(c1)\n",
    "    ax0.tick_params(axis='x', colors=c3)\n",
    "    ax0.tick_params(axis='y', colors=c1)\n",
    "    ax0.spines['left'].set_position(('axes', -0.012))\n",
    "    ax0.spines['bottom'].set_position(('axes', -0.15))\n",
    "\n",
    "    ax0b.spines['bottom'].set_visible(False)\n",
    "    ax0b.spines['top'].set_visible(False)\n",
    "    ax0b.spines['left'].set_visible(False)\n",
    "    ax0b.spines['right'].set_color(c2)\n",
    "    ax0b.spines['right'].set_position(('axes', 1.012))\n",
    "    ax0b.tick_params(axis='y', colors=c2)\n",
    "\n",
    "    ax0c.spines['bottom'].set_visible(False)\n",
    "    ax0c.spines['top'].set_visible(False)\n",
    "    ax0c.spines['left'].set_visible(False)\n",
    "    ax0c.spines['right'].set_color(c4)\n",
    "    ax0c.spines['right'].set_position(('axes', 1.095))\n",
    "    ax0c.tick_params(axis='y', colors=c4)\n",
    "    ax0c.tick_params(axis='both', which='major', labelsize=14)\n",
    "    ax0c.set_ylabel('2020 stringency index', rotation=-90, color=c4, fontsize=16)\n",
    "    ax0c.yaxis.set_label_coords(1.16, .45)\n",
    "    ax0c.grid(False, axis='both')\n",
    "\n",
    "    ax0.set_title('All athletes', fontsize=16, c=c3, ha='center')\n",
    "    ax0.text(.065, 1.04, 'Mean {}'.format(var), ha='center', weight=weight,\n",
    "             fontsize=14, c=c1, transform=ax0.transAxes)\n",
    "    ax0.text(.91, 1.04, 'Number of athletes', ha='center', weight=weight,\n",
    "             fontsize=14, c=c2, transform=ax0.transAxes)\n",
    "    ax0.text(-.0155, 1.025, 'a', ha='right', weight=weight,\n",
    "             fontsize=14, c='k', transform=ax0.transAxes)\n",
    "    ax0.text(0.014, .9, '2020:', ha='left', weight=weight,\n",
    "             fontsize=14, c=c3, transform=ax0.transAxes)\n",
    "    ax0.text(0.07, .9, '{:.0f} {}'.format(\n",
    "        np.round(estimate(dfsci['2020', freq, var]['m']), 0), units[v]),\n",
    "             ha='left', weight=weight, fontsize=14, c=c1, transform=ax0.transAxes)\n",
    "    ax0.text(0.91, .9, '2020:', ha='right', weight=weight,\n",
    "             fontsize=14, c=c3, transform=ax0.transAxes)\n",
    "    ax0.text(.975, .9,  '{:,}'.format(nruns['2020', 'd'].size), ha='right', weight=weight,\n",
    "             fontsize=14, c=c2, transform=ax0.transAxes)\n",
    "    ax0.text(0.014, .78, '2019:', ha='left', weight=weight,\n",
    "             fontsize=14, c=c3, transform=ax0.transAxes)\n",
    "    ax0.text(0.07, .78, '{:.0f} {}'.format(\n",
    "             np.round(estimate(dfsci['2019', freq, var]['m']), 0), units[v]),\n",
    "             ha='left', weight=weight, fontsize=14, c=c1, transform=ax0.transAxes)\n",
    "    ax0.text(0.91, .78, '2019:', ha='right', weight=weight,\n",
    "             fontsize=14, c=c3, transform=ax0.transAxes)\n",
    "    ax0.text(.975, .78, '{:,}'.format(nruns['2019', 'd'].size), ha='right', weight=weight,\n",
    "             fontsize=14, c=c2, transform=ax0.transAxes)\n",
    "\n",
    "    if freq == 'd':\n",
    "        sfrq = 'Daily'\n",
    "    elif freq == 'w':\n",
    "        sfrq = 'Weekly'\n",
    "    elif freq == 'm':\n",
    "        sfrq = 'Monthly'\n",
    "    text = '{} running volume difference between 2020 and 2019 [%]'.format(sfrq)\n",
    "    #text = sfrq + ' running volume $\\mathregular{(V_{2020}-V_{2019})\\:/\\:\\overline{V_{2019}}}$  [%]'\n",
    "    ax1.set_ylabel(text, color=c1, fontsize=16)\n",
    "    ax1.yaxis.set_label_coords(-.18, .5)\n",
    "    text = '{} number of athletes difference between 2020 and 2019 [%]'.format(sfrq)\n",
    "    #text = sfrq + ' number of athletes $\\mathregular{(N_{2020}-N_{2019})\\:/\\:\\overline{N_{2019}}}$  [%]'\n",
    "    axesb[0, 2].set_ylabel(text, rotation=-90, color=c2, fontsize=16)\n",
    "    axesb[0, 2].yaxis.set_label_coords(1.27, .5)\n",
    "    ax0.tick_params(axis='both', which='major', labelsize=14)\n",
    "    ax0b.tick_params(axis='both', which='major', labelsize=14)\n",
    "    ax0.set_xticks(x)\n",
    "    labels = [m[0:3] for m in months]\n",
    "    labels.append('')\n",
    "    ax0.set_xticklabels(labels, rotation=0, fontsize=14, ha='left')\n",
    "\n",
    "    axes2 = np.r_[ax0, ax1, ax2, ax3, ax4, ax5, ax6]\n",
    "    axesb2 = np.r_[ax0b, axesb.flatten()]\n",
    "    for ax, axb in zip(axes2, axesb2):\n",
    "        ax.grid(False, axis='both')\n",
    "        axb.grid(False, axis='both')\n",
    "        ax.set_xlim([0, 365])\n",
    "        ax.set_ylim([-50, 50])\n",
    "        ax.set_yticks([-40, -20, 0, 20, 40])\n",
    "        axb.set_ylim([-25, 25])\n",
    "        axb.set_yticks([-20, -10, 0, 10, 20])\n",
    "    fig.savefig(os.path.join(path2, 'figure1_{}.svg'.format(var)), dpi=600)\n",
    "    fig.savefig(os.path.join(path2, 'figure1_{}.png'.format(var)), dpi=600)\n",
    "    plt.show()"
   ]
  },
  {
   "cell_type": "markdown",
   "metadata": {},
   "source": [
    "#### Infographic"
   ]
  },
  {
   "cell_type": "code",
   "execution_count": null,
   "metadata": {
    "ExecuteTime": {
     "end_time": "2021-04-27T21:23:17.717313Z",
     "start_time": "2021-04-27T21:23:08.641398Z"
    },
    "scrolled": false
   },
   "outputs": [],
   "source": [
    "def repeat_last(df, freq):\n",
    "    \"\"\"Repeat last point in data for plotting.\n",
    "    \"\"\"    \n",
    "    x = df.iloc[-1]\n",
    "    if freq == 'w':\n",
    "        x.name = x.name + 7\n",
    "        df = df.append(x)\n",
    "        t = df.index\n",
    "    elif freq == 'm':\n",
    "        x.name = x.name + 31\n",
    "        df = df.append(x)\n",
    "        t = df.index - 31\n",
    "    return t, df\n",
    "\n",
    "\n",
    "def plot(ax, axb, freq, df, n, c1=c1, c2=c2):\n",
    "    \"\"\"General plot.\n",
    "    \"\"\"\n",
    "    t, df = repeat_last(df, freq)\n",
    "    n = np.r_[n, n[-1]]\n",
    "    ax.fill_between(t, df['c95inf'], df['c95sup'],\n",
    "                    color=c1, alpha=.7, clip_on=False)  # , step='post'\n",
    "    sns.lineplot(x=t, y=df['m'], color=c1, ci=None, alpha=1, \n",
    "                 legend=False, lw=4, ax=ax, clip_on=False) # , drawstyle='steps-post'\n",
    "    axb.plot(t, n, color=c2, lw=4, alpha=1, clip_on=False)  # , drawstyle='steps-post'\n",
    "\n",
    "\n",
    "weight = 'normal'\n",
    "x = days\n",
    "\n",
    "for v, var in enumerate(variables):\n",
    "    fig = plt.figure(constrained_layout=False, figsize=(13, 13))\n",
    "    gs = fig.add_gridspec(3, 3)\n",
    "    ax0 = fig.add_subplot(gs[0, :])\n",
    "    ax1 = fig.add_subplot(gs[1, 0])\n",
    "    ax2 = fig.add_subplot(gs[1, 1])\n",
    "    ax3 = fig.add_subplot(gs[1, 2])\n",
    "    ax4 = fig.add_subplot(gs[2, 0])\n",
    "    ax5 = fig.add_subplot(gs[2, 1])\n",
    "    ax6 = fig.add_subplot(gs[2, 2])\n",
    "    ax0b = ax0.twinx()  # ax0.get_shared_x_axes().get_siblings(ax0)[7]\n",
    "    ax0c = ax0.twinx()\n",
    "\n",
    "    #ax0.axvline(x[3], c=c3, alpha=.8, ls=':', lw=1)\n",
    "    #ax0.axvline(x[6], c=c3, alpha=.8, ls=':', lw=1)\n",
    "    #ax0.axvline(x[9], c=c3, alpha=.8, ls=':', lw=1)\n",
    "    ax0.axvspan(x[0], x[3], fc=c5, alpha=0.15)\n",
    "    ax0.axvspan(x[3], x[6], fc=c5, alpha=0.05)\n",
    "    ax0.axvspan(x[6], x[9], fc=c5, alpha=0.15)\n",
    "    ax0.axvspan(x[9], x[12], fc=c5, alpha=0.05)\n",
    "    ax0.axhline(0, c=c3, alpha=.8, lw=2)\n",
    "\n",
    "    if 1:\n",
    "        plot(ax0, ax0b, freq, dfscid[freq, var], nathletesd[freq, var].values, c1, c2)\n",
    "    else:\n",
    "        width = 4\n",
    "        t = dfscid[freq, var].index\n",
    "        #yerr = np.diff(ci, axis=0).flatten() * norm[days].values/2\n",
    "        ax0.bar(t - width/2, dfscid[freq, var]['m'], width=width, linewidth=0, color=c1)\n",
    "        ax0b.bar(t + width/2, r_a, width=width, linewidth=0, color=c2)\n",
    "\n",
    "    # plot coronavirus policy response index\n",
    "    c19idx.index = dfscid[freq, var].index\n",
    "    t, c19idx2 = repeat_last(c19idx, freq)\n",
    "    ax0c.plot(t, c19idx2['si_w'], color=c4, alpha=.8, \n",
    "              lw=4, ls='-', clip_on=False)\n",
    "    ax0c.set_ylim([100, -100])\n",
    "    ax0c.set_yticks([0, 50, 100])    \n",
    "\n",
    "    # spm1d plot\n",
    "    # lines stretches from lineoffset - linelength/2 to lineoffset + linelength/2\n",
    "    if freq == 'd':\n",
    "        factor = 1\n",
    "    elif freq == 'w':\n",
    "        factor = 7\n",
    "    elif freq == 'm':\n",
    "        factor = 31\n",
    "    s2020 = np.where(spmi[freq, var].z > spmi[freq, var].zstar)[0] \n",
    "    s2020 = (t[s2020] + factor/2, ) \n",
    "    s2019 = np.where(spmi[freq, var].z < -spmi[freq, var].zstar)[0]\n",
    "    s2019 = (t[s2019] + factor/2, ) \n",
    "    ax0.eventplot(-np.ones_like(s2020)*52, colors=c1, lineoffsets=s2020,\n",
    "                  linelengths=[factor], orientation='vertical',\n",
    "                  linewidth=6, alpha=0.4, clip_on=False)\n",
    "    ax0.eventplot(-np.ones_like(s2019)*58, colors=c1, lineoffsets=s2019,\n",
    "                  linelengths=[factor], orientation='vertical',\n",
    "                  linewidth=6, alpha=0.4, clip_on=False)\n",
    "\n",
    "    axes = np.array([[ax1, ax2, ax3], [ax4, ax5, ax6]])\n",
    "    axesb = np.empty_like(axes)\n",
    "    letter = np.array([['B', 'C', 'D'], ['E', 'F', 'G']])\n",
    "    for g, gender in enumerate(genders):\n",
    "        for a, age in enumerate(ages):\n",
    "            axesb[g, a] = axes[g, a].twinx()\n",
    "            #axes[g, a].axvline(x[3], c=c3, alpha=.8, ls=':', lw=1)\n",
    "            #axes[g, a].axvline(x[6], c=c3, alpha=.8, ls=':', lw=1)\n",
    "            #axes[g, a].axvline(x[9], c=c3, alpha=.8, ls=':', lw=1)\n",
    "            axes[g, a].axvspan(x[0], x[3], fc=c5, alpha=0.15)\n",
    "            axes[g, a].axvspan(x[3], x[6], fc=c5, alpha=0.05)\n",
    "            axes[g, a].axvspan(x[6], x[9], fc=c5, alpha=0.15)\n",
    "            axes[g, a].axvspan(x[9], x[12], fc=c5, alpha=0.05)\n",
    "            axes[g, a].axhline(0, c=c3, alpha=.8, lw=2)\n",
    "            plot(axes[g, a], axesb[g, a], freq, dfscid[freq, gender, age, var],\n",
    "                 nathletesd[freq, gender, age, var].values, c1, c2)\n",
    "            # spm1d plot\n",
    "            # lines stretches from lineoffset - linelength/2 to lineoffset + linelength/2\n",
    "            s2020 = np.where(spmi[freq, gender, age, var].z >\n",
    "                             spmi[freq, gender, age, var].zstar)[0] \n",
    "            s2020 = (t[s2020] + factor/2, ) \n",
    "            s2019 = np.where(spmi[freq, gender, age, var].z <\n",
    "                             -spmi[freq, gender, age, var].zstar)[0]\n",
    "            s2019 = (t[s2019] + factor/2, )    \n",
    "            axes[g, a].eventplot(-np.ones_like(s2020)*52, colors=c1, lineoffsets=s2020,\n",
    "                                 linelengths=[factor], orientation='vertical',\n",
    "                                 linewidth=6, alpha=0.4, clip_on=False)\n",
    "            axes[g, a].eventplot(-np.ones_like(s2019)*58, colors=c1, lineoffsets=s2019,\n",
    "                                 linelengths=[factor], orientation='vertical',\n",
    "                                 linewidth=6, alpha=0.4, clip_on=False)\n",
    "            # aesthetics\n",
    "            #axes[g, a].text(-.04, 1.02, letter[g, a], ha='right', weight=weight,\n",
    "            #                fontsize=16, c='k', transform=axes[g, a].transAxes)\n",
    "            axes[g, a].text(0.02, .9, '{:.0f} {}'.format(np.round(estimate(\n",
    "                            dfsci['2020', freq, gender, age, var]['m']), 0), units[v]),\n",
    "                            ha='left', weight=weight, fontsize=14, c=c1,\n",
    "                            transform=axes[g, a].transAxes)\n",
    "            axes[g, a].text(.98, .9, '{:,}'.format(nruns['2020', freq, gender, age].size),\n",
    "                            ha='right', weight=weight, fontsize=14, c=c2,\n",
    "                            transform=axes[g, a].transAxes)\n",
    "            axes[g, a].text(0.02, .78, '{:.0f} {}'.format(np.round(estimate(\n",
    "                            dfsci['2019', freq, gender, age, var]['m']), 0), units[v]),\n",
    "                            ha='left', weight=weight, fontsize=14, c=c1,\n",
    "                            transform=axes[g, a].transAxes)\n",
    "            axes[g, a].text(.98, .78, '{:,}'.format(nruns['2019', freq, gender, age].size),\n",
    "                            ha='right',  weight=weight, fontsize=14, c=c2,\n",
    "                            transform=axes[g, a].transAxes)\n",
    "            gender2 = 'Women' if gender == 'F' else 'Men'\n",
    "            age2 = age + ' yr.'\n",
    "            axes[g, a].set_title('{} {}'.format(gender2, age2), fontsize=14,\n",
    "                                 c=c3, ha='center', y=1)\n",
    "            axes[g, a].set_xticks(x)\n",
    "            if g == 0:\n",
    "                axes[g, a].axes.get_xaxis().set_visible(False)\n",
    "                axes[g, a].spines['bottom'].set_visible(False)\n",
    "                axes[g, a].set_xticklabels([])\n",
    "            if g == 1:\n",
    "                labels = ['  ' + m[0] for m in months]\n",
    "                labels.append('')\n",
    "                axes[g, a].set_xticklabels(labels, rotation=0, fontsize=14, ha='left')\n",
    "            if a == 0:\n",
    "                axes[g, a].set_ylabel('')\n",
    "                #axesb[g, a].axes.get_yaxis().set_visible(False)\n",
    "            if a > 0:\n",
    "                axes[g, a].set_yticklabels([])\n",
    "                axes[g, a].set_ylabel('')\n",
    "                #axes[g, a].spines['left'].set_visible(False)\n",
    "            if a == 1:\n",
    "                #axes[g, a].axes.get_yaxis().set_visible(False)\n",
    "                #axesb[g, a].axes.get_yaxis().set_visible(False)\n",
    "                pass\n",
    "            if a == 2:\n",
    "                #axes[g, a].axes.get_yaxis().set_visible(False)\n",
    "                pass\n",
    "            if a < 2:\n",
    "                axesb[g, a].set_yticklabels([])\n",
    "                axesb[g, a].set_ylabel('')\n",
    "                #axesb[g, a].spines['right'].set_visible(False)\n",
    "            if g == 1 & a == 1:\n",
    "                axes[g, a].set_xlabel('Month of the year', c=c3, fontsize=18)\n",
    "                axes[g, a].xaxis.set_label_coords(.5, -.28)\n",
    "            else:\n",
    "                axes[g, a].set_xlabel('')\n",
    "\n",
    "            axes[g, a].tick_params(axis='x', colors=c3)\n",
    "            axes[g, a].spines['right'].set_visible(False)\n",
    "            axes[g, a].spines['top'].set_visible(False)\n",
    "            axesb[g, a].spines['bottom'].set_visible(False)\n",
    "            axesb[g, a].spines['left'].set_visible(False)\n",
    "            axesb[g, a].spines['top'].set_visible(False)\n",
    "            axes[g, a].spines['bottom'].set_color(c3)\n",
    "            axes[g, a].spines['left'].set_color(c1)\n",
    "            axes[g, a].tick_params(axis='y', colors=c1)\n",
    "            axesb[g, a].spines['right'].set_color(c2)\n",
    "            axesb[g, a].tick_params(axis='y', colors=c2)\n",
    "            axes[g, a].spines['bottom'].set_position(('axes', -0.15))\n",
    "            axes[g, a].spines['left'].set_position(('axes', -0.04))\n",
    "            axesb[g, a].spines['right'].set_position(('axes', 1.04))\n",
    "            axes[g, a].xaxis.set_ticks_position('bottom')\n",
    "            axes[g, a].yaxis.set_ticks_position('left')\n",
    "            axesb[g, a].xaxis.set_ticks_position('bottom')\n",
    "            axesb[g, a].yaxis.set_ticks_position('right')   \n",
    "            axes[g, a].tick_params(axis='y', which='major', labelsize=14)\n",
    "            axesb[g, a].tick_params(axis='y', which='major', labelsize=14)\n",
    "\n",
    "    ax0.set_ylabel('')\n",
    "    ax0.set_xlabel('')\n",
    "    ax0.xaxis.set_ticks_position('bottom')\n",
    "    ax0.spines['bottom'].set_color(c3)\n",
    "    ax0.spines['top'].set_visible(False)\n",
    "    ax0.spines['right'].set_visible(False)\n",
    "    ax0.spines['left'].set_color(c1)\n",
    "    ax0.tick_params(axis='x', colors=c3)\n",
    "    ax0.tick_params(axis='y', colors=c1)\n",
    "    ax0.spines['left'].set_position(('axes', -0.012))\n",
    "    ax0.spines['bottom'].set_position(('axes', -0.15))\n",
    "\n",
    "    ax0b.spines['bottom'].set_visible(False)\n",
    "    ax0b.spines['top'].set_visible(False)\n",
    "    ax0b.spines['left'].set_visible(False)\n",
    "    ax0b.spines['right'].set_color(c2)\n",
    "    ax0b.spines['right'].set_position(('axes', 1.012))\n",
    "    ax0b.tick_params(axis='y', colors=c2)\n",
    "\n",
    "    ax0c.spines['bottom'].set_visible(False)\n",
    "    ax0c.spines['top'].set_visible(False)\n",
    "    ax0c.spines['left'].set_visible(False)\n",
    "    ax0c.spines['right'].set_color(c4)\n",
    "    ax0c.spines['right'].set_position(('axes', 1.12))\n",
    "    ax0c.tick_params(axis='y', colors=c4)\n",
    "    ax0c.tick_params(axis='both', which='major', labelsize=14)\n",
    "    ax0c.set_ylabel('2020 stringency index$^{[2]}$', rotation=-90, color=c4, fontsize=17)\n",
    "    ax0c.yaxis.set_label_coords(1.2, .44)\n",
    "    ax0c.grid(False, axis='both')\n",
    "\n",
    "    ax0.set_title('All athletes', fontsize=16, c=c3, ha='center')\n",
    "    #ax0.text(-.015, 1.02, 'A', ha='right', weight=weight,\n",
    "    #         fontsize=16, c='k', transform=ax0.transAxes)\n",
    "    ax0.text(.08, 1.04, 'Mean {}'.format(var), ha='center', weight=weight,\n",
    "             fontsize=16, c=c1, transform=ax0.transAxes)\n",
    "    ax0.text(.91, 1.04, 'Number of athletes', ha='center', weight=weight,\n",
    "             fontsize=16, c=c2, transform=ax0.transAxes)\n",
    "    ax0.text(0.01, .9, '2020:', ha='left', weight=weight,\n",
    "             fontsize=14, c=c3, transform=ax0.transAxes)\n",
    "    #ax0.text(0.055, .91, '$\\mathregular{\\overline{V}}$', \n",
    "    #         ha='left', weight=weight, fontsize=14, c=c1, transform=ax0.transAxes)\n",
    "    ax0.text(0.07, .9, '{:.0f} {}'.format(\n",
    "             np.round(estimate(dfsci['2020', freq, var]['m']), 0), units[v]),\n",
    "             ha='left', weight=weight, fontsize=14, c=c1, transform=ax0.transAxes)\n",
    "    ax0.text(0.915, .9, '2020:', ha='right', weight=weight,\n",
    "             fontsize=14, c=c3, transform=ax0.transAxes)\n",
    "    ax0.text(.985, .9,  '{:,}'.format(nruns['2020', 'd'].size), ha='right', weight=weight,\n",
    "             fontsize=14, c=c2, transform=ax0.transAxes)\n",
    "    ax0.text(0.01, .78, '2019:', ha='left', weight=weight,\n",
    "             fontsize=14, c=c3, transform=ax0.transAxes)\n",
    "    #ax0.text(0.055, .8, '$\\mathregular{\\overline{V}}$', \n",
    "    #         ha='left', weight=weight, fontsize=14, c=c1, transform=ax0.transAxes)\n",
    "    ax0.text(0.07, .78, '{:.0f} {}'.format(\n",
    "             np.round(estimate(dfsci['2019', freq, var]['m']), 0), units[v]),\n",
    "             ha='left', weight=weight, fontsize=14, c=c1, transform=ax0.transAxes)\n",
    "    ax0.text(0.915, .78, '2019:', ha='right', weight=weight,\n",
    "             fontsize=14, c=c3, transform=ax0.transAxes)\n",
    "    ax0.text(.985, .78, '{:,}'.format(nruns['2019', 'd'].size), ha='right', weight=weight,\n",
    "             fontsize=14, c=c2, transform=ax0.transAxes)\n",
    "\n",
    "    if freq == 'd':\n",
    "        sfrq = 'Daily'\n",
    "    elif freq == 'w':\n",
    "        sfrq = 'Weekly'\n",
    "    elif freq == 'm':\n",
    "        sfrq = 'Monthly'\n",
    "    text = '{} running volume difference between 2020 and 2019 [%]'.format(sfrq)\n",
    "    #text = sfrq + ' running volume $\\mathregular{(V_{2020}-V_{2019})\\:/\\:\\overline{V_{2019}}}$  [%]'\n",
    "    ax1.set_ylabel(text, color=c1, fontsize=19)\n",
    "    ax1.yaxis.set_label_coords(-.21, .5)\n",
    "    text = '{} number of athletes difference between 2020 and 2019 [%]'.format(sfrq)\n",
    "    #text = sfrq + ' number of athletes $\\mathregular{(N_{2020}-N_{2019})\\:/\\:\\overline{N_{2019}}}$  [%]'\n",
    "    axesb[0, 2].set_ylabel(text, rotation=-90, color=c2, fontsize=19)\n",
    "    axesb[0, 2].yaxis.set_label_coords(1.31, .5)\n",
    "    ax0.tick_params(axis='both', which='major', labelsize=14)\n",
    "    ax0b.tick_params(axis='both', which='major', labelsize=14)\n",
    "    ax0.set_xticks(x)\n",
    "    labels = [m[0:3] for m in months]\n",
    "    labels.append('')\n",
    "    ax0.set_xticklabels(labels, rotation=0, fontsize=14, ha='left')\n",
    "\n",
    "    axes2 = np.r_[ax0, ax1, ax2, ax3, ax4, ax5, ax6]\n",
    "    axesb2 = np.r_[ax0b, axesb.flatten()]\n",
    "    for ax, axb in zip(axes2, axesb2):\n",
    "        ax.grid(False, axis='both')\n",
    "        axb.grid(False, axis='both')\n",
    "        ax.set_xlim([0, 365])\n",
    "        ax.set_ylim([-50, 50])\n",
    "        ax.set_yticks([-40, -20, 0, 20, 40])\n",
    "        axb.set_ylim([-25, 25])\n",
    "        axb.set_yticks([-20, -10, 0, 10, 20])\n",
    "        #ax.patch.set_facecolor([.9, .9, .9])\n",
    "\n",
    "    #title = 'Worldwide weekly training of long distance running$^{[1]}$ in 2019 and 2020\\n' + \\\n",
    "    #        '— Associated effects of the COVID-19 pandemic —'\n",
    "    #fig.suptitle(title, color='w', fontsize=25, weight='semibold', x=.51, y=.985)\n",
    "\n",
    "    text = ['Worldwide weekly training of long-distance running$^{[1]}$ in 2019 and 2020']\n",
    "    fig.text(0.5, .96, text[0], fontsize=26, color='w', weight='semibold',\n",
    "             horizontalalignment='center')\n",
    "    text = ['A within-subject comparison for the investigation of the COVID-19 pandemic associated effects']\n",
    "    fig.text(0.5, .92, text[0], fontsize=20, color='w', weight='semibold',\n",
    "             style='italic', horizontalalignment='center')\n",
    "\n",
    "\n",
    "    #ax = fig.add_axes([0, 0.92, 1, .1])\n",
    "    #ax.xaxis.set_visible(False)\n",
    "    #ax.yaxis.set_visible(False)\n",
    "    #ax.set_zorder(0)\n",
    "    #ax.patch.set_alpha(0.5)\n",
    "    #ax.patch.set_color([.2, .2, .2])\n",
    "\n",
    "    fig.patches.extend([plt.Rectangle((0, .9), 1, .1, color=c5, fill=True, alpha=.9,\n",
    "                                      zorder=0, transform=fig.transFigure, figure=fig)])\n",
    "    fig.patches.extend([plt.Rectangle((0, 0), 1, .15, color=c5, fill=True, alpha=.9,\n",
    "                                      zorder=0, transform=fig.transFigure, figure=fig)])\n",
    "    fig.patches.extend([plt.Rectangle((0.014, 0.03), .015, .008, color=c1,\n",
    "                                      fill=True, alpha=.4,\n",
    "                                      zorder=10, transform=fig.transFigure, figure=fig)])\n",
    "\n",
    "    fig.text(0.01, .13, 'Notes:', fontsize=14, color='w', weight='normal')\n",
    "    text = [' [1]: Mean ($\\pm$ 99%CI) based on data of 9,259,153 running activities of 36,412 athletes.' +\n",
    "            ' All athletes ran at least one of the World Marathon Majors.']\n",
    "    fig.text(0.01, .11, text[0], fontsize=14, color='w', alpha=1, weight='normal')        \n",
    "    text = ['       Plots for all athletes and grouped by sex and age.' +\n",
    "            ' Data extracted by web scraping the athletes\\' public pages in' +\n",
    "            ' https://www.strava.com.']\n",
    "    fig.text(0.01, .09, text[0], fontsize=14, color='w', alpha=1, weight='normal')\n",
    "    text = [' [2]: 2020 stringency index is an average of government responses to' +\n",
    "            ' COVID-19 pandemic weighted by the number of athletes in each country.\\n' +\n",
    "            '       Data from https://ourworldindata.org/covid-government-stringency-index.']\n",
    "    fig.text(0.01, .05, text[0], fontsize=14, color='w', alpha=1, weight='normal')\n",
    "    text = ['     : The bars at the bottom of the plots indicate statistical ' +\n",
    "            'difference in running volume between the marked weeks of 2020 and 2019 (α=0.01).']\n",
    "    fig.text(0.01, .03, text[0], fontsize=14, color='w', alpha=1, weight='normal')\n",
    "    text = ['By: L. Afonseca, M. Duarte, and R. Watanabe.' +\n",
    "            ' More information in https://github.com/BMClab/covid19.']\n",
    "    fig.text(0.01, .01, text[0], fontsize=14, color='w', weight='normal')\n",
    "\n",
    "    #ax0.text(.01, -.1, '[3]', ha='right', weight='normal', fontsize=16, c=c1, transform=ax0.transAxes)\n",
    "\n",
    "    axes2[0].set_position([0.13, 0.70, 0.71, 0.17])\n",
    "    axes2[1].set_position([0.13, 0.45, 0.22, 0.17])\n",
    "    axes2[2].set_position([0.375, 0.45, 0.22, 0.17])\n",
    "    axes2[3].set_position([0.62, 0.45, 0.22, 0.17])\n",
    "    axes2[4].set_position([0.13, 0.23, 0.22, 0.17])\n",
    "    axes2[5].set_position([0.375, 0.23, 0.22, 0.17])\n",
    "    axes2[6].set_position([0.62, 0.23, 0.22, 0.17])\n",
    "\n",
    "    #fig.patch.set_facecolor([.9, .9, .9])\n",
    "    #fig.patch.set_edgecolor([.2, .2, .2])\n",
    "    #fig.patch.set_linewidth(5)\n",
    "\n",
    "    fig.savefig(os.path.join(path2, 'infographic_{}.svg'.format(var)), dpi=600)\n",
    "    fig.savefig(os.path.join(path2, 'infographic_{}.png'.format(var)), dpi=600)\n",
    "    plt.show()"
   ]
  },
  {
   "cell_type": "code",
   "execution_count": null,
   "metadata": {},
   "outputs": [],
   "source": []
  }
 ],
 "metadata": {
  "hide_input": false,
  "kernelspec": {
   "display_name": "Python 3",
   "language": "python",
   "name": "python3"
  },
  "language_info": {
   "codemirror_mode": {
    "name": "ipython",
    "version": 3
   },
   "file_extension": ".py",
   "mimetype": "text/x-python",
   "name": "python",
   "nbconvert_exporter": "python",
   "pygments_lexer": "ipython3",
   "version": "3.8.8"
  },
  "nbTranslate": {
   "displayLangs": [
    "*"
   ],
   "hotkey": "alt-t",
   "langInMainMenu": true,
   "sourceLang": "en",
   "targetLang": "fr",
   "useGoogleTranslate": true
  },
  "toc": {
   "base_numbering": 1,
   "nav_menu": {},
   "number_sections": true,
   "sideBar": true,
   "skip_h1_title": true,
   "title_cell": "Contents",
   "title_sidebar": "Contents",
   "toc_cell": true,
   "toc_position": {},
   "toc_section_display": true,
   "toc_window_display": false
  },
  "varInspector": {
   "cols": {
    "lenName": 16,
    "lenType": 16,
    "lenVar": 40
   },
   "kernels_config": {
    "python": {
     "delete_cmd_postfix": "",
     "delete_cmd_prefix": "del ",
     "library": "var_list.py",
     "varRefreshCmd": "print(var_dic_list())"
    },
    "r": {
     "delete_cmd_postfix": ") ",
     "delete_cmd_prefix": "rm(",
     "library": "var_list.r",
     "varRefreshCmd": "cat(var_dic_list()) "
    }
   },
   "position": {
    "height": "280px",
    "left": "793px",
    "right": "20px",
    "top": "121px",
    "width": "470px"
   },
   "types_to_exclude": [
    "module",
    "function",
    "builtin_function_or_method",
    "instance",
    "_Feature"
   ],
   "window_display": false
  }
 },
 "nbformat": 4,
 "nbformat_minor": 4
}
