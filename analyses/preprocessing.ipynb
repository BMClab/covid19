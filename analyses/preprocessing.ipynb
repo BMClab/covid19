{
 "cells": [
  {
   "cell_type": "markdown",
   "metadata": {},
   "source": [
    "# Data pre-processing  \n",
    "\n",
    "> [https://github.com/BMClab/covid19](https://github.com/BMClab/covid19)  \n",
    "> [Laboratory of Biomechanics and Motor Control](http://pesquisa.ufabc.edu.br/bmclab/)  \n",
    "> Federal University of ABC, Brazil"
   ]
  },
  {
   "cell_type": "markdown",
   "metadata": {
    "toc": true
   },
   "source": [
    "<h1>Contents<span class=\"tocSkip\"></span></h1>\n",
    "<div class=\"toc\"><ul class=\"toc-item\"><li><span><a href=\"#Setup\" data-toc-modified-id=\"Setup-1\"><span class=\"toc-item-num\">1&nbsp;&nbsp;</span>Setup</a></span><ul class=\"toc-item\"><li><span><a href=\"#Environment\" data-toc-modified-id=\"Environment-1.1\"><span class=\"toc-item-num\">1.1&nbsp;&nbsp;</span>Environment</a></span></li><li><span><a href=\"#Helping-functions\" data-toc-modified-id=\"Helping-functions-1.2\"><span class=\"toc-item-num\">1.2&nbsp;&nbsp;</span>Helping functions</a></span></li></ul></li><li><span><a href=\"#Load-dataset\" data-toc-modified-id=\"Load-dataset-2\"><span class=\"toc-item-num\">2&nbsp;&nbsp;</span>Load dataset</a></span><ul class=\"toc-item\"><li><span><a href=\"#Checking-for-missing-values\" data-toc-modified-id=\"Checking-for-missing-values-2.1\"><span class=\"toc-item-num\">2.1&nbsp;&nbsp;</span>Checking for missing values</a></span></li><li><span><a href=\"#Data-types-and-memory-usage\" data-toc-modified-id=\"Data-types-and-memory-usage-2.2\"><span class=\"toc-item-num\">2.2&nbsp;&nbsp;</span>Data types and memory usage</a></span></li></ul></li><li><span><a href=\"#Pre-processing\" data-toc-modified-id=\"Pre-processing-3\"><span class=\"toc-item-num\">3&nbsp;&nbsp;</span>Pre-processing</a></span><ul class=\"toc-item\"><li><span><a href=\"#Select-athletes-who-ran-at-least-once-in-2019\" data-toc-modified-id=\"Select-athletes-who-ran-at-least-once-in-2019-3.1\"><span class=\"toc-item-num\">3.1&nbsp;&nbsp;</span>Select athletes who ran at least once in 2019</a></span></li><li><span><a href=\"#Save-the-current-dataframe-as-the-default-raw-dataset\" data-toc-modified-id=\"Save-the-current-dataframe-as-the-default-raw-dataset-3.2\"><span class=\"toc-item-num\">3.2&nbsp;&nbsp;</span>Save the current dataframe as the default raw dataset</a></span></li><li><span><a href=\"#Select-'run'-as-activity-type\" data-toc-modified-id=\"Select-'run'-as-activity-type-3.3\"><span class=\"toc-item-num\">3.3&nbsp;&nbsp;</span>Select 'run' as activity type</a></span></li><li><span><a href=\"#Transform-units-to-kilometers-and-minutes\" data-toc-modified-id=\"Transform-units-to-kilometers-and-minutes-3.4\"><span class=\"toc-item-num\">3.4&nbsp;&nbsp;</span>Transform units to kilometers and minutes</a></span></li><li><span><a href=\"#Update-age-groups-to-2019\" data-toc-modified-id=\"Update-age-groups-to-2019-3.5\"><span class=\"toc-item-num\">3.5&nbsp;&nbsp;</span>Update age groups to 2019</a></span></li><li><span><a href=\"#Merge-the-9-age-groups-into-3-groups\" data-toc-modified-id=\"Merge-the-9-age-groups-into-3-groups-3.6\"><span class=\"toc-item-num\">3.6&nbsp;&nbsp;</span>Merge the 9 age groups into 3 groups</a></span></li><li><span><a href=\"#Correct-some-country-names\" data-toc-modified-id=\"Correct-some-country-names-3.7\"><span class=\"toc-item-num\">3.7&nbsp;&nbsp;</span>Correct some country names</a></span></li></ul></li><li><span><a href=\"#Export-dataset\" data-toc-modified-id=\"Export-dataset-4\"><span class=\"toc-item-num\">4&nbsp;&nbsp;</span>Export dataset</a></span><ul class=\"toc-item\"><li><span><a href=\"#Full-dataset-with-running-activities\" data-toc-modified-id=\"Full-dataset-with-running-activities-4.1\"><span class=\"toc-item-num\">4.1&nbsp;&nbsp;</span>Full dataset with running activities</a></span></li><li><span><a href=\"#Test-file\" data-toc-modified-id=\"Test-file-4.2\"><span class=\"toc-item-num\">4.2&nbsp;&nbsp;</span>Test file</a></span></li></ul></li></ul></div>"
   ]
  },
  {
   "cell_type": "markdown",
   "metadata": {},
   "source": [
    "## Setup"
   ]
  },
  {
   "cell_type": "code",
   "execution_count": null,
   "metadata": {
    "ExecuteTime": {
     "end_time": "2021-04-27T05:35:02.464431Z",
     "start_time": "2021-04-27T05:35:02.270016Z"
    }
   },
   "outputs": [],
   "source": [
    "import sys\n",
    "import os\n",
    "import numpy as np\n",
    "import pandas as pd\n",
    "from tqdm.notebook import tqdm\n",
    "%load_ext watermark  \n",
    "\n",
    "%watermark\n",
    "%watermark --iversions"
   ]
  },
  {
   "cell_type": "markdown",
   "metadata": {},
   "source": [
    "### Environment"
   ]
  },
  {
   "cell_type": "code",
   "execution_count": null,
   "metadata": {
    "ExecuteTime": {
     "end_time": "2021-04-27T05:35:02.468052Z",
     "start_time": "2021-04-27T05:35:02.465959Z"
    }
   },
   "outputs": [],
   "source": [
    "path2 = r'./../data/'\n",
    "\n",
    "pd.set_option('display.float_format', lambda x: '%.4g' % x)"
   ]
  },
  {
   "cell_type": "markdown",
   "metadata": {},
   "source": [
    "### Helping functions"
   ]
  },
  {
   "cell_type": "code",
   "execution_count": null,
   "metadata": {
    "ExecuteTime": {
     "end_time": "2021-04-27T05:35:02.480803Z",
     "start_time": "2021-04-27T05:35:02.469412Z"
    }
   },
   "outputs": [],
   "source": [
    "df = pd.read_csv(os.path.join(path2, 'run_ww_2019.csv'), sep='\\t', header=0, nrows=1)\n",
    "columns = df.columns\n",
    "columns"
   ]
  },
  {
   "cell_type": "code",
   "execution_count": null,
   "metadata": {
    "ExecuteTime": {
     "end_time": "2021-04-27T05:35:02.484591Z",
     "start_time": "2021-04-27T05:35:02.482043Z"
    }
   },
   "outputs": [],
   "source": [
    "def read(fname):\n",
    "    \"\"\"Read dataset file as pandas dataframe.\"\"\"\n",
    "    y = pd.read_csv(fname, sep='\\t', header=0, parse_dates=['datetime'], verbose=False,\n",
    "                    usecols=['athlete', 'gender', 'age_group', 'datetime', 'activity',\n",
    "                             'distance', 'duration', 'country', 'major'],\n",
    "                    dtype={'athlete': 'category', 'gender': 'category',\n",
    "                           'age_group': 'category', 'activity': 'category',\n",
    "                           'distance': 'int32', 'duration': 'int32',\n",
    "                           'country': 'category', 'major': 'category'})\n",
    "    return y"
   ]
  },
  {
   "cell_type": "markdown",
   "metadata": {},
   "source": [
    "## Load dataset\n",
    "\n",
    "Let's load the dataset as a [pandas dataframe](https://pandas.pydata.org/pandas-docs/stable/index.html), this will simplify the data handling.\n",
    "\n",
    "We will load the entire dataset in RAM memory. This will work for the present dataset in a computer with at least 8 GB of RAM memory and it's not scalable (unless you keep buying more RAM memory). For a scalable solution to handle a bigger dataset see for example [Dask](https://dask.org/) or [datatable](https://github.com/h2oai/datatable).  \n",
    "\n",
    "Let's create a function to read the dataset defining some features as categorical variables, which will decrease memory use once the data is loaded."
   ]
  },
  {
   "cell_type": "code",
   "execution_count": null,
   "metadata": {
    "ExecuteTime": {
     "end_time": "2021-04-27T05:35:30.993079Z",
     "start_time": "2021-04-27T05:35:02.485592Z"
    }
   },
   "outputs": [],
   "source": [
    "years = ['2019', '2020']\n",
    "df = pd.DataFrame()\n",
    "for year in tqdm(years):\n",
    "    df = df.append(read(os.path.join(path2, 'run_ww_' + year + '.csv')), ignore_index=True)\n",
    "    if year == years[-1]:\n",
    "        cols = df.select_dtypes(include='O').columns.to_list()\n",
    "        df[cols] = df[cols].astype('category')\n",
    "        df.sort_values(['datetime', 'athlete'], inplace=True)\n",
    "df"
   ]
  },
  {
   "cell_type": "markdown",
   "metadata": {},
   "source": [
    "### Checking for missing values"
   ]
  },
  {
   "cell_type": "code",
   "execution_count": null,
   "metadata": {
    "ExecuteTime": {
     "end_time": "2021-04-27T05:35:31.072252Z",
     "start_time": "2021-04-27T05:35:30.994010Z"
    }
   },
   "outputs": [],
   "source": [
    "n = 0\n",
    "for col in df:\n",
    "    null = df[df[col].isnull()]['athlete'].unique().to_list()\n",
    "    if null and col != 'challenge' and col != 'country':\n",
    "        print('Athlete: {}, null value in {}'.format(null, col))\n",
    "        n = 1\n",
    "if n == 0:\n",
    "    print('No missing values found (except in columns challenge and country).')"
   ]
  },
  {
   "cell_type": "markdown",
   "metadata": {},
   "source": [
    "### Data types and memory usage"
   ]
  },
  {
   "cell_type": "code",
   "execution_count": null,
   "metadata": {
    "ExecuteTime": {
     "end_time": "2021-04-27T05:35:31.146639Z",
     "start_time": "2021-04-27T05:35:31.073103Z"
    }
   },
   "outputs": [],
   "source": [
    "df.info(memory_usage='deep')"
   ]
  },
  {
   "cell_type": "markdown",
   "metadata": {},
   "source": [
    "There are about 150 millions registers in the loaded dataset (14.5 million rows times 10 columns). If we had loaded the data as `float64` or `string` Python objects, we would amount to about 5 GB of memory usage, more than 10 times what actually is being used as a pandas dataframe with the defined object types."
   ]
  },
  {
   "cell_type": "code",
   "execution_count": null,
   "metadata": {
    "ExecuteTime": {
     "end_time": "2021-04-27T05:35:35.264438Z",
     "start_time": "2021-04-27T05:35:31.148274Z"
    }
   },
   "outputs": [],
   "source": [
    "ndays = df['datetime'].dt.date.value_counts().size\n",
    "print('Number of days:', ndays)\n",
    "nathletes = df['athlete'].unique().size\n",
    "print('Number of athletes:', nathletes)\n",
    "nactivities = df['activity'].size\n",
    "print('Number of activities:', nactivities)\n",
    "nactivities2 = df['activity'].unique().size\n",
    "print('Number of types of activities:', nactivities2)\n",
    "duration = df['duration'].sum()/ndays/nathletes\n",
    "print('Average duration of activity per day per athlete: {:.0f} s'.format(duration))"
   ]
  },
  {
   "cell_type": "markdown",
   "metadata": {},
   "source": [
    "## Pre-processing"
   ]
  },
  {
   "cell_type": "markdown",
   "metadata": {
    "ExecuteTime": {
     "end_time": "2020-12-27T13:15:55.163341Z",
     "start_time": "2020-12-27T13:15:55.161203Z"
    }
   },
   "source": [
    "If there are registers of running with zero distance or duration of run, remove them."
   ]
  },
  {
   "cell_type": "code",
   "execution_count": null,
   "metadata": {
    "ExecuteTime": {
     "end_time": "2021-04-27T05:35:35.299719Z",
     "start_time": "2021-04-27T05:35:35.266133Z"
    }
   },
   "outputs": [],
   "source": [
    "zeroduration = df[(df['activity']=='run') & \n",
    "                  ((df['distance'] == 0) | (df['duration'] == 0))]\n",
    "print('Number of run activities with zero distance or duration:', zeroduration.shape[0])\n",
    "if zeroduration.size:\n",
    "    df = df.drop(index=zeroduration.index)\n",
    "    df['athlete'] = df['athlete'].cat.remove_unused_categories()"
   ]
  },
  {
   "cell_type": "markdown",
   "metadata": {},
   "source": [
    "### Select athletes who ran at least once in 2019\n",
    "\n",
    "To investigate a COVID-19 related effect comparing 2019 with 2020, an athlete should have ran at least once in 2019.  \n",
    "Let's find out if there are athletes in 2020 who are not in 2019 and remove them."
   ]
  },
  {
   "cell_type": "code",
   "execution_count": null,
   "metadata": {
    "ExecuteTime": {
     "end_time": "2021-04-27T05:35:44.243186Z",
     "start_time": "2021-04-27T05:35:35.300848Z"
    }
   },
   "outputs": [],
   "source": [
    "df['athlete'] = pd.to_numeric(df['athlete'])\n",
    "athlete2019run = df[(df['datetime'].dt.year==2019) &\n",
    "                    (df['activity']=='run')]['athlete'].unique()\n",
    "print('Number of athletes: {} and who ran at least once in 2019: {}'\n",
    "      .format(df['athlete'].unique().size, athlete2019run.size))\n",
    "#df = df[~df['athlete'].isin(athlete2019run)]  # CopyWarning\n",
    "df = df.drop(index=df[~df['athlete'].isin(athlete2019run)].index)\n",
    "df['athlete'] = df['athlete'].astype('category')\n",
    "df['athlete'] = df['athlete'].cat.remove_unused_categories()"
   ]
  },
  {
   "cell_type": "code",
   "execution_count": null,
   "metadata": {
    "ExecuteTime": {
     "end_time": "2021-04-27T05:35:48.222762Z",
     "start_time": "2021-04-27T05:35:44.244078Z"
    }
   },
   "outputs": [],
   "source": [
    "ndays = df['datetime'].dt.date.value_counts().size\n",
    "print('Number of days:', ndays)\n",
    "nathletes = df['athlete'].unique().size\n",
    "print('Number of athletes:', nathletes)\n",
    "nactivities = df['activity'].size\n",
    "print('Number of activities:', nactivities)\n",
    "nactivities2 = df['activity'].unique().size\n",
    "print('Number of types of activities:', nactivities2)\n",
    "duration = df['duration'].sum()/ndays/nathletes\n",
    "print('Average duration of activity per day per athlete: {:.0f} s'.format(duration))"
   ]
  },
  {
   "cell_type": "markdown",
   "metadata": {},
   "source": [
    "### Save the current dataframe as the default raw dataset"
   ]
  },
  {
   "cell_type": "code",
   "execution_count": null,
   "metadata": {},
   "outputs": [],
   "source": []
  },
  {
   "cell_type": "markdown",
   "metadata": {},
   "source": [
    "### Select 'run' as activity type\n",
    "\n",
    "Let's analyze only running activity. In the dataset, there are two run activities: 'run' and 'virtualrun' (although the duration of 'virtual run' is insignificant).  "
   ]
  },
  {
   "cell_type": "code",
   "execution_count": null,
   "metadata": {
    "ExecuteTime": {
     "end_time": "2021-04-27T05:35:48.558088Z",
     "start_time": "2021-04-27T05:35:48.223633Z"
    }
   },
   "outputs": [],
   "source": [
    "drun = df[df['activity']=='run']['duration'].sum()/ndays/nathletes\n",
    "print('Average duration of run per day per athlete: {:.0f} s'.format(drun))\n",
    "dvirtualrun = df[df['activity']=='virtualrun']['duration'].sum()/ndays/nathletes\n",
    "print('Average duration of virtual run per day per athlete: {:.0f} s'.format(dvirtualrun))"
   ]
  },
  {
   "cell_type": "code",
   "execution_count": null,
   "metadata": {
    "ExecuteTime": {
     "end_time": "2021-04-27T05:35:48.905521Z",
     "start_time": "2021-04-27T05:35:48.558978Z"
    }
   },
   "outputs": [],
   "source": [
    "#df = df[(df['activity']=='run') | (df['activity']=='virtualrun')]\n",
    "df = df[df['activity']=='run']\n",
    "df = df.drop(columns='activity')"
   ]
  },
  {
   "cell_type": "code",
   "execution_count": null,
   "metadata": {
    "ExecuteTime": {
     "end_time": "2021-04-27T05:35:50.468217Z",
     "start_time": "2021-04-27T05:35:48.906402Z"
    }
   },
   "outputs": [],
   "source": [
    "y = df[df['datetime'].dt.year == 2019][['athlete', 'duration']].groupby('athlete').sum()\n",
    "norun = y[~y.any(axis='columns', skipna=False)]\n",
    "print('Number of athletes who did not run in 2019:', norun.shape[0])\n",
    "y = df[df['datetime'].dt.year == 2020][['athlete', 'duration']].groupby('athlete').sum()\n",
    "norun = y[~y.any(axis='columns', skipna=False)]\n",
    "print('Number of athletes who did not run in 2020:', norun.shape[0])"
   ]
  },
  {
   "cell_type": "markdown",
   "metadata": {},
   "source": [
    "### Transform units to kilometers and minutes\n",
    "\n",
    "For long distance running, kilometers and minutes are more convenient units for distance and duration."
   ]
  },
  {
   "cell_type": "code",
   "execution_count": null,
   "metadata": {
    "ExecuteTime": {
     "end_time": "2021-04-27T05:35:50.538114Z",
     "start_time": "2021-04-27T05:35:50.469160Z"
    }
   },
   "outputs": [],
   "source": [
    "df['distance'] = df['distance']/1000\n",
    "df['duration'] = df['duration']/60"
   ]
  },
  {
   "cell_type": "code",
   "execution_count": null,
   "metadata": {
    "ExecuteTime": {
     "end_time": "2021-04-27T05:35:50.643499Z",
     "start_time": "2021-04-27T05:35:50.539209Z"
    }
   },
   "outputs": [],
   "source": [
    "nathletes = df['athlete'].unique().size\n",
    "print('Number of athletes:', nathletes)\n",
    "nactivities = df.shape[0]\n",
    "print('Number of run activities:', nactivities)\n",
    "distance = df['distance'].sum()/ndays/nathletes\n",
    "print('Average distance of run per day per athlete: {:.3g} km'.format(distance))\n",
    "duration = df['duration'].sum()/ndays/nathletes\n",
    "print('Average duration of run per day per athlete: {:.3g} min'.format(duration))\n",
    "pace = duration / distance\n",
    "print('Average pace of run per day per athlete: {:.3g} min/km'.format(pace))"
   ]
  },
  {
   "cell_type": "markdown",
   "metadata": {},
   "source": [
    "Selecting only the run activity, about 4 millions of other activities the athletes performed were removed (about one fourth of the 14.5 millions activities in total)."
   ]
  },
  {
   "cell_type": "code",
   "execution_count": null,
   "metadata": {
    "ExecuteTime": {
     "end_time": "2021-04-27T05:35:57.764709Z",
     "start_time": "2021-04-27T05:35:50.644628Z"
    }
   },
   "outputs": [],
   "source": [
    "years = [2019, 2020]\n",
    "for year in years:\n",
    "    print('Year: {}'.format(year))\n",
    "    nday = df[df['datetime'].dt.year == year]['datetime'].dt.date.value_counts().size\n",
    "    print(' Number of days:', nday)\n",
    "    nathlete = df[df['datetime'].dt.year == year]['athlete'].unique().size\n",
    "    print(' Number of athletes:', nathlete)\n",
    "    nactivity = df[df['datetime'].dt.year == year].shape[0]\n",
    "    print(' Total number of activities:', nactivity)"
   ]
  },
  {
   "cell_type": "markdown",
   "metadata": {},
   "source": [
    "### Update age groups to 2019\n",
    "\n",
    "In the dataset, the age-group interval was taken from the Strava web page with the segment of the Major marathon the athlete participated. If the athlete participated in more than one Major, the age-group interval kept is from the segment with the most recent Major.  \n",
    "Anyway, the age-group interval was from the year the Major occurred and this interval must be updated to 2019.  \n",
    "First, we will estimate the athlete's age at her/his most recent Major as the average of the age-group interval reported. Second, the estimated age will be updated to 2019 by summing to this age the difference between 2019 and the year of the athlete's most recent Major. Finally, the updated age will be transformed to one of the existent age-group intervals."
   ]
  },
  {
   "cell_type": "code",
   "execution_count": null,
   "metadata": {
    "ExecuteTime": {
     "end_time": "2021-04-27T05:35:58.777583Z",
     "start_time": "2021-04-27T05:35:57.765670Z"
    }
   },
   "outputs": [],
   "source": [
    "y = df[['athlete', 'age_group', 'major']\n",
    "      ].drop_duplicates(subset='athlete').sort_values('athlete').reset_index(drop=True)\n",
    "age_group = y['age_group'].cat.categories.to_list()\n",
    "age = {'19 and under':19, '20 to 24':22.5, '25 to 34':30, '35 to 44':40,\n",
    "       '45 to 54':50, '55 to 64':60, '65 to 69':67.5, '70 to 74':72.5, '75+':76}\n",
    "y['age_group'] = y['age_group'].map(age).astype(float)\n",
    "f = lambda x: np.array(x, dtype=int).max()\n",
    "y['age_group'] = y['age_group'] + (2019 - y['major'].str.findall(r'[0-9]+').apply(f))\n",
    "bins = np.r_[18, np.array([a.split(' to ')[0] for a in age_group[1:-1]],\n",
    "                          dtype=int), 75, 100]\n",
    "y['age_group'] = pd.cut(y['age_group'], bins=bins, right=False, labels=age_group)\n",
    "df = df.drop('age_group', axis=1).join(y.drop('major', axis=1).set_index('athlete'),\n",
    "                                       on='athlete')\n",
    "df = df[['datetime', 'athlete', 'gender', 'age_group',\n",
    "         'distance', 'duration', 'country', 'major']]"
   ]
  },
  {
   "cell_type": "markdown",
   "metadata": {},
   "source": [
    "### Merge the 9 age groups into 3 groups\n",
    "\n",
    "To simplify the data analysis per age group, let's reduce from nine to three age groups."
   ]
  },
  {
   "cell_type": "code",
   "execution_count": null,
   "metadata": {
    "ExecuteTime": {
     "end_time": "2021-04-27T05:35:59.007739Z",
     "start_time": "2021-04-27T05:35:58.778450Z"
    }
   },
   "outputs": [],
   "source": [
    "df.drop_duplicates(subset='athlete')[['athlete', 'age_group', 'gender']\n",
    "                                    ].groupby(['age_group',\n",
    "                                               'gender']).count().unstack(level=0)"
   ]
  },
  {
   "cell_type": "code",
   "execution_count": null,
   "metadata": {
    "ExecuteTime": {
     "end_time": "2021-04-27T05:36:00.003482Z",
     "start_time": "2021-04-27T05:35:59.008646Z"
    }
   },
   "outputs": [],
   "source": [
    "age_groups = {'19 and under':'18 - 34', '20 to 24':'18 - 34', '25 to 34':'18 - 34',\n",
    "              '35 to 44':'35 - 54', '45 to 54':'35 - 54',\n",
    "              '55 to 64':'55 +', '65 to 69':'55 +', '70 to 74':'55 +', '75+':'55 +'}\n",
    "df['age_group'] = df['age_group'].map(age_groups).astype('category')\n",
    "df.drop_duplicates(subset='athlete')[['athlete', 'age_group', 'gender']\n",
    "                                    ].groupby(['age_group',\n",
    "                                               'gender']).count().unstack(level=0)"
   ]
  },
  {
   "cell_type": "markdown",
   "metadata": {},
   "source": [
    "### Correct some country names \n",
    "\n",
    "See https://en.wikipedia.org/wiki/List_of_ISO_3166_country_codes"
   ]
  },
  {
   "cell_type": "code",
   "execution_count": null,
   "metadata": {
    "ExecuteTime": {
     "end_time": "2021-04-27T05:36:00.691009Z",
     "start_time": "2021-04-27T05:36:00.004591Z"
    }
   },
   "outputs": [],
   "source": [
    "df['country'].replace(\n",
    "    {'The Netherlands': 'Netherlands', 'Suomi Finland': 'Finland',\n",
    "     'Moldavia': 'Moldova', 'Republic of Korea': 'South Korea',\n",
    "     'The United Arab Emirates': 'United Arab Emirates',\n",
    "     'Luzon': 'Philippines', 'Hellas': 'Greece', 'Cyprus - Kibris': 'Cyprus',\n",
    "     'Mongolian': 'Mongolia', 'The Savior': 'El Salvador',\n",
    "     'Balgariya': 'Bulgaria', 'the two seas': 'Bahrain',\n",
    "     'Føroyar': 'Faroe Islands', 'Saudi': 'Saudi Arabia',\n",
    "     'Amman': 'Jordan', 'The Bahamas': 'Bahamas', \"Timor Lorosa'e\": 'East Timor',\n",
    "     'Diameter': np.nan}, inplace=True)\n",
    "df['country'] = df['country'].astype('category')"
   ]
  },
  {
   "cell_type": "markdown",
   "metadata": {},
   "source": [
    "## Export dataset\n",
    "\n",
    "See a comparison on [formats to save Pandas data](https://towardsdatascience.com/the-best-format-to-save-pandas-data-414dca023e0d)."
   ]
  },
  {
   "cell_type": "code",
   "execution_count": null,
   "metadata": {
    "ExecuteTime": {
     "end_time": "2021-04-27T05:36:02.875692Z",
     "start_time": "2021-04-27T05:36:00.691929Z"
    }
   },
   "outputs": [],
   "source": [
    "df.sort_values(['datetime', 'athlete'], inplace=True)\n",
    "df.reset_index(inplace=True, drop=True)\n",
    "df"
   ]
  },
  {
   "cell_type": "code",
   "execution_count": null,
   "metadata": {
    "ExecuteTime": {
     "end_time": "2021-04-27T05:36:02.887773Z",
     "start_time": "2021-04-27T05:36:02.877911Z"
    }
   },
   "outputs": [],
   "source": [
    "df.info(memory_usage='deep')"
   ]
  },
  {
   "cell_type": "markdown",
   "metadata": {},
   "source": [
    "### Full dataset with running activities"
   ]
  },
  {
   "cell_type": "code",
   "execution_count": null,
   "metadata": {
    "ExecuteTime": {
     "end_time": "2021-04-27T05:36:04.162738Z",
     "start_time": "2021-04-27T05:36:02.890306Z"
    }
   },
   "outputs": [],
   "source": [
    "df.to_parquet(os.path.join(path2, 'run_ww_2019_2020.parquet'), engine='pyarrow')"
   ]
  },
  {
   "cell_type": "markdown",
   "metadata": {},
   "source": [
    "### Test file"
   ]
  },
  {
   "cell_type": "code",
   "execution_count": null,
   "metadata": {
    "ExecuteTime": {
     "end_time": "2021-04-27T07:05:13.478482Z",
     "start_time": "2021-04-27T07:05:13.150197Z"
    }
   },
   "outputs": [],
   "source": [
    "df = pd.read_parquet(os.path.join(path2, 'run_ww_2019_2020.parquet'))\n",
    "#df['athlete'] = df['athlete'].astype('category')  # bug in parquet\n",
    "df"
   ]
  },
  {
   "cell_type": "code",
   "execution_count": null,
   "metadata": {
    "ExecuteTime": {
     "end_time": "2021-04-27T07:06:11.658979Z",
     "start_time": "2021-04-27T07:06:11.556640Z"
    }
   },
   "outputs": [],
   "source": [
    "df.info(memory_usage='deep')"
   ]
  },
  {
   "cell_type": "code",
   "execution_count": null,
   "metadata": {},
   "outputs": [],
   "source": []
  }
 ],
 "metadata": {
  "hide_input": false,
  "kernelspec": {
   "display_name": "Python 3",
   "language": "python",
   "name": "python3"
  },
  "language_info": {
   "codemirror_mode": {
    "name": "ipython",
    "version": 3
   },
   "file_extension": ".py",
   "mimetype": "text/x-python",
   "name": "python",
   "nbconvert_exporter": "python",
   "pygments_lexer": "ipython3",
   "version": "3.8.8"
  },
  "nbTranslate": {
   "displayLangs": [
    "*"
   ],
   "hotkey": "alt-t",
   "langInMainMenu": true,
   "sourceLang": "en",
   "targetLang": "fr",
   "useGoogleTranslate": true
  },
  "toc": {
   "base_numbering": 1,
   "nav_menu": {},
   "number_sections": true,
   "sideBar": true,
   "skip_h1_title": true,
   "title_cell": "Contents",
   "title_sidebar": "Contents",
   "toc_cell": true,
   "toc_position": {},
   "toc_section_display": true,
   "toc_window_display": false
  },
  "varInspector": {
   "cols": {
    "lenName": 16,
    "lenType": 16,
    "lenVar": 40
   },
   "kernels_config": {
    "python": {
     "delete_cmd_postfix": "",
     "delete_cmd_prefix": "del ",
     "library": "var_list.py",
     "varRefreshCmd": "print(var_dic_list())"
    },
    "r": {
     "delete_cmd_postfix": ") ",
     "delete_cmd_prefix": "rm(",
     "library": "var_list.r",
     "varRefreshCmd": "cat(var_dic_list()) "
    }
   },
   "position": {
    "height": "280px",
    "left": "793px",
    "right": "20px",
    "top": "121px",
    "width": "470px"
   },
   "types_to_exclude": [
    "module",
    "function",
    "builtin_function_or_method",
    "instance",
    "_Feature"
   ],
   "window_display": false
  }
 },
 "nbformat": 4,
 "nbformat_minor": 4
}
