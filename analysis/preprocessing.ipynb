{
 "cells": [
  {
   "cell_type": "markdown",
   "metadata": {},
   "source": [
    "# Data preprocessing  \n",
    "\n",
    "> [https://github.com/BMClab/covid19](https://github.com/BMClab/covid19)  \n",
    "> [Laboratory of Biomechanics and Motor Control](http://pesquisa.ufabc.edu.br/bmclab/)  \n",
    "> Federal University of ABC, Brazil\n",
    "\n",
    "**This Jupyter notebook uses data created by the web scraping and we are not sharing this data publicly for ethical reasons. If you want to run this notebook, you will first have to run the 'Strava web scrapper' notebooks we provide.**"
   ]
  },
  {
   "cell_type": "markdown",
   "metadata": {
    "toc": true
   },
   "source": [
    "<h1>Contents<span class=\"tocSkip\"></span></h1>\n",
    "<div class=\"toc\"><ul class=\"toc-item\"><li><span><a href=\"#Setup\" data-toc-modified-id=\"Setup-1\"><span class=\"toc-item-num\">1&nbsp;&nbsp;</span>Setup</a></span><ul class=\"toc-item\"><li><span><a href=\"#Environment\" data-toc-modified-id=\"Environment-1.1\"><span class=\"toc-item-num\">1.1&nbsp;&nbsp;</span>Environment</a></span></li><li><span><a href=\"#Helping-functions\" data-toc-modified-id=\"Helping-functions-1.2\"><span class=\"toc-item-num\">1.2&nbsp;&nbsp;</span>Helping functions</a></span></li></ul></li><li><span><a href=\"#Load-dataset\" data-toc-modified-id=\"Load-dataset-2\"><span class=\"toc-item-num\">2&nbsp;&nbsp;</span>Load dataset</a></span><ul class=\"toc-item\"><li><span><a href=\"#Checking-for-missing-values\" data-toc-modified-id=\"Checking-for-missing-values-2.1\"><span class=\"toc-item-num\">2.1&nbsp;&nbsp;</span>Checking for missing values</a></span></li><li><span><a href=\"#Data-types-and-memory-usage\" data-toc-modified-id=\"Data-types-and-memory-usage-2.2\"><span class=\"toc-item-num\">2.2&nbsp;&nbsp;</span>Data types and memory usage</a></span></li></ul></li><li><span><a href=\"#Pre-processing\" data-toc-modified-id=\"Pre-processing-3\"><span class=\"toc-item-num\">3&nbsp;&nbsp;</span>Pre-processing</a></span><ul class=\"toc-item\"><li><span><a href=\"#Select-athletes-who-ran-at-least-once-in-2019\" data-toc-modified-id=\"Select-athletes-who-ran-at-least-once-in-2019-3.1\"><span class=\"toc-item-num\">3.1&nbsp;&nbsp;</span>Select athletes who ran at least once in 2019</a></span></li><li><span><a href=\"#Save-the-current-dataframe-as-the-default-raw-dataset\" data-toc-modified-id=\"Save-the-current-dataframe-as-the-default-raw-dataset-3.2\"><span class=\"toc-item-num\">3.2&nbsp;&nbsp;</span>Save the current dataframe as the default raw dataset</a></span></li><li><span><a href=\"#Select-'run'-as-activity-type\" data-toc-modified-id=\"Select-'run'-as-activity-type-3.3\"><span class=\"toc-item-num\">3.3&nbsp;&nbsp;</span>Select 'run' as activity type</a></span></li><li><span><a href=\"#Transform-units-to-kilometers-and-minutes\" data-toc-modified-id=\"Transform-units-to-kilometers-and-minutes-3.4\"><span class=\"toc-item-num\">3.4&nbsp;&nbsp;</span>Transform units to kilometers and minutes</a></span></li><li><span><a href=\"#Update-age-groups-to-2019\" data-toc-modified-id=\"Update-age-groups-to-2019-3.5\"><span class=\"toc-item-num\">3.5&nbsp;&nbsp;</span>Update age groups to 2019</a></span></li><li><span><a href=\"#Merge-the-9-age-groups-into-3-groups\" data-toc-modified-id=\"Merge-the-9-age-groups-into-3-groups-3.6\"><span class=\"toc-item-num\">3.6&nbsp;&nbsp;</span>Merge the 9 age groups into 3 groups</a></span></li><li><span><a href=\"#Correct-some-country-names\" data-toc-modified-id=\"Correct-some-country-names-3.7\"><span class=\"toc-item-num\">3.7&nbsp;&nbsp;</span>Correct some country names</a></span></li></ul></li><li><span><a href=\"#Export-dataset\" data-toc-modified-id=\"Export-dataset-4\"><span class=\"toc-item-num\">4&nbsp;&nbsp;</span>Export dataset</a></span><ul class=\"toc-item\"><li><span><a href=\"#Full-dataset-with-running-activities\" data-toc-modified-id=\"Full-dataset-with-running-activities-4.1\"><span class=\"toc-item-num\">4.1&nbsp;&nbsp;</span>Full dataset with running activities</a></span></li><li><span><a href=\"#Test-file\" data-toc-modified-id=\"Test-file-4.2\"><span class=\"toc-item-num\">4.2&nbsp;&nbsp;</span>Test file</a></span></li></ul></li></ul></div>"
   ]
  },
  {
   "cell_type": "markdown",
   "metadata": {},
   "source": [
    "## Setup"
   ]
  },
  {
   "cell_type": "code",
   "execution_count": 1,
   "metadata": {
    "ExecuteTime": {
     "end_time": "2021-09-14T03:04:42.124415Z",
     "start_time": "2021-09-14T03:04:41.799123Z"
    }
   },
   "outputs": [
    {
     "name": "stdout",
     "output_type": "stream",
     "text": [
      "Last updated: 2021-09-14T00:04:42.110211-03:00\n",
      "\n",
      "Python implementation: CPython\n",
      "Python version       : 3.8.10\n",
      "IPython version      : 7.27.0\n",
      "\n",
      "Compiler    : GCC 9.3.0\n",
      "OS          : Linux\n",
      "Release     : 5.11.0-34-generic\n",
      "Machine     : x86_64\n",
      "Processor   : x86_64\n",
      "CPU cores   : 12\n",
      "Architecture: 64bit\n",
      "\n",
      "numpy   : 1.20.3\n",
      "sys     : 3.8.10 | packaged by conda-forge | (default, May 11 2021, 07:01:05) \n",
      "[GCC 9.3.0]\n",
      "autopep8: 1.5.6\n",
      "json    : 2.0.9\n",
      "pandas  : 1.3.3\n",
      "\n"
     ]
    }
   ],
   "source": [
    "import sys\n",
    "import os\n",
    "import numpy as np\n",
    "import pandas as pd\n",
    "from tqdm.notebook import tqdm\n",
    "%load_ext watermark  \n",
    "\n",
    "%watermark\n",
    "%watermark --iversions"
   ]
  },
  {
   "cell_type": "markdown",
   "metadata": {},
   "source": [
    "### Environment"
   ]
  },
  {
   "cell_type": "code",
   "execution_count": 2,
   "metadata": {
    "ExecuteTime": {
     "end_time": "2021-09-14T03:04:42.127630Z",
     "start_time": "2021-09-14T03:04:42.125575Z"
    }
   },
   "outputs": [],
   "source": [
    "path2 = r'./../data/'\n",
    "\n",
    "pd.set_option('display.float_format', lambda x: '%.4g' % x)"
   ]
  },
  {
   "cell_type": "markdown",
   "metadata": {},
   "source": [
    "### Helping functions"
   ]
  },
  {
   "cell_type": "code",
   "execution_count": 3,
   "metadata": {
    "ExecuteTime": {
     "end_time": "2021-09-14T03:04:42.139143Z",
     "start_time": "2021-09-14T03:04:42.128332Z"
    }
   },
   "outputs": [
    {
     "data": {
      "text/plain": [
       "Index(['ID', 'athlete', 'activity_id', 'gender', 'age_group', 'date_utc',\n",
       "       'datetime', 'activity', 'distance', 'duration', 'context', 'challenge',\n",
       "       'country', 'major'],\n",
       "      dtype='object')"
      ]
     },
     "execution_count": 3,
     "metadata": {},
     "output_type": "execute_result"
    }
   ],
   "source": [
    "df = pd.read_csv(os.path.join(path2, 'run_ww_2019.csv'), sep='\\t', header=0, nrows=1)\n",
    "columns = df.columns\n",
    "columns"
   ]
  },
  {
   "cell_type": "code",
   "execution_count": 4,
   "metadata": {
    "ExecuteTime": {
     "end_time": "2021-09-14T03:04:42.142929Z",
     "start_time": "2021-09-14T03:04:42.140079Z"
    }
   },
   "outputs": [],
   "source": [
    "def read(fname):\n",
    "    \"\"\"Read dataset file as pandas dataframe.\"\"\"\n",
    "    y = pd.read_csv(fname, sep='\\t', header=0, parse_dates=['datetime'], verbose=False,\n",
    "                    usecols=['athlete', 'gender', 'age_group', 'datetime', 'activity',\n",
    "                             'distance', 'duration', 'country', 'major'],\n",
    "                    dtype={'athlete': 'category', 'gender': 'category',\n",
    "                           'age_group': 'category', 'activity': 'category',\n",
    "                           'distance': 'int32', 'duration': 'int32',\n",
    "                           'country': 'category', 'major': 'category'})\n",
    "    return y"
   ]
  },
  {
   "cell_type": "markdown",
   "metadata": {},
   "source": [
    "## Load dataset\n",
    "\n",
    "Let's load the dataset as a [pandas dataframe](https://pandas.pydata.org/pandas-docs/stable/index.html), this will simplify the data handling.\n",
    "\n",
    "We will load the entire dataset in RAM memory. This will work for the present dataset in a computer with at least 8 GB of RAM memory and it's not scalable (unless you keep buying more RAM memory). For a scalable solution to handle a bigger dataset see for example [Dask](https://dask.org/) or [datatable](https://github.com/h2oai/datatable).  \n",
    "\n",
    "Let's create a function to read the dataset defining some features as categorical variables, which will decrease memory use once the data is loaded."
   ]
  },
  {
   "cell_type": "code",
   "execution_count": 5,
   "metadata": {
    "ExecuteTime": {
     "end_time": "2021-09-14T03:05:12.799927Z",
     "start_time": "2021-09-14T03:04:42.232427Z"
    }
   },
   "outputs": [
    {
     "data": {
      "application/vnd.jupyter.widget-view+json": {
       "model_id": "96ad5897e6d14d0dae58418d1017eb7b",
       "version_major": 2,
       "version_minor": 0
      },
      "text/plain": [
       "  0%|          | 0/2 [00:00<?, ?it/s]"
      ]
     },
     "metadata": {},
     "output_type": "display_data"
    },
    {
     "data": {
      "text/html": [
       "<div>\n",
       "<style scoped>\n",
       "    .dataframe tbody tr th:only-of-type {\n",
       "        vertical-align: middle;\n",
       "    }\n",
       "\n",
       "    .dataframe tbody tr th {\n",
       "        vertical-align: top;\n",
       "    }\n",
       "\n",
       "    .dataframe thead th {\n",
       "        text-align: right;\n",
       "    }\n",
       "</style>\n",
       "<table border=\"1\" class=\"dataframe\">\n",
       "  <thead>\n",
       "    <tr style=\"text-align: right;\">\n",
       "      <th></th>\n",
       "      <th>athlete</th>\n",
       "      <th>gender</th>\n",
       "      <th>age_group</th>\n",
       "      <th>datetime</th>\n",
       "      <th>activity</th>\n",
       "      <th>distance</th>\n",
       "      <th>duration</th>\n",
       "      <th>country</th>\n",
       "      <th>major</th>\n",
       "    </tr>\n",
       "  </thead>\n",
       "  <tbody>\n",
       "    <tr>\n",
       "      <th>6626509</th>\n",
       "      <td>10969</td>\n",
       "      <td>M</td>\n",
       "      <td>45 to 54</td>\n",
       "      <td>2019-01-01 00:00:00</td>\n",
       "      <td>run</td>\n",
       "      <td>42700</td>\n",
       "      <td>15240</td>\n",
       "      <td>Denmark</td>\n",
       "      <td>LONDON 2019,NEW YORK 2018</td>\n",
       "    </tr>\n",
       "    <tr>\n",
       "      <th>841882</th>\n",
       "      <td>11937</td>\n",
       "      <td>F</td>\n",
       "      <td>35 to 44</td>\n",
       "      <td>2019-01-01 00:00:00</td>\n",
       "      <td>run</td>\n",
       "      <td>6460</td>\n",
       "      <td>2032</td>\n",
       "      <td>United States</td>\n",
       "      <td>BERLIN 2018,TOKYO 2019</td>\n",
       "    </tr>\n",
       "    <tr>\n",
       "      <th>6231018</th>\n",
       "      <td>12938</td>\n",
       "      <td>F</td>\n",
       "      <td>25 to 34</td>\n",
       "      <td>2019-01-01 00:00:00</td>\n",
       "      <td>run</td>\n",
       "      <td>6510</td>\n",
       "      <td>1572</td>\n",
       "      <td>United States</td>\n",
       "      <td>BOSTON 2019</td>\n",
       "    </tr>\n",
       "    <tr>\n",
       "      <th>4095400</th>\n",
       "      <td>13406</td>\n",
       "      <td>M</td>\n",
       "      <td>25 to 34</td>\n",
       "      <td>2019-01-01 00:00:00</td>\n",
       "      <td>run</td>\n",
       "      <td>6520</td>\n",
       "      <td>1492</td>\n",
       "      <td>United States</td>\n",
       "      <td>BERLIN 2019</td>\n",
       "    </tr>\n",
       "    <tr>\n",
       "      <th>4625186</th>\n",
       "      <td>14164</td>\n",
       "      <td>M</td>\n",
       "      <td>55 to 64</td>\n",
       "      <td>2019-01-01 00:00:00</td>\n",
       "      <td>run</td>\n",
       "      <td>6220</td>\n",
       "      <td>2957</td>\n",
       "      <td>United States</td>\n",
       "      <td>BERLIN 2018</td>\n",
       "    </tr>\n",
       "    <tr>\n",
       "      <th>...</th>\n",
       "      <td>...</td>\n",
       "      <td>...</td>\n",
       "      <td>...</td>\n",
       "      <td>...</td>\n",
       "      <td>...</td>\n",
       "      <td>...</td>\n",
       "      <td>...</td>\n",
       "      <td>...</td>\n",
       "      <td>...</td>\n",
       "    </tr>\n",
       "    <tr>\n",
       "      <th>14312725</th>\n",
       "      <td>20357</td>\n",
       "      <td>F</td>\n",
       "      <td>35 to 44</td>\n",
       "      <td>2020-12-31 23:56:00</td>\n",
       "      <td>run</td>\n",
       "      <td>1620</td>\n",
       "      <td>523</td>\n",
       "      <td>United States</td>\n",
       "      <td>BOSTON 2019</td>\n",
       "    </tr>\n",
       "    <tr>\n",
       "      <th>10396145</th>\n",
       "      <td>29132</td>\n",
       "      <td>M</td>\n",
       "      <td>35 to 44</td>\n",
       "      <td>2020-12-31 23:57:00</td>\n",
       "      <td>virtualrun</td>\n",
       "      <td>2180</td>\n",
       "      <td>877</td>\n",
       "      <td>Austria</td>\n",
       "      <td>NEW YORK 2019</td>\n",
       "    </tr>\n",
       "    <tr>\n",
       "      <th>7429745</th>\n",
       "      <td>16899</td>\n",
       "      <td>F</td>\n",
       "      <td>19 and under</td>\n",
       "      <td>2020-12-31 23:58:00</td>\n",
       "      <td>run</td>\n",
       "      <td>6570</td>\n",
       "      <td>2970</td>\n",
       "      <td>United States</td>\n",
       "      <td>NEW YORK 2017</td>\n",
       "    </tr>\n",
       "    <tr>\n",
       "      <th>9858215</th>\n",
       "      <td>34174</td>\n",
       "      <td>F</td>\n",
       "      <td>45 to 54</td>\n",
       "      <td>2020-12-31 23:59:00</td>\n",
       "      <td>run</td>\n",
       "      <td>1610</td>\n",
       "      <td>743</td>\n",
       "      <td>United Kingdom</td>\n",
       "      <td>LONDON 2015</td>\n",
       "    </tr>\n",
       "    <tr>\n",
       "      <th>7225301</th>\n",
       "      <td>6134</td>\n",
       "      <td>M</td>\n",
       "      <td>45 to 54</td>\n",
       "      <td>2020-12-31 23:59:00</td>\n",
       "      <td>run</td>\n",
       "      <td>5560</td>\n",
       "      <td>2043</td>\n",
       "      <td>United States</td>\n",
       "      <td>NEW YORK 2019</td>\n",
       "    </tr>\n",
       "  </tbody>\n",
       "</table>\n",
       "<p>14644391 rows × 9 columns</p>\n",
       "</div>"
      ],
      "text/plain": [
       "         athlete gender     age_group            datetime    activity  \\\n",
       "6626509    10969      M      45 to 54 2019-01-01 00:00:00         run   \n",
       "841882     11937      F      35 to 44 2019-01-01 00:00:00         run   \n",
       "6231018    12938      F      25 to 34 2019-01-01 00:00:00         run   \n",
       "4095400    13406      M      25 to 34 2019-01-01 00:00:00         run   \n",
       "4625186    14164      M      55 to 64 2019-01-01 00:00:00         run   \n",
       "...          ...    ...           ...                 ...         ...   \n",
       "14312725   20357      F      35 to 44 2020-12-31 23:56:00         run   \n",
       "10396145   29132      M      35 to 44 2020-12-31 23:57:00  virtualrun   \n",
       "7429745    16899      F  19 and under 2020-12-31 23:58:00         run   \n",
       "9858215    34174      F      45 to 54 2020-12-31 23:59:00         run   \n",
       "7225301     6134      M      45 to 54 2020-12-31 23:59:00         run   \n",
       "\n",
       "          distance  duration         country                      major  \n",
       "6626509      42700     15240         Denmark  LONDON 2019,NEW YORK 2018  \n",
       "841882        6460      2032   United States     BERLIN 2018,TOKYO 2019  \n",
       "6231018       6510      1572   United States                BOSTON 2019  \n",
       "4095400       6520      1492   United States                BERLIN 2019  \n",
       "4625186       6220      2957   United States                BERLIN 2018  \n",
       "...            ...       ...             ...                        ...  \n",
       "14312725      1620       523   United States                BOSTON 2019  \n",
       "10396145      2180       877         Austria              NEW YORK 2019  \n",
       "7429745       6570      2970   United States              NEW YORK 2017  \n",
       "9858215       1610       743  United Kingdom                LONDON 2015  \n",
       "7225301       5560      2043   United States              NEW YORK 2019  \n",
       "\n",
       "[14644391 rows x 9 columns]"
      ]
     },
     "execution_count": 5,
     "metadata": {},
     "output_type": "execute_result"
    }
   ],
   "source": [
    "years = ['2019', '2020']\n",
    "df = pd.DataFrame()\n",
    "for year in tqdm(years):\n",
    "    df = df.append(read(os.path.join(path2, 'run_ww_' + year + '.csv')), ignore_index=True)\n",
    "    if year == years[-1]:\n",
    "        cols = df.select_dtypes(include='O').columns.to_list()\n",
    "        df[cols] = df[cols].astype('category')\n",
    "        df.sort_values(['datetime', 'athlete'], inplace=True)\n",
    "df"
   ]
  },
  {
   "cell_type": "markdown",
   "metadata": {},
   "source": [
    "### Checking for missing values"
   ]
  },
  {
   "cell_type": "code",
   "execution_count": 6,
   "metadata": {
    "ExecuteTime": {
     "end_time": "2021-09-14T03:05:12.857336Z",
     "start_time": "2021-09-14T03:05:12.801141Z"
    }
   },
   "outputs": [
    {
     "name": "stdout",
     "output_type": "stream",
     "text": [
      "Athlete: ['141', '30343', '34078', '4024', '16897', '5924'], null value in activity\n"
     ]
    }
   ],
   "source": [
    "n = 0\n",
    "for col in df:\n",
    "    null = df[df[col].isnull()]['athlete'].unique().to_list()\n",
    "    if null and col != 'challenge' and col != 'country':\n",
    "        print('Athlete: {}, null value in {}'.format(null, col))\n",
    "        n = 1\n",
    "if n == 0:\n",
    "    print('No missing values found (except in columns challenge and country).')"
   ]
  },
  {
   "cell_type": "markdown",
   "metadata": {},
   "source": [
    "### Data types and memory usage"
   ]
  },
  {
   "cell_type": "code",
   "execution_count": 7,
   "metadata": {
    "ExecuteTime": {
     "end_time": "2021-09-14T03:05:12.867201Z",
     "start_time": "2021-09-14T03:05:12.858827Z"
    }
   },
   "outputs": [
    {
     "name": "stdout",
     "output_type": "stream",
     "text": [
      "<class 'pandas.core.frame.DataFrame'>\n",
      "Int64Index: 14644391 entries, 6626509 to 7225301\n",
      "Data columns (total 9 columns):\n",
      " #   Column     Dtype         \n",
      "---  ------     -----         \n",
      " 0   athlete    category      \n",
      " 1   gender     category      \n",
      " 2   age_group  category      \n",
      " 3   datetime   datetime64[ns]\n",
      " 4   activity   category      \n",
      " 5   distance   int32         \n",
      " 6   duration   int32         \n",
      " 7   country    category      \n",
      " 8   major      category      \n",
      "dtypes: category(6), datetime64[ns](1), int32(2)\n",
      "memory usage: 492.2 MB\n"
     ]
    }
   ],
   "source": [
    "df.info(memory_usage='deep')"
   ]
  },
  {
   "cell_type": "markdown",
   "metadata": {},
   "source": [
    "There are about 150 millions registers in the loaded dataset (14.5 million rows times 10 columns). If we had loaded the data as `float64` or `string` Python objects, we would amount to about 5 GB of memory usage, more than 10 times what actually is being used as a pandas dataframe with the defined object types."
   ]
  },
  {
   "cell_type": "code",
   "execution_count": 8,
   "metadata": {
    "ExecuteTime": {
     "end_time": "2021-09-14T03:05:16.401923Z",
     "start_time": "2021-09-14T03:05:12.868335Z"
    }
   },
   "outputs": [
    {
     "name": "stdout",
     "output_type": "stream",
     "text": [
      "Number of days: 731\n",
      "Number of athletes: 37595\n",
      "Number of activities: 14644391\n",
      "Number of types of activities: 36\n",
      "Average duration of activity per day per athlete: 1845 s\n"
     ]
    }
   ],
   "source": [
    "ndays = df['datetime'].dt.date.value_counts().size\n",
    "print('Number of days:', ndays)\n",
    "nathletes = df['athlete'].unique().size\n",
    "print('Number of athletes:', nathletes)\n",
    "nactivities = df['activity'].size\n",
    "print('Number of activities:', nactivities)\n",
    "nactivities2 = df['activity'].unique().size\n",
    "print('Number of types of activities:', nactivities2)\n",
    "duration = df['duration'].sum()/ndays/nathletes\n",
    "print('Average duration of activity per day per athlete: {:.0f} s'.format(duration))"
   ]
  },
  {
   "cell_type": "markdown",
   "metadata": {},
   "source": [
    "## Pre-processing"
   ]
  },
  {
   "cell_type": "markdown",
   "metadata": {
    "ExecuteTime": {
     "end_time": "2020-12-27T13:15:55.163341Z",
     "start_time": "2020-12-27T13:15:55.161203Z"
    }
   },
   "source": [
    "If there are registers of running with zero distance or duration of run, remove them."
   ]
  },
  {
   "cell_type": "code",
   "execution_count": 9,
   "metadata": {
    "ExecuteTime": {
     "end_time": "2021-09-14T03:05:16.429509Z",
     "start_time": "2021-09-14T03:05:16.402754Z"
    }
   },
   "outputs": [
    {
     "name": "stdout",
     "output_type": "stream",
     "text": [
      "Number of run activities with zero distance or duration: 0\n"
     ]
    }
   ],
   "source": [
    "zeroduration = df[(df['activity']=='run') & \n",
    "                  ((df['distance'] == 0) | (df['duration'] == 0))]\n",
    "print('Number of run activities with zero distance or duration:', zeroduration.shape[0])\n",
    "if zeroduration.size:\n",
    "    df = df.drop(index=zeroduration.index)\n",
    "    df['athlete'] = df['athlete'].cat.remove_unused_categories()"
   ]
  },
  {
   "cell_type": "markdown",
   "metadata": {},
   "source": [
    "### Select athletes who ran at least once in 2019\n",
    "\n",
    "To investigate a COVID-19 related effect comparing 2019 with 2020, an athlete should have ran at least once in 2019.  \n",
    "Let's find out if there are athletes in 2020 who are not in 2019 and remove them."
   ]
  },
  {
   "cell_type": "code",
   "execution_count": 10,
   "metadata": {
    "ExecuteTime": {
     "end_time": "2021-09-14T03:05:25.784237Z",
     "start_time": "2021-09-14T03:05:16.430394Z"
    }
   },
   "outputs": [
    {
     "name": "stdout",
     "output_type": "stream",
     "text": [
      "Number of athletes: 37595 and who ran at least once in 2019: 36412\n"
     ]
    }
   ],
   "source": [
    "df['athlete'] = pd.to_numeric(df['athlete'])\n",
    "athlete2019run = df[(df['datetime'].dt.year==2019) &\n",
    "                    (df['activity']=='run')]['athlete'].unique()\n",
    "print('Number of athletes: {} and who ran at least once in 2019: {}'\n",
    "      .format(df['athlete'].unique().size, athlete2019run.size))\n",
    "#df = df[~df['athlete'].isin(athlete2019run)]  # CopyWarning\n",
    "df = df.drop(index=df[~df['athlete'].isin(athlete2019run)].index)\n",
    "df['athlete'] = df['athlete'].astype('category')\n",
    "df['athlete'] = df['athlete'].cat.remove_unused_categories()"
   ]
  },
  {
   "cell_type": "code",
   "execution_count": 11,
   "metadata": {
    "ExecuteTime": {
     "end_time": "2021-09-14T03:05:29.277553Z",
     "start_time": "2021-09-14T03:05:25.785194Z"
    }
   },
   "outputs": [
    {
     "name": "stdout",
     "output_type": "stream",
     "text": [
      "Number of days: 731\n",
      "Number of athletes: 36412\n",
      "Number of activities: 14530848\n",
      "Number of types of activities: 36\n",
      "Average duration of activity per day per athlete: 1889 s\n"
     ]
    }
   ],
   "source": [
    "ndays = df['datetime'].dt.date.value_counts().size\n",
    "print('Number of days:', ndays)\n",
    "nathletes = df['athlete'].unique().size\n",
    "print('Number of athletes:', nathletes)\n",
    "nactivities = df['activity'].size\n",
    "print('Number of activities:', nactivities)\n",
    "nactivities2 = df['activity'].unique().size\n",
    "print('Number of types of activities:', nactivities2)\n",
    "duration = df['duration'].sum()/ndays/nathletes\n",
    "print('Average duration of activity per day per athlete: {:.0f} s'.format(duration))"
   ]
  },
  {
   "cell_type": "markdown",
   "metadata": {},
   "source": [
    "### Save the current dataframe as the default raw dataset"
   ]
  },
  {
   "cell_type": "code",
   "execution_count": null,
   "metadata": {},
   "outputs": [],
   "source": []
  },
  {
   "cell_type": "markdown",
   "metadata": {},
   "source": [
    "### Select 'run' as activity type\n",
    "\n",
    "Let's analyze only running activity. In the dataset, there are two run activities: 'run' and 'virtualrun' (although the duration of 'virtual run' is insignificant).  "
   ]
  },
  {
   "cell_type": "code",
   "execution_count": 12,
   "metadata": {
    "ExecuteTime": {
     "end_time": "2021-09-14T03:05:29.639086Z",
     "start_time": "2021-09-14T03:05:29.278381Z"
    }
   },
   "outputs": [
    {
     "name": "stdout",
     "output_type": "stream",
     "text": [
      "Average duration of run per day per athlete: 1330 s\n",
      "Average duration of virtual run per day per athlete: 4 s\n"
     ]
    }
   ],
   "source": [
    "drun = df[df['activity']=='run']['duration'].sum()/ndays/nathletes\n",
    "print('Average duration of run per day per athlete: {:.0f} s'.format(drun))\n",
    "dvirtualrun = df[df['activity']=='virtualrun']['duration'].sum()/ndays/nathletes\n",
    "print('Average duration of virtual run per day per athlete: {:.0f} s'.format(dvirtualrun))"
   ]
  },
  {
   "cell_type": "code",
   "execution_count": 13,
   "metadata": {
    "ExecuteTime": {
     "end_time": "2021-09-14T03:05:29.997551Z",
     "start_time": "2021-09-14T03:05:29.639928Z"
    }
   },
   "outputs": [],
   "source": [
    "#df = df[(df['activity']=='run') | (df['activity']=='virtualrun')]\n",
    "df = df[df['activity']=='run']\n",
    "df = df.drop(columns='activity')"
   ]
  },
  {
   "cell_type": "code",
   "execution_count": 14,
   "metadata": {
    "ExecuteTime": {
     "end_time": "2021-09-14T03:05:31.616411Z",
     "start_time": "2021-09-14T03:05:29.999243Z"
    }
   },
   "outputs": [
    {
     "name": "stdout",
     "output_type": "stream",
     "text": [
      "Number of athletes who did not run in 2019: 0\n",
      "Number of athletes who did not run in 2020: 1329\n"
     ]
    }
   ],
   "source": [
    "y = df[df['datetime'].dt.year == 2019][['athlete', 'duration']].groupby('athlete').sum()\n",
    "norun = y[~y.any(axis='columns', skipna=False)]\n",
    "print('Number of athletes who did not run in 2019:', norun.shape[0])\n",
    "y = df[df['datetime'].dt.year == 2020][['athlete', 'duration']].groupby('athlete').sum()\n",
    "norun = y[~y.any(axis='columns', skipna=False)]\n",
    "print('Number of athletes who did not run in 2020:', norun.shape[0])"
   ]
  },
  {
   "cell_type": "markdown",
   "metadata": {},
   "source": [
    "### Transform units to kilometers and minutes\n",
    "\n",
    "For long distance running, kilometers and minutes are more convenient units for distance and duration."
   ]
  },
  {
   "cell_type": "code",
   "execution_count": 15,
   "metadata": {
    "ExecuteTime": {
     "end_time": "2021-09-14T03:05:31.703421Z",
     "start_time": "2021-09-14T03:05:31.617575Z"
    }
   },
   "outputs": [],
   "source": [
    "df['distance'] = df['distance']/1000\n",
    "df['duration'] = df['duration']/60"
   ]
  },
  {
   "cell_type": "code",
   "execution_count": 16,
   "metadata": {
    "ExecuteTime": {
     "end_time": "2021-09-14T03:05:31.766199Z",
     "start_time": "2021-09-14T03:05:31.704289Z"
    }
   },
   "outputs": [
    {
     "name": "stdout",
     "output_type": "stream",
     "text": [
      "Number of athletes: 36412\n",
      "Number of run activities: 10703690\n",
      "Average distance of run per day per athlete: 4.02 km\n",
      "Average duration of run per day per athlete: 22.2 min\n",
      "Average pace of run per day per athlete: 5.51 min/km\n"
     ]
    }
   ],
   "source": [
    "nathletes = df['athlete'].unique().size\n",
    "print('Number of athletes:', nathletes)\n",
    "nactivities = df.shape[0]\n",
    "print('Number of run activities:', nactivities)\n",
    "distance = df['distance'].sum()/ndays/nathletes\n",
    "print('Average distance of run per day per athlete: {:.3g} km'.format(distance))\n",
    "duration = df['duration'].sum()/ndays/nathletes\n",
    "print('Average duration of run per day per athlete: {:.3g} min'.format(duration))\n",
    "pace = duration / distance\n",
    "print('Average pace of run per day per athlete: {:.3g} min/km'.format(pace))"
   ]
  },
  {
   "cell_type": "markdown",
   "metadata": {},
   "source": [
    "Selecting only the run activity, about 4 millions of other activities the athletes performed were removed (about one fourth of the 14.5 millions activities in total)."
   ]
  },
  {
   "cell_type": "code",
   "execution_count": 17,
   "metadata": {
    "ExecuteTime": {
     "end_time": "2021-09-14T03:05:38.833822Z",
     "start_time": "2021-09-14T03:05:31.767010Z"
    }
   },
   "outputs": [
    {
     "name": "stdout",
     "output_type": "stream",
     "text": [
      "Year: 2019\n",
      " Number of days: 365\n",
      " Number of athletes: 36412\n",
      " Total number of activities: 5468752\n",
      "Year: 2020\n",
      " Number of days: 366\n",
      " Number of athletes: 35083\n",
      " Total number of activities: 5234938\n"
     ]
    }
   ],
   "source": [
    "years = [2019, 2020]\n",
    "for year in years:\n",
    "    print('Year: {}'.format(year))\n",
    "    nday = df[df['datetime'].dt.year == year]['datetime'].dt.date.value_counts().size\n",
    "    print(' Number of days:', nday)\n",
    "    nathlete = df[df['datetime'].dt.year == year]['athlete'].unique().size\n",
    "    print(' Number of athletes:', nathlete)\n",
    "    nactivity = df[df['datetime'].dt.year == year].shape[0]\n",
    "    print(' Total number of activities:', nactivity)"
   ]
  },
  {
   "cell_type": "markdown",
   "metadata": {},
   "source": [
    "### Update age groups to 2019\n",
    "\n",
    "In the dataset, the age-group interval was taken from the Strava web page with the segment of the Major marathon the athlete participated. If the athlete participated in more than one Major, the age-group interval kept is from the segment with the most recent Major.  \n",
    "Anyway, the age-group interval was from the year the Major occurred and this interval must be updated to 2019.  \n",
    "First, we will estimate the athlete's age at her/his most recent Major as the average of the age-group interval reported. Second, the estimated age will be updated to 2019 by summing to this age the difference between 2019 and the year of the athlete's most recent Major. Finally, the updated age will be transformed to one of the existent age-group intervals."
   ]
  },
  {
   "cell_type": "code",
   "execution_count": 18,
   "metadata": {
    "ExecuteTime": {
     "end_time": "2021-09-14T03:05:40.197407Z",
     "start_time": "2021-09-14T03:05:38.834783Z"
    }
   },
   "outputs": [],
   "source": [
    "y = df[['athlete', 'age_group', 'major']\n",
    "      ].drop_duplicates(subset='athlete').sort_values('athlete').reset_index(drop=True)\n",
    "age_group = y['age_group'].cat.categories.to_list()\n",
    "age = {'19 and under':19, '20 to 24':22.5, '25 to 34':30, '35 to 44':40,\n",
    "       '45 to 54':50, '55 to 64':60, '65 to 69':67.5, '70 to 74':72.5, '75+':76}\n",
    "y['age_group'] = y['age_group'].map(age).astype(float)\n",
    "f = lambda x: np.array(x, dtype=int).max()\n",
    "y['age_group'] = y['age_group'] + (2019 - y['major'].str.findall(r'[0-9]+').apply(f))\n",
    "bins = np.r_[18, np.array([a.split(' to ')[0] for a in age_group[1:-1]],\n",
    "                          dtype=int), 75, 100]\n",
    "y['age_group'] = pd.cut(y['age_group'], bins=bins, right=False, labels=age_group)\n",
    "df = df.drop('age_group', axis=1).join(y.drop('major', axis=1).set_index('athlete'),\n",
    "                                       on='athlete')\n",
    "df = df[['datetime', 'athlete', 'gender', 'age_group',\n",
    "         'distance', 'duration', 'country', 'major']]"
   ]
  },
  {
   "cell_type": "markdown",
   "metadata": {},
   "source": [
    "### Merge the 9 age groups into 3 groups\n",
    "\n",
    "To simplify the data analysis per age group, let's reduce from nine to three age groups."
   ]
  },
  {
   "cell_type": "code",
   "execution_count": 19,
   "metadata": {
    "ExecuteTime": {
     "end_time": "2021-09-14T03:05:40.435952Z",
     "start_time": "2021-09-14T03:05:40.198565Z"
    }
   },
   "outputs": [
    {
     "data": {
      "text/html": [
       "<div>\n",
       "<style scoped>\n",
       "    .dataframe tbody tr th:only-of-type {\n",
       "        vertical-align: middle;\n",
       "    }\n",
       "\n",
       "    .dataframe tbody tr th {\n",
       "        vertical-align: top;\n",
       "    }\n",
       "\n",
       "    .dataframe thead tr th {\n",
       "        text-align: left;\n",
       "    }\n",
       "\n",
       "    .dataframe thead tr:last-of-type th {\n",
       "        text-align: right;\n",
       "    }\n",
       "</style>\n",
       "<table border=\"1\" class=\"dataframe\">\n",
       "  <thead>\n",
       "    <tr>\n",
       "      <th></th>\n",
       "      <th colspan=\"9\" halign=\"left\">athlete</th>\n",
       "    </tr>\n",
       "    <tr>\n",
       "      <th>age_group</th>\n",
       "      <th>19 and under</th>\n",
       "      <th>20 to 24</th>\n",
       "      <th>25 to 34</th>\n",
       "      <th>35 to 44</th>\n",
       "      <th>45 to 54</th>\n",
       "      <th>55 to 64</th>\n",
       "      <th>65 to 69</th>\n",
       "      <th>70 to 74</th>\n",
       "      <th>75+</th>\n",
       "    </tr>\n",
       "    <tr>\n",
       "      <th>gender</th>\n",
       "      <th></th>\n",
       "      <th></th>\n",
       "      <th></th>\n",
       "      <th></th>\n",
       "      <th></th>\n",
       "      <th></th>\n",
       "      <th></th>\n",
       "      <th></th>\n",
       "      <th></th>\n",
       "    </tr>\n",
       "  </thead>\n",
       "  <tbody>\n",
       "    <tr>\n",
       "      <th>F</th>\n",
       "      <td>441</td>\n",
       "      <td>899</td>\n",
       "      <td>2524</td>\n",
       "      <td>2922</td>\n",
       "      <td>1707</td>\n",
       "      <td>346</td>\n",
       "      <td>31</td>\n",
       "      <td>10</td>\n",
       "      <td>9</td>\n",
       "    </tr>\n",
       "    <tr>\n",
       "      <th>M</th>\n",
       "      <td>36</td>\n",
       "      <td>651</td>\n",
       "      <td>7691</td>\n",
       "      <td>10776</td>\n",
       "      <td>6196</td>\n",
       "      <td>1909</td>\n",
       "      <td>175</td>\n",
       "      <td>57</td>\n",
       "      <td>32</td>\n",
       "    </tr>\n",
       "  </tbody>\n",
       "</table>\n",
       "</div>"
      ],
      "text/plain": [
       "               athlete                                                        \\\n",
       "age_group 19 and under 20 to 24 25 to 34 35 to 44 45 to 54 55 to 64 65 to 69   \n",
       "gender                                                                         \n",
       "F                  441      899     2524     2922     1707      346       31   \n",
       "M                   36      651     7691    10776     6196     1909      175   \n",
       "\n",
       "                        \n",
       "age_group 70 to 74 75+  \n",
       "gender                  \n",
       "F               10   9  \n",
       "M               57  32  "
      ]
     },
     "execution_count": 19,
     "metadata": {},
     "output_type": "execute_result"
    }
   ],
   "source": [
    "df.drop_duplicates(subset='athlete')[['athlete', 'age_group', 'gender']\n",
    "                                    ].groupby(['age_group',\n",
    "                                               'gender']).count().unstack(level=0)"
   ]
  },
  {
   "cell_type": "code",
   "execution_count": 20,
   "metadata": {
    "ExecuteTime": {
     "end_time": "2021-09-14T03:05:41.388516Z",
     "start_time": "2021-09-14T03:05:40.437048Z"
    }
   },
   "outputs": [
    {
     "data": {
      "text/html": [
       "<div>\n",
       "<style scoped>\n",
       "    .dataframe tbody tr th:only-of-type {\n",
       "        vertical-align: middle;\n",
       "    }\n",
       "\n",
       "    .dataframe tbody tr th {\n",
       "        vertical-align: top;\n",
       "    }\n",
       "\n",
       "    .dataframe thead tr th {\n",
       "        text-align: left;\n",
       "    }\n",
       "\n",
       "    .dataframe thead tr:last-of-type th {\n",
       "        text-align: right;\n",
       "    }\n",
       "</style>\n",
       "<table border=\"1\" class=\"dataframe\">\n",
       "  <thead>\n",
       "    <tr>\n",
       "      <th></th>\n",
       "      <th colspan=\"3\" halign=\"left\">athlete</th>\n",
       "    </tr>\n",
       "    <tr>\n",
       "      <th>age_group</th>\n",
       "      <th>18 - 34</th>\n",
       "      <th>35 - 54</th>\n",
       "      <th>55 +</th>\n",
       "    </tr>\n",
       "    <tr>\n",
       "      <th>gender</th>\n",
       "      <th></th>\n",
       "      <th></th>\n",
       "      <th></th>\n",
       "    </tr>\n",
       "  </thead>\n",
       "  <tbody>\n",
       "    <tr>\n",
       "      <th>F</th>\n",
       "      <td>3864</td>\n",
       "      <td>4629</td>\n",
       "      <td>396</td>\n",
       "    </tr>\n",
       "    <tr>\n",
       "      <th>M</th>\n",
       "      <td>8378</td>\n",
       "      <td>16972</td>\n",
       "      <td>2173</td>\n",
       "    </tr>\n",
       "  </tbody>\n",
       "</table>\n",
       "</div>"
      ],
      "text/plain": [
       "          athlete              \n",
       "age_group 18 - 34 35 - 54  55 +\n",
       "gender                         \n",
       "F            3864    4629   396\n",
       "M            8378   16972  2173"
      ]
     },
     "execution_count": 20,
     "metadata": {},
     "output_type": "execute_result"
    }
   ],
   "source": [
    "age_groups = {'19 and under':'18 - 34', '20 to 24':'18 - 34', '25 to 34':'18 - 34',\n",
    "              '35 to 44':'35 - 54', '45 to 54':'35 - 54',\n",
    "              '55 to 64':'55 +', '65 to 69':'55 +', '70 to 74':'55 +', '75+':'55 +'}\n",
    "df['age_group'] = df['age_group'].map(age_groups).astype('category')\n",
    "df.drop_duplicates(subset='athlete')[['athlete', 'age_group', 'gender']\n",
    "                                    ].groupby(['age_group',\n",
    "                                               'gender']).count().unstack(level=0)"
   ]
  },
  {
   "cell_type": "markdown",
   "metadata": {},
   "source": [
    "### Correct some country names \n",
    "\n",
    "See https://en.wikipedia.org/wiki/List_of_ISO_3166_country_codes"
   ]
  },
  {
   "cell_type": "code",
   "execution_count": 21,
   "metadata": {
    "ExecuteTime": {
     "end_time": "2021-09-14T03:05:42.078510Z",
     "start_time": "2021-09-14T03:05:41.389288Z"
    }
   },
   "outputs": [],
   "source": [
    "df['country'].replace(\n",
    "    {'The Netherlands': 'Netherlands', 'Suomi Finland': 'Finland',\n",
    "     'Moldavia': 'Moldova', 'Republic of Korea': 'South Korea',\n",
    "     'The United Arab Emirates': 'United Arab Emirates',\n",
    "     'Luzon': 'Philippines', 'Hellas': 'Greece', 'Cyprus - Kibris': 'Cyprus',\n",
    "     'Mongolian': 'Mongolia', 'The Savior': 'El Salvador',\n",
    "     'Balgariya': 'Bulgaria', 'the two seas': 'Bahrain',\n",
    "     'Føroyar': 'Faroe Islands', 'Saudi': 'Saudi Arabia',\n",
    "     'Amman': 'Jordan', 'The Bahamas': 'Bahamas', \"Timor Lorosa'e\": 'East Timor',\n",
    "     'Diameter': np.nan}, inplace=True)\n",
    "df['country'] = df['country'].astype('category')"
   ]
  },
  {
   "cell_type": "markdown",
   "metadata": {},
   "source": [
    "## Export dataset\n",
    "\n",
    "See a comparison on [formats to save Pandas data](https://towardsdatascience.com/the-best-format-to-save-pandas-data-414dca023e0d)."
   ]
  },
  {
   "cell_type": "code",
   "execution_count": 22,
   "metadata": {
    "ExecuteTime": {
     "end_time": "2021-09-14T03:05:44.501234Z",
     "start_time": "2021-09-14T03:05:42.079376Z"
    }
   },
   "outputs": [
    {
     "data": {
      "text/html": [
       "<div>\n",
       "<style scoped>\n",
       "    .dataframe tbody tr th:only-of-type {\n",
       "        vertical-align: middle;\n",
       "    }\n",
       "\n",
       "    .dataframe tbody tr th {\n",
       "        vertical-align: top;\n",
       "    }\n",
       "\n",
       "    .dataframe thead th {\n",
       "        text-align: right;\n",
       "    }\n",
       "</style>\n",
       "<table border=\"1\" class=\"dataframe\">\n",
       "  <thead>\n",
       "    <tr style=\"text-align: right;\">\n",
       "      <th></th>\n",
       "      <th>datetime</th>\n",
       "      <th>athlete</th>\n",
       "      <th>gender</th>\n",
       "      <th>age_group</th>\n",
       "      <th>distance</th>\n",
       "      <th>duration</th>\n",
       "      <th>country</th>\n",
       "      <th>major</th>\n",
       "    </tr>\n",
       "  </thead>\n",
       "  <tbody>\n",
       "    <tr>\n",
       "      <th>0</th>\n",
       "      <td>2019-01-01 00:00:00</td>\n",
       "      <td>261</td>\n",
       "      <td>F</td>\n",
       "      <td>18 - 34</td>\n",
       "      <td>4.71</td>\n",
       "      <td>27.25</td>\n",
       "      <td>Canada</td>\n",
       "      <td>CHICAGO 2018</td>\n",
       "    </tr>\n",
       "    <tr>\n",
       "      <th>1</th>\n",
       "      <td>2019-01-01 00:00:00</td>\n",
       "      <td>1575</td>\n",
       "      <td>M</td>\n",
       "      <td>35 - 54</td>\n",
       "      <td>6.5</td>\n",
       "      <td>23.63</td>\n",
       "      <td>United States</td>\n",
       "      <td>BOSTON 2019</td>\n",
       "    </tr>\n",
       "    <tr>\n",
       "      <th>2</th>\n",
       "      <td>2019-01-01 00:00:00</td>\n",
       "      <td>2010</td>\n",
       "      <td>M</td>\n",
       "      <td>35 - 54</td>\n",
       "      <td>6.64</td>\n",
       "      <td>31.95</td>\n",
       "      <td>United States</td>\n",
       "      <td>NEW YORK 2018</td>\n",
       "    </tr>\n",
       "    <tr>\n",
       "      <th>3</th>\n",
       "      <td>2019-01-01 00:00:00</td>\n",
       "      <td>2937</td>\n",
       "      <td>M</td>\n",
       "      <td>35 - 54</td>\n",
       "      <td>42.34</td>\n",
       "      <td>194</td>\n",
       "      <td>Germany</td>\n",
       "      <td>BERLIN 2019</td>\n",
       "    </tr>\n",
       "    <tr>\n",
       "      <th>4</th>\n",
       "      <td>2019-01-01 00:00:00</td>\n",
       "      <td>3172</td>\n",
       "      <td>M</td>\n",
       "      <td>18 - 34</td>\n",
       "      <td>6.59</td>\n",
       "      <td>38.58</td>\n",
       "      <td>United States</td>\n",
       "      <td>BOSTON 2019</td>\n",
       "    </tr>\n",
       "    <tr>\n",
       "      <th>...</th>\n",
       "      <td>...</td>\n",
       "      <td>...</td>\n",
       "      <td>...</td>\n",
       "      <td>...</td>\n",
       "      <td>...</td>\n",
       "      <td>...</td>\n",
       "      <td>...</td>\n",
       "      <td>...</td>\n",
       "    </tr>\n",
       "    <tr>\n",
       "      <th>10703685</th>\n",
       "      <td>2020-12-31 23:54:00</td>\n",
       "      <td>223</td>\n",
       "      <td>M</td>\n",
       "      <td>35 - 54</td>\n",
       "      <td>5.21</td>\n",
       "      <td>30.1</td>\n",
       "      <td>China</td>\n",
       "      <td>CHICAGO 2015</td>\n",
       "    </tr>\n",
       "    <tr>\n",
       "      <th>10703686</th>\n",
       "      <td>2020-12-31 23:56:00</td>\n",
       "      <td>20357</td>\n",
       "      <td>F</td>\n",
       "      <td>35 - 54</td>\n",
       "      <td>1.62</td>\n",
       "      <td>8.717</td>\n",
       "      <td>United States</td>\n",
       "      <td>BOSTON 2019</td>\n",
       "    </tr>\n",
       "    <tr>\n",
       "      <th>10703687</th>\n",
       "      <td>2020-12-31 23:58:00</td>\n",
       "      <td>16899</td>\n",
       "      <td>F</td>\n",
       "      <td>18 - 34</td>\n",
       "      <td>6.57</td>\n",
       "      <td>49.5</td>\n",
       "      <td>United States</td>\n",
       "      <td>NEW YORK 2017</td>\n",
       "    </tr>\n",
       "    <tr>\n",
       "      <th>10703688</th>\n",
       "      <td>2020-12-31 23:59:00</td>\n",
       "      <td>6134</td>\n",
       "      <td>M</td>\n",
       "      <td>35 - 54</td>\n",
       "      <td>5.56</td>\n",
       "      <td>34.05</td>\n",
       "      <td>United States</td>\n",
       "      <td>NEW YORK 2019</td>\n",
       "    </tr>\n",
       "    <tr>\n",
       "      <th>10703689</th>\n",
       "      <td>2020-12-31 23:59:00</td>\n",
       "      <td>34174</td>\n",
       "      <td>F</td>\n",
       "      <td>35 - 54</td>\n",
       "      <td>1.61</td>\n",
       "      <td>12.38</td>\n",
       "      <td>United Kingdom</td>\n",
       "      <td>LONDON 2015</td>\n",
       "    </tr>\n",
       "  </tbody>\n",
       "</table>\n",
       "<p>10703690 rows × 8 columns</p>\n",
       "</div>"
      ],
      "text/plain": [
       "                    datetime athlete gender age_group  distance  duration  \\\n",
       "0        2019-01-01 00:00:00     261      F   18 - 34      4.71     27.25   \n",
       "1        2019-01-01 00:00:00    1575      M   35 - 54       6.5     23.63   \n",
       "2        2019-01-01 00:00:00    2010      M   35 - 54      6.64     31.95   \n",
       "3        2019-01-01 00:00:00    2937      M   35 - 54     42.34       194   \n",
       "4        2019-01-01 00:00:00    3172      M   18 - 34      6.59     38.58   \n",
       "...                      ...     ...    ...       ...       ...       ...   \n",
       "10703685 2020-12-31 23:54:00     223      M   35 - 54      5.21      30.1   \n",
       "10703686 2020-12-31 23:56:00   20357      F   35 - 54      1.62     8.717   \n",
       "10703687 2020-12-31 23:58:00   16899      F   18 - 34      6.57      49.5   \n",
       "10703688 2020-12-31 23:59:00    6134      M   35 - 54      5.56     34.05   \n",
       "10703689 2020-12-31 23:59:00   34174      F   35 - 54      1.61     12.38   \n",
       "\n",
       "                 country          major  \n",
       "0                 Canada   CHICAGO 2018  \n",
       "1          United States    BOSTON 2019  \n",
       "2          United States  NEW YORK 2018  \n",
       "3                Germany    BERLIN 2019  \n",
       "4          United States    BOSTON 2019  \n",
       "...                  ...            ...  \n",
       "10703685           China   CHICAGO 2015  \n",
       "10703686   United States    BOSTON 2019  \n",
       "10703687   United States  NEW YORK 2017  \n",
       "10703688   United States  NEW YORK 2019  \n",
       "10703689  United Kingdom    LONDON 2015  \n",
       "\n",
       "[10703690 rows x 8 columns]"
      ]
     },
     "execution_count": 22,
     "metadata": {},
     "output_type": "execute_result"
    }
   ],
   "source": [
    "df.sort_values(['datetime', 'athlete'], inplace=True)\n",
    "df.reset_index(inplace=True, drop=True)\n",
    "df"
   ]
  },
  {
   "cell_type": "code",
   "execution_count": 23,
   "metadata": {
    "ExecuteTime": {
     "end_time": "2021-09-14T03:05:44.506836Z",
     "start_time": "2021-09-14T03:05:44.502055Z"
    }
   },
   "outputs": [
    {
     "name": "stdout",
     "output_type": "stream",
     "text": [
      "<class 'pandas.core.frame.DataFrame'>\n",
      "RangeIndex: 10703690 entries, 0 to 10703689\n",
      "Data columns (total 8 columns):\n",
      " #   Column     Dtype         \n",
      "---  ------     -----         \n",
      " 0   datetime   datetime64[ns]\n",
      " 1   athlete    category      \n",
      " 2   gender     category      \n",
      " 3   age_group  category      \n",
      " 4   distance   float64       \n",
      " 5   duration   float64       \n",
      " 6   country    category      \n",
      " 7   major      category      \n",
      "dtypes: category(5), datetime64[ns](1), float64(2)\n",
      "memory usage: 348.5 MB\n"
     ]
    }
   ],
   "source": [
    "df.info(memory_usage='deep')"
   ]
  },
  {
   "cell_type": "markdown",
   "metadata": {},
   "source": [
    "### Full dataset with running activities"
   ]
  },
  {
   "cell_type": "code",
   "execution_count": 24,
   "metadata": {
    "ExecuteTime": {
     "end_time": "2021-09-14T03:05:45.820384Z",
     "start_time": "2021-09-14T03:05:44.507802Z"
    }
   },
   "outputs": [],
   "source": [
    "df.to_parquet(os.path.join(path2, 'run_ww_2019_2020.parquet'), engine='pyarrow')"
   ]
  },
  {
   "cell_type": "markdown",
   "metadata": {},
   "source": [
    "### Test file"
   ]
  },
  {
   "cell_type": "code",
   "execution_count": 25,
   "metadata": {
    "ExecuteTime": {
     "end_time": "2021-09-14T03:05:46.208988Z",
     "start_time": "2021-09-14T03:05:45.821299Z"
    }
   },
   "outputs": [
    {
     "data": {
      "text/html": [
       "<div>\n",
       "<style scoped>\n",
       "    .dataframe tbody tr th:only-of-type {\n",
       "        vertical-align: middle;\n",
       "    }\n",
       "\n",
       "    .dataframe tbody tr th {\n",
       "        vertical-align: top;\n",
       "    }\n",
       "\n",
       "    .dataframe thead th {\n",
       "        text-align: right;\n",
       "    }\n",
       "</style>\n",
       "<table border=\"1\" class=\"dataframe\">\n",
       "  <thead>\n",
       "    <tr style=\"text-align: right;\">\n",
       "      <th></th>\n",
       "      <th>datetime</th>\n",
       "      <th>athlete</th>\n",
       "      <th>gender</th>\n",
       "      <th>age_group</th>\n",
       "      <th>distance</th>\n",
       "      <th>duration</th>\n",
       "      <th>country</th>\n",
       "      <th>major</th>\n",
       "    </tr>\n",
       "  </thead>\n",
       "  <tbody>\n",
       "    <tr>\n",
       "      <th>0</th>\n",
       "      <td>2019-01-01 00:00:00</td>\n",
       "      <td>261</td>\n",
       "      <td>F</td>\n",
       "      <td>18 - 34</td>\n",
       "      <td>4.71</td>\n",
       "      <td>27.25</td>\n",
       "      <td>Canada</td>\n",
       "      <td>CHICAGO 2018</td>\n",
       "    </tr>\n",
       "    <tr>\n",
       "      <th>1</th>\n",
       "      <td>2019-01-01 00:00:00</td>\n",
       "      <td>1575</td>\n",
       "      <td>M</td>\n",
       "      <td>35 - 54</td>\n",
       "      <td>6.5</td>\n",
       "      <td>23.63</td>\n",
       "      <td>United States</td>\n",
       "      <td>BOSTON 2019</td>\n",
       "    </tr>\n",
       "    <tr>\n",
       "      <th>2</th>\n",
       "      <td>2019-01-01 00:00:00</td>\n",
       "      <td>2010</td>\n",
       "      <td>M</td>\n",
       "      <td>35 - 54</td>\n",
       "      <td>6.64</td>\n",
       "      <td>31.95</td>\n",
       "      <td>United States</td>\n",
       "      <td>NEW YORK 2018</td>\n",
       "    </tr>\n",
       "    <tr>\n",
       "      <th>3</th>\n",
       "      <td>2019-01-01 00:00:00</td>\n",
       "      <td>2937</td>\n",
       "      <td>M</td>\n",
       "      <td>35 - 54</td>\n",
       "      <td>42.34</td>\n",
       "      <td>194</td>\n",
       "      <td>Germany</td>\n",
       "      <td>BERLIN 2019</td>\n",
       "    </tr>\n",
       "    <tr>\n",
       "      <th>4</th>\n",
       "      <td>2019-01-01 00:00:00</td>\n",
       "      <td>3172</td>\n",
       "      <td>M</td>\n",
       "      <td>18 - 34</td>\n",
       "      <td>6.59</td>\n",
       "      <td>38.58</td>\n",
       "      <td>United States</td>\n",
       "      <td>BOSTON 2019</td>\n",
       "    </tr>\n",
       "    <tr>\n",
       "      <th>...</th>\n",
       "      <td>...</td>\n",
       "      <td>...</td>\n",
       "      <td>...</td>\n",
       "      <td>...</td>\n",
       "      <td>...</td>\n",
       "      <td>...</td>\n",
       "      <td>...</td>\n",
       "      <td>...</td>\n",
       "    </tr>\n",
       "    <tr>\n",
       "      <th>10703685</th>\n",
       "      <td>2020-12-31 23:54:00</td>\n",
       "      <td>223</td>\n",
       "      <td>M</td>\n",
       "      <td>35 - 54</td>\n",
       "      <td>5.21</td>\n",
       "      <td>30.1</td>\n",
       "      <td>China</td>\n",
       "      <td>CHICAGO 2015</td>\n",
       "    </tr>\n",
       "    <tr>\n",
       "      <th>10703686</th>\n",
       "      <td>2020-12-31 23:56:00</td>\n",
       "      <td>20357</td>\n",
       "      <td>F</td>\n",
       "      <td>35 - 54</td>\n",
       "      <td>1.62</td>\n",
       "      <td>8.717</td>\n",
       "      <td>United States</td>\n",
       "      <td>BOSTON 2019</td>\n",
       "    </tr>\n",
       "    <tr>\n",
       "      <th>10703687</th>\n",
       "      <td>2020-12-31 23:58:00</td>\n",
       "      <td>16899</td>\n",
       "      <td>F</td>\n",
       "      <td>18 - 34</td>\n",
       "      <td>6.57</td>\n",
       "      <td>49.5</td>\n",
       "      <td>United States</td>\n",
       "      <td>NEW YORK 2017</td>\n",
       "    </tr>\n",
       "    <tr>\n",
       "      <th>10703688</th>\n",
       "      <td>2020-12-31 23:59:00</td>\n",
       "      <td>6134</td>\n",
       "      <td>M</td>\n",
       "      <td>35 - 54</td>\n",
       "      <td>5.56</td>\n",
       "      <td>34.05</td>\n",
       "      <td>United States</td>\n",
       "      <td>NEW YORK 2019</td>\n",
       "    </tr>\n",
       "    <tr>\n",
       "      <th>10703689</th>\n",
       "      <td>2020-12-31 23:59:00</td>\n",
       "      <td>34174</td>\n",
       "      <td>F</td>\n",
       "      <td>35 - 54</td>\n",
       "      <td>1.61</td>\n",
       "      <td>12.38</td>\n",
       "      <td>United Kingdom</td>\n",
       "      <td>LONDON 2015</td>\n",
       "    </tr>\n",
       "  </tbody>\n",
       "</table>\n",
       "<p>10703690 rows × 8 columns</p>\n",
       "</div>"
      ],
      "text/plain": [
       "                    datetime  athlete gender age_group  distance  duration  \\\n",
       "0        2019-01-01 00:00:00      261      F   18 - 34      4.71     27.25   \n",
       "1        2019-01-01 00:00:00     1575      M   35 - 54       6.5     23.63   \n",
       "2        2019-01-01 00:00:00     2010      M   35 - 54      6.64     31.95   \n",
       "3        2019-01-01 00:00:00     2937      M   35 - 54     42.34       194   \n",
       "4        2019-01-01 00:00:00     3172      M   18 - 34      6.59     38.58   \n",
       "...                      ...      ...    ...       ...       ...       ...   \n",
       "10703685 2020-12-31 23:54:00      223      M   35 - 54      5.21      30.1   \n",
       "10703686 2020-12-31 23:56:00    20357      F   35 - 54      1.62     8.717   \n",
       "10703687 2020-12-31 23:58:00    16899      F   18 - 34      6.57      49.5   \n",
       "10703688 2020-12-31 23:59:00     6134      M   35 - 54      5.56     34.05   \n",
       "10703689 2020-12-31 23:59:00    34174      F   35 - 54      1.61     12.38   \n",
       "\n",
       "                 country          major  \n",
       "0                 Canada   CHICAGO 2018  \n",
       "1          United States    BOSTON 2019  \n",
       "2          United States  NEW YORK 2018  \n",
       "3                Germany    BERLIN 2019  \n",
       "4          United States    BOSTON 2019  \n",
       "...                  ...            ...  \n",
       "10703685           China   CHICAGO 2015  \n",
       "10703686   United States    BOSTON 2019  \n",
       "10703687   United States  NEW YORK 2017  \n",
       "10703688   United States  NEW YORK 2019  \n",
       "10703689  United Kingdom    LONDON 2015  \n",
       "\n",
       "[10703690 rows x 8 columns]"
      ]
     },
     "execution_count": 25,
     "metadata": {},
     "output_type": "execute_result"
    }
   ],
   "source": [
    "df = pd.read_parquet(os.path.join(path2, 'run_ww_2019_2020.parquet'))\n",
    "#df['athlete'] = df['athlete'].astype('category')  # bug in parquet\n",
    "df"
   ]
  },
  {
   "cell_type": "code",
   "execution_count": 26,
   "metadata": {
    "ExecuteTime": {
     "end_time": "2021-09-14T03:05:46.215447Z",
     "start_time": "2021-09-14T03:05:46.209812Z"
    }
   },
   "outputs": [
    {
     "name": "stdout",
     "output_type": "stream",
     "text": [
      "<class 'pandas.core.frame.DataFrame'>\n",
      "RangeIndex: 10703690 entries, 0 to 10703689\n",
      "Data columns (total 8 columns):\n",
      " #   Column     Dtype         \n",
      "---  ------     -----         \n",
      " 0   datetime   datetime64[ns]\n",
      " 1   athlete    int64         \n",
      " 2   gender     category      \n",
      " 3   age_group  category      \n",
      " 4   distance   float64       \n",
      " 5   duration   float64       \n",
      " 6   country    category      \n",
      " 7   major      category      \n",
      "dtypes: category(4), datetime64[ns](1), float64(2), int64(1)\n",
      "memory usage: 388.1 MB\n"
     ]
    }
   ],
   "source": [
    "df.info(memory_usage='deep')"
   ]
  },
  {
   "cell_type": "code",
   "execution_count": null,
   "metadata": {},
   "outputs": [],
   "source": []
  }
 ],
 "metadata": {
  "hide_input": false,
  "kernelspec": {
   "display_name": "Python 3 (ipykernel)",
   "language": "python",
   "name": "python3"
  },
  "language_info": {
   "codemirror_mode": {
    "name": "ipython",
    "version": 3
   },
   "file_extension": ".py",
   "mimetype": "text/x-python",
   "name": "python",
   "nbconvert_exporter": "python",
   "pygments_lexer": "ipython3",
   "version": "3.8.12"
  },
  "nbTranslate": {
   "displayLangs": [
    "*"
   ],
   "hotkey": "alt-t",
   "langInMainMenu": true,
   "sourceLang": "en",
   "targetLang": "fr",
   "useGoogleTranslate": true
  },
  "toc": {
   "base_numbering": 1,
   "nav_menu": {},
   "number_sections": true,
   "sideBar": true,
   "skip_h1_title": true,
   "title_cell": "Contents",
   "title_sidebar": "Contents",
   "toc_cell": true,
   "toc_position": {},
   "toc_section_display": true,
   "toc_window_display": false
  },
  "varInspector": {
   "cols": {
    "lenName": 16,
    "lenType": 16,
    "lenVar": 40
   },
   "kernels_config": {
    "python": {
     "delete_cmd_postfix": "",
     "delete_cmd_prefix": "del ",
     "library": "var_list.py",
     "varRefreshCmd": "print(var_dic_list())"
    },
    "r": {
     "delete_cmd_postfix": ") ",
     "delete_cmd_prefix": "rm(",
     "library": "var_list.r",
     "varRefreshCmd": "cat(var_dic_list()) "
    }
   },
   "position": {
    "height": "280px",
    "left": "793px",
    "right": "20px",
    "top": "121px",
    "width": "470px"
   },
   "types_to_exclude": [
    "module",
    "function",
    "builtin_function_or_method",
    "instance",
    "_Feature"
   ],
   "window_display": false
  }
 },
 "nbformat": 4,
 "nbformat_minor": 4
}
