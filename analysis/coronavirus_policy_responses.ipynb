{
 "cells": [
  {
   "cell_type": "markdown",
   "metadata": {},
   "source": [
    "# Policy Responses to the Coronavirus Pandemic\n",
    "\n",
    "> [https://github.com/BMClab/covid19](https://github.com/BMClab/covid19)  \n",
    "> [Laboratory of Biomechanics and Motor Control](http://pesquisa.ufabc.edu.br/bmclab/)  \n",
    "> Federal University of ABC, Brazil"
   ]
  },
  {
   "cell_type": "markdown",
   "metadata": {
    "toc": true
   },
   "source": [
    "<h1>Contents<span class=\"tocSkip\"></span></h1>\n",
    "<div class=\"toc\"><ul class=\"toc-item\"><li><span><a href=\"#Setup\" data-toc-modified-id=\"Setup-1\"><span class=\"toc-item-num\">1&nbsp;&nbsp;</span>Setup</a></span><ul class=\"toc-item\"><li><span><a href=\"#Environment\" data-toc-modified-id=\"Environment-1.1\"><span class=\"toc-item-num\">1.1&nbsp;&nbsp;</span>Environment</a></span></li></ul></li><li><span><a href=\"#Load-dataset-of-running-activities\" data-toc-modified-id=\"Load-dataset-of-running-activities-2\"><span class=\"toc-item-num\">2&nbsp;&nbsp;</span>Load dataset of running activities</a></span><ul class=\"toc-item\"><li><span><a href=\"#Subject's-information\" data-toc-modified-id=\"Subject's-information-2.1\"><span class=\"toc-item-num\">2.1&nbsp;&nbsp;</span>Subject's information</a></span></li></ul></li><li><span><a href=\"#Location\" data-toc-modified-id=\"Location-3\"><span class=\"toc-item-num\">3&nbsp;&nbsp;</span>Location</a></span></li><li><span><a href=\"#Policy-responses-indexes\" data-toc-modified-id=\"Policy-responses-indexes-4\"><span class=\"toc-item-num\">4&nbsp;&nbsp;</span>Policy responses indexes</a></span><ul class=\"toc-item\"><li><span><a href=\"#Load-dataset-for-the-different-indexes\" data-toc-modified-id=\"Load-dataset-for-the-different-indexes-4.1\"><span class=\"toc-item-num\">4.1&nbsp;&nbsp;</span>Load dataset for the different indexes</a></span></li></ul></li><li><span><a href=\"#The-policy-responses-indexes-are-correlated\" data-toc-modified-id=\"The-policy-responses-indexes-are-correlated-5\"><span class=\"toc-item-num\">5&nbsp;&nbsp;</span>The policy responses indexes are correlated</a></span></li><li><span><a href=\"#Weight-policy-responses-indexes-by-number-of-athletes'-countries\" data-toc-modified-id=\"Weight-policy-responses-indexes-by-number-of-athletes'-countries-6\"><span class=\"toc-item-num\">6&nbsp;&nbsp;</span>Weight policy responses indexes by number of athletes' countries</a></span><ul class=\"toc-item\"><li><span><a href=\"#Athletes'-countries-that-are-not-on-the-Covid-19-stringency-index-list\" data-toc-modified-id=\"Athletes'-countries-that-are-not-on-the-Covid-19-stringency-index-list-6.1\"><span class=\"toc-item-num\">6.1&nbsp;&nbsp;</span>Athletes' countries that are not on the Covid-19 stringency index list</a></span></li><li><span><a href=\"#Delete-countries-in-indexes-list-that-are-not-from-athletes\" data-toc-modified-id=\"Delete-countries-in-indexes-list-that-are-not-from-athletes-6.2\"><span class=\"toc-item-num\">6.2&nbsp;&nbsp;</span>Delete countries in indexes list that are not from athletes</a></span><ul class=\"toc-item\"><li><span><a href=\"#Covid-19-stringency-index-averaged-by-percentage-of-athletes'-countries\" data-toc-modified-id=\"Covid-19-stringency-index-averaged-by-percentage-of-athletes'-countries-6.2.1\"><span class=\"toc-item-num\">6.2.1&nbsp;&nbsp;</span>Covid-19 stringency index averaged by percentage of athletes' countries</a></span></li><li><span><a href=\"#Export-data\" data-toc-modified-id=\"Export-data-6.2.2\"><span class=\"toc-item-num\">6.2.2&nbsp;&nbsp;</span>Export data</a></span></li><li><span><a href=\"#data-normalization\" data-toc-modified-id=\"data-normalization-6.2.3\"><span class=\"toc-item-num\">6.2.3&nbsp;&nbsp;</span>data normalization</a></span></li><li><span><a href=\"#Group-data-by-week-or-seven-days\" data-toc-modified-id=\"Group-data-by-week-or-seven-days-6.2.4\"><span class=\"toc-item-num\">6.2.4&nbsp;&nbsp;</span>Group data by week or seven days</a></span></li></ul></li></ul></li></ul></div>"
   ]
  },
  {
   "cell_type": "markdown",
   "metadata": {},
   "source": [
    "## Setup"
   ]
  },
  {
   "cell_type": "code",
   "execution_count": null,
   "metadata": {
    "ExecuteTime": {
     "end_time": "2021-04-27T22:28:29.616972Z",
     "start_time": "2021-04-27T22:28:28.726209Z"
    }
   },
   "outputs": [],
   "source": [
    "import sys, os\n",
    "import numpy as np\n",
    "import pandas as pd\n",
    "import seaborn as sns\n",
    "import matplotlib.pyplot as plt\n",
    "%matplotlib inline\n",
    "import plotly.express as px\n",
    "%load_ext watermark  \n",
    "\n",
    "%watermark\n",
    "%watermark --iversions"
   ]
  },
  {
   "cell_type": "markdown",
   "metadata": {},
   "source": [
    "### Environment"
   ]
  },
  {
   "cell_type": "code",
   "execution_count": null,
   "metadata": {
    "ExecuteTime": {
     "end_time": "2021-04-27T22:28:29.623687Z",
     "start_time": "2021-04-27T22:28:29.618270Z"
    }
   },
   "outputs": [],
   "source": [
    "path2 = r'./../data/'\n",
    "\n",
    "pd.set_option('display.float_format', lambda x: '%.4g' % x)\n",
    "plt.rcParams.update({'font.size': 14, 'xtick.labelsize': 12, 'ytick.labelsize': 12})\n",
    "sns.set_style('whitegrid', rc={'xtick.bottom': True, 'xtick.top': True, 'ytick.left': True,\n",
    "              'ytick.right': True, 'xtick.direction': 'in', 'ytick.direction': 'in'})\n",
    "colors = sns.color_palette()\n",
    "colors"
   ]
  },
  {
   "cell_type": "markdown",
   "metadata": {},
   "source": [
    "## Load dataset of running activities"
   ]
  },
  {
   "cell_type": "code",
   "execution_count": null,
   "metadata": {
    "ExecuteTime": {
     "end_time": "2021-04-27T22:28:30.280103Z",
     "start_time": "2021-04-27T22:28:29.625308Z"
    }
   },
   "outputs": [],
   "source": [
    "df = pd.read_parquet(os.path.join(path2, 'run_ww_2020_d.parquet'))\n",
    "df['athlete'] = df['athlete'].astype('category')  # bug in parquet"
   ]
  },
  {
   "cell_type": "markdown",
   "metadata": {},
   "source": [
    "### Subject's information"
   ]
  },
  {
   "cell_type": "code",
   "execution_count": null,
   "metadata": {
    "ExecuteTime": {
     "end_time": "2021-04-27T22:28:30.591883Z",
     "start_time": "2021-04-27T22:28:30.281136Z"
    }
   },
   "outputs": [],
   "source": [
    "df = df[['athlete', 'gender', 'age_group', 'country', 'major']\n",
    "       ].drop_duplicates(subset='athlete').sort_values('athlete').reset_index(drop=True)\n",
    "df"
   ]
  },
  {
   "cell_type": "code",
   "execution_count": null,
   "metadata": {
    "ExecuteTime": {
     "end_time": "2021-04-27T22:28:30.602664Z",
     "start_time": "2021-04-27T22:28:30.592872Z"
    }
   },
   "outputs": [],
   "source": [
    "df.info(memory_usage='deep')"
   ]
  },
  {
   "cell_type": "markdown",
   "metadata": {
    "ExecuteTime": {
     "end_time": "2021-02-09T09:10:19.706839Z",
     "start_time": "2021-02-09T09:10:19.702270Z"
    }
   },
   "source": [
    "## Location"
   ]
  },
  {
   "cell_type": "code",
   "execution_count": null,
   "metadata": {
    "ExecuteTime": {
     "end_time": "2021-04-27T22:28:30.608223Z",
     "start_time": "2021-04-27T22:28:30.603931Z"
    }
   },
   "outputs": [],
   "source": [
    "print('Number of countries: {}'.format(df['country'].unique().size))\n",
    "print('Number of athletes with unknown country: {} ({:.1f} %)'.format(df['country'].isnull().sum(),\n",
    "       df['country'].isnull().sum()/df['country'].size*100))"
   ]
  },
  {
   "cell_type": "code",
   "execution_count": null,
   "metadata": {
    "ExecuteTime": {
     "end_time": "2021-04-27T22:28:30.619686Z",
     "start_time": "2021-04-27T22:28:30.609244Z"
    }
   },
   "outputs": [],
   "source": [
    "cn_pct = 100*df['country'].value_counts(normalize=True)\n",
    "cn_pct = cn_pct.to_frame().reset_index()\n",
    "cn_pct = cn_pct.rename(columns={'index':'country', 'country':'percentage'})\n",
    "cn_pct['country'] = cn_pct['country'].astype('object')\n",
    "cn_pct.head(10)"
   ]
  },
  {
   "cell_type": "code",
   "execution_count": null,
   "metadata": {
    "ExecuteTime": {
     "end_time": "2021-04-27T22:28:30.808032Z",
     "start_time": "2021-04-27T22:28:30.622486Z"
    }
   },
   "outputs": [],
   "source": [
    "y = cn_pct.copy(deep=True)\n",
    "y.loc[y['percentage'] < 1, 'country'] = 'Other countries'\n",
    "fig = px.pie(y, values='percentage', names='country', labels='percentage',\n",
    "             title='Countries of the athletes')\n",
    "fig.update_traces(textposition='outside', textinfo='percent+label')\n",
    "fig.update_layout(showlegend=False)\n",
    "fig.show()"
   ]
  },
  {
   "cell_type": "markdown",
   "metadata": {},
   "source": [
    "## Policy responses indexes\n",
    "\n",
    "Data from [Policy Responses to the Coronavirus Pandemic](https://ourworldindata.org/policy-responses-covid).\n",
    "\n",
    "- si: [Government Stringency Index](https://ourworldindata.org/covid-government-stringency-index#government-stringency-index)  \n",
    "- ci: [Containment and Health Index](https://ourworldindata.org/covid-government-stringency-index#containment-and-health-index)  \n",
    "- hi: [Stay-at-Home Restrictions](https://ourworldindata.org/covid-stay-home-restrictions)  \n",
    "- fi: [Workplace Closures](https://ourworldindata.org/covid-school-workplace-closures#workplace-closures)"
   ]
  },
  {
   "cell_type": "markdown",
   "metadata": {},
   "source": [
    "### Load dataset for the different indexes"
   ]
  },
  {
   "cell_type": "code",
   "execution_count": null,
   "metadata": {
    "ExecuteTime": {
     "end_time": "2021-04-27T22:28:33.373729Z",
     "start_time": "2021-04-27T22:28:30.809198Z"
    }
   },
   "outputs": [],
   "source": [
    "si = pd.read_csv(os.path.join(path2, 'covid-stringency-index.csv'), sep=',',\n",
    "                 header=0, parse_dates=['Date'], verbose=False, \n",
    "                 usecols=['Entity', 'Date', 'stringency_index'])\n",
    "ci = pd.read_csv(os.path.join(path2, 'covid-containment-and-health-index.csv'), sep=',',\n",
    "                 header=0, parse_dates=['Date'], verbose=False, \n",
    "                 usecols=['Entity', 'Date', 'containment_index'])\n",
    "hi = pd.read_csv(os.path.join(path2, 'stay-at-home-covid.csv'), sep=',',\n",
    "                 header=0, parse_dates=['Date'], verbose=False, \n",
    "                 usecols=['Entity', 'Date', 'stay_home_requirements'])\n",
    "wi = pd.read_csv(os.path.join(path2, 'workplace-closures-covid.csv'), sep=',',\n",
    "                 header=0, parse_dates=['Date'], verbose=False, \n",
    "                 usecols=['Entity', 'Date', 'workplace_closures'])\n",
    "c19idx = si.set_index(['Entity', 'Date']).join([ci.set_index(['Entity', 'Date']),\n",
    "                                                hi.set_index(['Entity', 'Date']),\n",
    "                                                wi.set_index(['Entity', 'Date'])])\n",
    "c19idx.reset_index(inplace=True)\n",
    "c19idx.rename(columns={'Entity': 'country', 'Date': 'date', 'stringency_index':'si',\n",
    "                       'containment_index': 'ci', 'stay_home_requirements': 'hi',\n",
    "                       'workplace_closures': 'wi'},\n",
    "              inplace=True)\n",
    "c19idx = c19idx[c19idx['date'].dt.year == 2020]\n",
    "c19idx['country'].replace({\"Cote d'Ivoire\": 'Ivory Coast', 'Timor': 'East Timor'},\n",
    "                          inplace=True)\n",
    "c19idx"
   ]
  },
  {
   "cell_type": "code",
   "execution_count": null,
   "metadata": {
    "ExecuteTime": {
     "end_time": "2021-04-27T22:28:33.610042Z",
     "start_time": "2021-04-27T22:28:33.374598Z"
    }
   },
   "outputs": [],
   "source": [
    "c19idxm = c19idx.groupby('date').mean()\n",
    "c19idxm = (c19idxm - c19idxm.min()) / (c19idxm.max() - c19idxm.min())\n",
    "c19idxm.plot(lw=3, figsize=(12, 4))\n",
    "plt.show()"
   ]
  },
  {
   "cell_type": "markdown",
   "metadata": {},
   "source": [
    "## The policy responses indexes are correlated "
   ]
  },
  {
   "cell_type": "code",
   "execution_count": null,
   "metadata": {
    "ExecuteTime": {
     "end_time": "2021-04-27T22:28:33.724443Z",
     "start_time": "2021-04-27T22:28:33.610959Z"
    }
   },
   "outputs": [],
   "source": [
    "corr = c19idx.groupby('date').mean().corr()\n",
    "ax = sns.heatmap(corr, annot=True, cbar=False)\n",
    "ax.set_xticklabels(ax.get_xmajorticklabels(), fontsize=18, rotation=0)\n",
    "ax.set_yticklabels(ax.get_ymajorticklabels(), fontsize=18, rotation=0)\n",
    "plt.show()"
   ]
  },
  {
   "cell_type": "markdown",
   "metadata": {},
   "source": [
    "## Weight policy responses indexes by number of athletes' countries"
   ]
  },
  {
   "cell_type": "markdown",
   "metadata": {},
   "source": [
    "### Athletes' countries that are not on the Covid-19 stringency index list"
   ]
  },
  {
   "cell_type": "code",
   "execution_count": null,
   "metadata": {
    "ExecuteTime": {
     "end_time": "2021-04-27T22:28:33.733273Z",
     "start_time": "2021-04-27T22:28:33.725297Z"
    }
   },
   "outputs": [],
   "source": [
    "y = cn_pct[~cn_pct['country'].isin(c19idx['country'].unique().tolist())]\n",
    "print('Athletes not in stringency list: {:.2f} %'.format(y['percentage'].sum()))\n",
    "display(y)"
   ]
  },
  {
   "cell_type": "markdown",
   "metadata": {},
   "source": [
    "### Delete countries in indexes list that are not from athletes"
   ]
  },
  {
   "cell_type": "code",
   "execution_count": null,
   "metadata": {
    "ExecuteTime": {
     "end_time": "2021-04-27T22:28:33.744086Z",
     "start_time": "2021-04-27T22:28:33.734060Z"
    }
   },
   "outputs": [],
   "source": [
    "c19idx = c19idx[c19idx['country'].isin(cn_pct['country'])]\n",
    "c19idx"
   ]
  },
  {
   "cell_type": "markdown",
   "metadata": {},
   "source": [
    "#### Covid-19 stringency index averaged by percentage of athletes' countries"
   ]
  },
  {
   "cell_type": "code",
   "execution_count": null,
   "metadata": {
    "ExecuteTime": {
     "end_time": "2021-04-27T22:28:33.886222Z",
     "start_time": "2021-04-27T22:28:33.744982Z"
    }
   },
   "outputs": [],
   "source": [
    "fun = lambda row: row[['si', 'ci', 'hi', 'wi']]*cn_pct[cn_pct['country']==row.iloc[0]['country']\n",
    "                                                      ]['percentage'].values[0]\n",
    "factor = c19idx['country'].value_counts().size / 100\n",
    "c19idx2 = c19idx.groupby('country').apply(fun)*factor\n",
    "c19idx2.rename(columns={'si': 'si_w', 'ci': 'ci_w', 'hi':'hi_w', 'wi':'wi_w'}, inplace=True)\n",
    "c19idx_w = pd.concat((c19idx[['country', 'date']], c19idx2), axis=1)\n",
    "c19idx_w"
   ]
  },
  {
   "cell_type": "code",
   "execution_count": null,
   "metadata": {
    "ExecuteTime": {
     "end_time": "2021-04-27T22:28:34.113596Z",
     "start_time": "2021-04-27T22:28:33.887112Z"
    }
   },
   "outputs": [],
   "source": [
    "c19idxm_w = c19idx_w.groupby('date').mean()\n",
    "c19idxm_w.plot(lw=3, figsize=(12, 4))\n",
    "plt.show()"
   ]
  },
  {
   "cell_type": "markdown",
   "metadata": {},
   "source": [
    "#### Export data"
   ]
  },
  {
   "cell_type": "code",
   "execution_count": null,
   "metadata": {
    "ExecuteTime": {
     "end_time": "2021-04-27T22:28:34.121072Z",
     "start_time": "2021-04-27T22:28:34.114663Z"
    }
   },
   "outputs": [],
   "source": [
    "c19idxm_w.to_csv(os.path.join(path2, 'policy_response_indexes.csv'))"
   ]
  },
  {
   "cell_type": "markdown",
   "metadata": {},
   "source": [
    "#### data normalization"
   ]
  },
  {
   "cell_type": "code",
   "execution_count": null,
   "metadata": {
    "ExecuteTime": {
     "end_time": "2021-04-27T22:28:34.130592Z",
     "start_time": "2021-04-27T22:28:34.122164Z"
    }
   },
   "outputs": [],
   "source": [
    "c19idxm_w = (c19idxm_w - c19idxm_w.min()) / (c19idxm_w.max() - c19idxm_w.min())\n",
    "c19idxm_w"
   ]
  },
  {
   "cell_type": "code",
   "execution_count": null,
   "metadata": {
    "ExecuteTime": {
     "end_time": "2021-04-27T22:28:34.355661Z",
     "start_time": "2021-04-27T22:28:34.131654Z"
    }
   },
   "outputs": [],
   "source": [
    "c19idxm_w.plot(lw=3, figsize=(12, 4))\n",
    "plt.show()"
   ]
  },
  {
   "cell_type": "markdown",
   "metadata": {},
   "source": [
    "#### Group data by week or seven days"
   ]
  },
  {
   "cell_type": "code",
   "execution_count": null,
   "metadata": {
    "ExecuteTime": {
     "end_time": "2021-04-27T22:28:34.581104Z",
     "start_time": "2021-04-27T22:28:34.356518Z"
    }
   },
   "outputs": [],
   "source": [
    "grouper = pd.Grouper(axis=0, freq='7d')\n",
    "c19idxm_w.groupby(grouper).mean().plot(lw=3, figsize=(12, 4))\n",
    "plt.show()"
   ]
  },
  {
   "cell_type": "code",
   "execution_count": null,
   "metadata": {
    "ExecuteTime": {
     "end_time": "2021-04-27T22:28:34.814939Z",
     "start_time": "2021-04-27T22:28:34.581950Z"
    }
   },
   "outputs": [],
   "source": [
    "c19idxm_w.groupby('date').mean().rolling(7).mean().plot(lw=3, figsize=(12, 4))\n",
    "plt.show()"
   ]
  },
  {
   "cell_type": "code",
   "execution_count": null,
   "metadata": {},
   "outputs": [],
   "source": []
  }
 ],
 "metadata": {
  "hide_input": false,
  "kernelspec": {
   "display_name": "Python 3",
   "language": "python",
   "name": "python3"
  },
  "language_info": {
   "codemirror_mode": {
    "name": "ipython",
    "version": 3
   },
   "file_extension": ".py",
   "mimetype": "text/x-python",
   "name": "python",
   "nbconvert_exporter": "python",
   "pygments_lexer": "ipython3",
   "version": "3.8.8"
  },
  "nbTranslate": {
   "displayLangs": [
    "*"
   ],
   "hotkey": "alt-t",
   "langInMainMenu": true,
   "sourceLang": "en",
   "targetLang": "fr",
   "useGoogleTranslate": true
  },
  "toc": {
   "base_numbering": 1,
   "nav_menu": {},
   "number_sections": true,
   "sideBar": true,
   "skip_h1_title": true,
   "title_cell": "Contents",
   "title_sidebar": "Contents",
   "toc_cell": true,
   "toc_position": {},
   "toc_section_display": true,
   "toc_window_display": false
  },
  "varInspector": {
   "cols": {
    "lenName": 16,
    "lenType": 16,
    "lenVar": 40
   },
   "kernels_config": {
    "python": {
     "delete_cmd_postfix": "",
     "delete_cmd_prefix": "del ",
     "library": "var_list.py",
     "varRefreshCmd": "print(var_dic_list())"
    },
    "r": {
     "delete_cmd_postfix": ") ",
     "delete_cmd_prefix": "rm(",
     "library": "var_list.r",
     "varRefreshCmd": "cat(var_dic_list()) "
    }
   },
   "position": {
    "height": "280px",
    "left": "793px",
    "right": "20px",
    "top": "121px",
    "width": "470px"
   },
   "types_to_exclude": [
    "module",
    "function",
    "builtin_function_or_method",
    "instance",
    "_Feature"
   ],
   "window_display": false
  }
 },
 "nbformat": 4,
 "nbformat_minor": 4
}
