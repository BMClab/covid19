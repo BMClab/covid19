{
 "cells": [
  {
   "cell_type": "markdown",
   "metadata": {},
   "source": [
    "# Frequencies of gender, age, country, and participation in Majors\n",
    "\n",
    "> [https://github.com/BMClab/covid19](https://github.com/BMClab/covid19)  \n",
    "> [Laboratory of Biomechanics and Motor Control](http://pesquisa.ufabc.edu.br/bmclab/)  \n",
    "> Federal University of ABC, Brazil"
   ]
  },
  {
   "cell_type": "markdown",
   "metadata": {
    "toc": true
   },
   "source": [
    "<h1>Contents<span class=\"tocSkip\"></span></h1>\n",
    "<div class=\"toc\"><ul class=\"toc-item\"><li><span><a href=\"#Setup\" data-toc-modified-id=\"Setup-1\"><span class=\"toc-item-num\">1&nbsp;&nbsp;</span>Setup</a></span><ul class=\"toc-item\"><li><span><a href=\"#Environment\" data-toc-modified-id=\"Environment-1.1\"><span class=\"toc-item-num\">1.1&nbsp;&nbsp;</span>Environment</a></span></li></ul></li><li><span><a href=\"#Load-dataset\" data-toc-modified-id=\"Load-dataset-2\"><span class=\"toc-item-num\">2&nbsp;&nbsp;</span>Load dataset</a></span><ul class=\"toc-item\"><li><span><a href=\"#Subject's-information\" data-toc-modified-id=\"Subject's-information-2.1\"><span class=\"toc-item-num\">2.1&nbsp;&nbsp;</span>Subject's information</a></span></li></ul></li><li><span><a href=\"#Gender-and-age\" data-toc-modified-id=\"Gender-and-age-3\"><span class=\"toc-item-num\">3&nbsp;&nbsp;</span>Gender and age</a></span></li><li><span><a href=\"#Location\" data-toc-modified-id=\"Location-4\"><span class=\"toc-item-num\">4&nbsp;&nbsp;</span>Location</a></span><ul class=\"toc-item\"><li><span><a href=\"#By-country\" data-toc-modified-id=\"By-country-4.1\"><span class=\"toc-item-num\">4.1&nbsp;&nbsp;</span>By country</a></span></li><li><span><a href=\"#By-continent\" data-toc-modified-id=\"By-continent-4.2\"><span class=\"toc-item-num\">4.2&nbsp;&nbsp;</span>By continent</a></span></li></ul></li><li><span><a href=\"#Majors\" data-toc-modified-id=\"Majors-5\"><span class=\"toc-item-num\">5&nbsp;&nbsp;</span>Majors</a></span><ul class=\"toc-item\"><li><span><a href=\"#Frequency\" data-toc-modified-id=\"Frequency-5.1\"><span class=\"toc-item-num\">5.1&nbsp;&nbsp;</span>Frequency</a></span></li></ul></li><li><span><a href=\"#Number-and-year-of-Majors\" data-toc-modified-id=\"Number-and-year-of-Majors-6\"><span class=\"toc-item-num\">6&nbsp;&nbsp;</span>Number and year of Majors</a></span></li></ul></div>"
   ]
  },
  {
   "cell_type": "markdown",
   "metadata": {},
   "source": [
    "## Setup"
   ]
  },
  {
   "cell_type": "code",
   "execution_count": null,
   "metadata": {
    "ExecuteTime": {
     "end_time": "2021-04-27T22:28:00.829991Z",
     "start_time": "2021-04-27T22:27:59.940985Z"
    }
   },
   "outputs": [],
   "source": [
    "import sys, os\n",
    "import numpy as np\n",
    "import pandas as pd\n",
    "import seaborn as sns\n",
    "import matplotlib.pyplot as plt\n",
    "%matplotlib inline\n",
    "import plotly.express as px\n",
    "pd.options.plotting.backend = \"plotly\"\n",
    "from tqdm.notebook import tqdm\n",
    "import pycountry_convert as pc\n",
    "%load_ext watermark  \n",
    "\n",
    "%watermark\n",
    "%watermark --iversions"
   ]
  },
  {
   "cell_type": "markdown",
   "metadata": {},
   "source": [
    "### Environment"
   ]
  },
  {
   "cell_type": "code",
   "execution_count": null,
   "metadata": {
    "ExecuteTime": {
     "end_time": "2021-04-27T22:28:00.836753Z",
     "start_time": "2021-04-27T22:28:00.831245Z"
    }
   },
   "outputs": [],
   "source": [
    "path2 = r'./../data/'\n",
    "\n",
    "pd.set_option('display.float_format', lambda x: '%.4g' % x)\n",
    "plt.rcParams.update({'font.size': 14, 'xtick.labelsize': 12, 'ytick.labelsize': 12})\n",
    "sns.set_style('whitegrid', rc={'xtick.bottom': True, 'xtick.top': True, 'ytick.left': True,\n",
    "              'ytick.right': True, 'xtick.direction': 'in', 'ytick.direction': 'in'})\n",
    "colors = sns.color_palette()\n",
    "colors"
   ]
  },
  {
   "cell_type": "markdown",
   "metadata": {},
   "source": [
    "## Load dataset"
   ]
  },
  {
   "cell_type": "code",
   "execution_count": null,
   "metadata": {
    "ExecuteTime": {
     "end_time": "2021-04-27T22:28:01.490711Z",
     "start_time": "2021-04-27T22:28:00.838266Z"
    }
   },
   "outputs": [],
   "source": [
    "df = pd.read_parquet(os.path.join(path2, 'run_ww_2019_d.parquet'))\n",
    "df['athlete'] = df['athlete'].astype('category')  # bug in parquet"
   ]
  },
  {
   "cell_type": "markdown",
   "metadata": {},
   "source": [
    "### Subject's information"
   ]
  },
  {
   "cell_type": "code",
   "execution_count": null,
   "metadata": {
    "ExecuteTime": {
     "end_time": "2021-04-27T22:28:01.817619Z",
     "start_time": "2021-04-27T22:28:01.491941Z"
    }
   },
   "outputs": [],
   "source": [
    "df = df[['athlete', 'gender', 'age_group', 'country', 'major']\n",
    "       ].drop_duplicates(subset='athlete').sort_values('athlete').reset_index(drop=True)\n",
    "df"
   ]
  },
  {
   "cell_type": "code",
   "execution_count": null,
   "metadata": {
    "ExecuteTime": {
     "end_time": "2021-04-27T22:28:01.829497Z",
     "start_time": "2021-04-27T22:28:01.818715Z"
    }
   },
   "outputs": [],
   "source": [
    "df.info(memory_usage='deep')"
   ]
  },
  {
   "cell_type": "markdown",
   "metadata": {},
   "source": [
    "## Gender and age"
   ]
  },
  {
   "cell_type": "code",
   "execution_count": null,
   "metadata": {
    "ExecuteTime": {
     "end_time": "2021-04-27T22:28:01.872353Z",
     "start_time": "2021-04-27T22:28:01.830681Z"
    }
   },
   "outputs": [],
   "source": [
    "pd.crosstab(df['gender'], df['age_group'], margins=True, normalize='all')"
   ]
  },
  {
   "cell_type": "markdown",
   "metadata": {},
   "source": [
    "76% of athletes are male, 34% are between 18 and 34 years old, 59% are between 35 and 54 and the remaining 7% are 55 or older."
   ]
  },
  {
   "cell_type": "markdown",
   "metadata": {
    "ExecuteTime": {
     "end_time": "2021-02-09T09:10:19.706839Z",
     "start_time": "2021-02-09T09:10:19.702270Z"
    }
   },
   "source": [
    "## Location"
   ]
  },
  {
   "cell_type": "markdown",
   "metadata": {},
   "source": [
    "### By country\n",
    "\n",
    "Fix some names in country:"
   ]
  },
  {
   "cell_type": "code",
   "execution_count": null,
   "metadata": {
    "ExecuteTime": {
     "end_time": "2021-04-27T22:28:01.877166Z",
     "start_time": "2021-04-27T22:28:01.873416Z"
    }
   },
   "outputs": [],
   "source": [
    "print('Number of countries: {}'.format(df['country'].unique().size))\n",
    "print('Number of athletes with unknown country: {} ({:.1f} %)'.format(df['country'].isnull().sum(),\n",
    "       df['country'].isnull().sum()/df['country'].size*100))"
   ]
  },
  {
   "cell_type": "code",
   "execution_count": null,
   "metadata": {
    "ExecuteTime": {
     "end_time": "2021-04-27T22:28:01.886850Z",
     "start_time": "2021-04-27T22:28:01.879264Z"
    }
   },
   "outputs": [],
   "source": [
    "cn_pct = 100*df['country'].value_counts(normalize=True)\n",
    "cn_pct = cn_pct.to_frame().reset_index()\n",
    "cn_pct = cn_pct.rename(columns={'index':'country', 'country':'percentage'})\n",
    "cn_pct['country'] = cn_pct['country'].astype('object')\n",
    "cn_pct.head(10)"
   ]
  },
  {
   "cell_type": "code",
   "execution_count": null,
   "metadata": {
    "ExecuteTime": {
     "end_time": "2021-04-27T22:28:02.081202Z",
     "start_time": "2021-04-27T22:28:01.888223Z"
    }
   },
   "outputs": [],
   "source": [
    "y = cn_pct.copy(deep=True)\n",
    "y.loc[y['percentage'] < 1, 'country'] = 'Other countries'\n",
    "fig = px.pie(y, values='percentage', names='country', labels='percentage',\n",
    "             title='Countries of the athletes')\n",
    "fig.update_traces(textposition='outside', textinfo='percent+label')\n",
    "fig.update_layout(showlegend=False)\n",
    "fig.show()"
   ]
  },
  {
   "cell_type": "markdown",
   "metadata": {},
   "source": [
    "### By continent"
   ]
  },
  {
   "cell_type": "code",
   "execution_count": null,
   "metadata": {
    "ExecuteTime": {
     "end_time": "2021-04-27T22:28:02.185828Z",
     "start_time": "2021-04-27T22:28:02.082231Z"
    }
   },
   "outputs": [],
   "source": [
    "df['continent'] = np.nan\n",
    "for country in df['country'].unique():\n",
    "    if pd.isnull(country):\n",
    "        country_code, continent_name  = np.nan, np.nan\n",
    "    elif country == 'Kosovo':\n",
    "        country_code = 'XK'\n",
    "        continent_name = 'EU'\n",
    "    else:    \n",
    "        country_code = pc.country_name_to_country_alpha2(country)\n",
    "        if country_code == 'TL':\n",
    "            country_code = 'TP'\n",
    "        continent_name = pc.country_alpha2_to_continent_code(country_code)\n",
    "    if not pd.isnull(country):\n",
    "        df.loc[df['country'] == country, 'continent'] = continent_name\n",
    "df['continent'] = df['continent'].astype('category')\n",
    "df"
   ]
  },
  {
   "cell_type": "code",
   "execution_count": null,
   "metadata": {
    "ExecuteTime": {
     "end_time": "2021-04-27T22:28:02.193140Z",
     "start_time": "2021-04-27T22:28:02.186668Z"
    }
   },
   "outputs": [],
   "source": [
    "ct_pct = 100*df['continent'].value_counts(normalize=True)\n",
    "ct_pct = ct_pct.to_frame().reset_index()\n",
    "ct_pct = ct_pct.rename(columns={'index':'continent', 'continent':'percentage'})\n",
    "ct_pct"
   ]
  },
  {
   "cell_type": "code",
   "execution_count": null,
   "metadata": {
    "ExecuteTime": {
     "end_time": "2021-04-27T22:28:02.218310Z",
     "start_time": "2021-04-27T22:28:02.193956Z"
    }
   },
   "outputs": [],
   "source": [
    "fig = px.pie(ct_pct, values='percentage', names='continent', labels='percentage',\n",
    "             title='Continents of the athletes', height=400)\n",
    "fig.update_traces(textposition='outside', textinfo='percent+label')\n",
    "fig.update_layout(showlegend=False)\n",
    "fig.show()"
   ]
  },
  {
   "cell_type": "markdown",
   "metadata": {},
   "source": [
    "## Majors"
   ]
  },
  {
   "cell_type": "code",
   "execution_count": null,
   "metadata": {
    "ExecuteTime": {
     "end_time": "2021-04-27T22:28:02.412216Z",
     "start_time": "2021-04-27T22:28:02.219185Z"
    }
   },
   "outputs": [],
   "source": [
    "f = lambda x: np.array(x, dtype=int).max()\n",
    "df['major_y'] =  df['major'].str.findall(r'[0-9]+').apply(f)\n",
    "df['major_n'] =  df['major'].str.split(',').apply(lambda x: len(x))\n",
    "df['major_s'] =  df['major'].str.replace(' \\d+', '', regex=True).str.split(',')\n",
    "df"
   ]
  },
  {
   "cell_type": "markdown",
   "metadata": {},
   "source": [
    "### Frequency"
   ]
  },
  {
   "cell_type": "code",
   "execution_count": null,
   "metadata": {
    "ExecuteTime": {
     "end_time": "2021-04-27T22:28:02.435782Z",
     "start_time": "2021-04-27T22:28:02.413040Z"
    },
    "scrolled": true
   },
   "outputs": [],
   "source": [
    "mj_pct = 100*df['major_s'].explode().astype('category').value_counts(normalize=True)\n",
    "mj_pct = mj_pct.to_frame().reset_index()\n",
    "mj_pct = mj_pct.rename(columns={'index':'major', 'major_s':'percentage'})\n",
    "mj_pct"
   ]
  },
  {
   "cell_type": "code",
   "execution_count": null,
   "metadata": {
    "ExecuteTime": {
     "end_time": "2021-04-27T22:28:02.461104Z",
     "start_time": "2021-04-27T22:28:02.436593Z"
    }
   },
   "outputs": [],
   "source": [
    "fig = px.pie(mj_pct, values='percentage', names='major', labels='percentage',\n",
    "             title='Frequency of Majors', height=400)\n",
    "fig.update_traces(textposition='outside', textinfo='percent+label')\n",
    "fig.update_layout(showlegend=False)\n",
    "fig.show()"
   ]
  },
  {
   "cell_type": "code",
   "execution_count": null,
   "metadata": {
    "ExecuteTime": {
     "end_time": "2021-04-27T22:28:02.467238Z",
     "start_time": "2021-04-27T22:28:02.462077Z"
    }
   },
   "outputs": [],
   "source": [
    "fun = lambda x, y:  x[x['major'].isin(y)]['percentage'].values.sum()\n",
    "print('Majors in America: {:.1f}'.format(fun(mj_pct, ['BOSTON', 'NEW YORK', 'CHICAGO'])))\n",
    "print('Majors in Europe: {:.1f}'.format(fun(mj_pct, ['BERLIN', 'LONDON'])))\n",
    "print('Majors in Asia: {:.1f}'.format(fun(mj_pct, ['TOKYO'])))"
   ]
  },
  {
   "cell_type": "markdown",
   "metadata": {},
   "source": [
    "## Number and year of Majors"
   ]
  },
  {
   "cell_type": "code",
   "execution_count": null,
   "metadata": {
    "ExecuteTime": {
     "end_time": "2021-04-27T22:28:02.505292Z",
     "start_time": "2021-04-27T22:28:02.468263Z"
    }
   },
   "outputs": [],
   "source": [
    "pd.crosstab(df['major_y'], df['major_n'], margins=True, normalize='all')*100"
   ]
  },
  {
   "cell_type": "code",
   "execution_count": null,
   "metadata": {
    "ExecuteTime": {
     "end_time": "2021-04-27T22:28:02.522045Z",
     "start_time": "2021-04-27T22:28:02.506189Z"
    }
   },
   "outputs": [],
   "source": [
    "print('Cumulative frequency of year of Majors:')\n",
    "display(pd.concat((df['major_y'].value_counts(),\n",
    "                   df['major_y'].value_counts(normalize=True).cumsum()), axis=1).T*100)\n",
    "print('Cumulative frequency of number of Majors:')\n",
    "display(pd.concat((df['major_n'].value_counts(),\n",
    "                   df['major_n'].value_counts(normalize=True).cumsum()), axis=1).T*100)"
   ]
  },
  {
   "cell_type": "markdown",
   "metadata": {},
   "source": [
    "98% of the athletes ran in up to two Majors and 98% of the athletes ran a Major between the years 2014 and 2019."
   ]
  },
  {
   "cell_type": "code",
   "execution_count": null,
   "metadata": {},
   "outputs": [],
   "source": []
  }
 ],
 "metadata": {
  "hide_input": false,
  "kernelspec": {
   "display_name": "Python 3",
   "language": "python",
   "name": "python3"
  },
  "language_info": {
   "codemirror_mode": {
    "name": "ipython",
    "version": 3
   },
   "file_extension": ".py",
   "mimetype": "text/x-python",
   "name": "python",
   "nbconvert_exporter": "python",
   "pygments_lexer": "ipython3",
   "version": "3.8.8"
  },
  "nbTranslate": {
   "displayLangs": [
    "*"
   ],
   "hotkey": "alt-t",
   "langInMainMenu": true,
   "sourceLang": "en",
   "targetLang": "fr",
   "useGoogleTranslate": true
  },
  "toc": {
   "base_numbering": 1,
   "nav_menu": {},
   "number_sections": true,
   "sideBar": true,
   "skip_h1_title": true,
   "title_cell": "Contents",
   "title_sidebar": "Contents",
   "toc_cell": true,
   "toc_position": {},
   "toc_section_display": true,
   "toc_window_display": false
  },
  "varInspector": {
   "cols": {
    "lenName": 16,
    "lenType": 16,
    "lenVar": 40
   },
   "kernels_config": {
    "python": {
     "delete_cmd_postfix": "",
     "delete_cmd_prefix": "del ",
     "library": "var_list.py",
     "varRefreshCmd": "print(var_dic_list())"
    },
    "r": {
     "delete_cmd_postfix": ") ",
     "delete_cmd_prefix": "rm(",
     "library": "var_list.r",
     "varRefreshCmd": "cat(var_dic_list()) "
    }
   },
   "position": {
    "height": "280px",
    "left": "793px",
    "right": "20px",
    "top": "121px",
    "width": "470px"
   },
   "types_to_exclude": [
    "module",
    "function",
    "builtin_function_or_method",
    "instance",
    "_Feature"
   ],
   "window_display": false
  }
 },
 "nbformat": 4,
 "nbformat_minor": 4
}
