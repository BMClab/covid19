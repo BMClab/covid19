{
 "cells": [
  {
   "cell_type": "markdown",
   "metadata": {},
   "source": [
    "# Data resampling  \n",
    "\n",
    "> [https://github.com/BMClab/covid19](https://github.com/BMClab/covid19)  \n",
    "> [Laboratory of Biomechanics and Motor Control](http://pesquisa.ufabc.edu.br/bmclab/)  \n",
    "> Federal University of ABC, Brazil"
   ]
  },
  {
   "cell_type": "markdown",
   "metadata": {
    "toc": true
   },
   "source": [
    "<h1>Contents<span class=\"tocSkip\"></span></h1>\n",
    "<div class=\"toc\"><ul class=\"toc-item\"><li><span><a href=\"#Setup\" data-toc-modified-id=\"Setup-1\"><span class=\"toc-item-num\">1&nbsp;&nbsp;</span>Setup</a></span><ul class=\"toc-item\"><li><span><a href=\"#Environment\" data-toc-modified-id=\"Environment-1.1\"><span class=\"toc-item-num\">1.1&nbsp;&nbsp;</span>Environment</a></span></li><li><span><a href=\"#Helping-functions\" data-toc-modified-id=\"Helping-functions-1.2\"><span class=\"toc-item-num\">1.2&nbsp;&nbsp;</span>Helping functions</a></span></li></ul></li><li><span><a href=\"#Load-dataset\" data-toc-modified-id=\"Load-dataset-2\"><span class=\"toc-item-num\">2&nbsp;&nbsp;</span>Load dataset</a></span><ul class=\"toc-item\"><li><span><a href=\"#Checking-for-missing-values\" data-toc-modified-id=\"Checking-for-missing-values-2.1\"><span class=\"toc-item-num\">2.1&nbsp;&nbsp;</span>Checking for missing values</a></span></li><li><span><a href=\"#Basic-information-about-the-dataset\" data-toc-modified-id=\"Basic-information-about-the-dataset-2.2\"><span class=\"toc-item-num\">2.2&nbsp;&nbsp;</span>Basic information about the dataset</a></span></li></ul></li><li><span><a href=\"#Data-resampling\" data-toc-modified-id=\"Data-resampling-3\"><span class=\"toc-item-num\">3&nbsp;&nbsp;</span>Data resampling</a></span><ul class=\"toc-item\"><li><span><a href=\"#Verify-data\" data-toc-modified-id=\"Verify-data-3.1\"><span class=\"toc-item-num\">3.1&nbsp;&nbsp;</span>Verify data</a></span></li><li><span><a href=\"#Export-data\" data-toc-modified-id=\"Export-data-3.2\"><span class=\"toc-item-num\">3.2&nbsp;&nbsp;</span>Export data</a></span></li><li><span><a href=\"#Resample-by-year-and-at-different-periods\" data-toc-modified-id=\"Resample-by-year-and-at-different-periods-3.3\"><span class=\"toc-item-num\">3.3&nbsp;&nbsp;</span>Resample by year and at different periods</a></span></li><li><span><a href=\"#Test-files\" data-toc-modified-id=\"Test-files-3.4\"><span class=\"toc-item-num\">3.4&nbsp;&nbsp;</span>Test files</a></span></li></ul></li></ul></div>"
   ]
  },
  {
   "cell_type": "markdown",
   "metadata": {},
   "source": [
    "## Setup"
   ]
  },
  {
   "cell_type": "code",
   "execution_count": null,
   "metadata": {
    "ExecuteTime": {
     "end_time": "2021-04-27T22:22:44.656956Z",
     "start_time": "2021-04-27T22:22:44.493629Z"
    }
   },
   "outputs": [],
   "source": [
    "import sys, os\n",
    "import numpy as np\n",
    "import pandas as pd\n",
    "from tqdm.notebook import tqdm\n",
    "%load_ext watermark  \n",
    "\n",
    "%watermark\n",
    "%watermark --iversions"
   ]
  },
  {
   "cell_type": "markdown",
   "metadata": {},
   "source": [
    "### Environment"
   ]
  },
  {
   "cell_type": "code",
   "execution_count": null,
   "metadata": {
    "ExecuteTime": {
     "end_time": "2021-04-27T22:22:44.659948Z",
     "start_time": "2021-04-27T22:22:44.658152Z"
    }
   },
   "outputs": [],
   "source": [
    "path2 = r'./../data/'\n",
    "\n",
    "pd.set_option('display.float_format', lambda x: '%.4g' % x)"
   ]
  },
  {
   "cell_type": "markdown",
   "metadata": {},
   "source": [
    "### Helping functions"
   ]
  },
  {
   "cell_type": "code",
   "execution_count": null,
   "metadata": {
    "ExecuteTime": {
     "end_time": "2021-04-27T22:22:44.668736Z",
     "start_time": "2021-04-27T22:22:44.661150Z"
    },
    "code_folding": [
     0
    ]
   },
   "outputs": [],
   "source": [
    "def resample(y, cat1='athlete', freq='d', observed=True):\n",
    "    \"\"\"Resample numerical columns of `y` and repeat the categorical columns.\n",
    "    \n",
    "    y is a dataframe with a datetime index, a categorical column named cat1\n",
    "    and possibly other categorical columns.\n",
    "    The resampling period is given by the parameter freq and resample is\n",
    "    performed at the datetime index and data are grouped by datetime and the\n",
    "    categorical column given by the parameter cat1.\n",
    "    Returns the resampled dataframe and the number of elements in each index\n",
    "    level at each freq period.\n",
    "    \"\"\"\n",
    "    # numerical columns\n",
    "    cols_num = y.select_dtypes(include='number').columns.to_list()\n",
    "    # categorical columns\n",
    "    cols_cat = y.select_dtypes(include='category').columns.to_list()\n",
    "    if len(cols_cat) > 1:\n",
    "        y2 = y.drop_duplicates(subset=cat1)[cols_cat\n",
    "                                           ].sort_values(cat1).reset_index(drop=True)\n",
    "    cols_cat.remove(cat1)\n",
    "    # change the dates of the last days to avoid a last week with less than 7 days\n",
    "    nlastdays = 7 + y.index[-1].dayofyear % 7\n",
    "    if freq.lower() == '7d' and nlastdays > 7:\n",
    "        ts = pd.Timestamp(y.index[-1].date() - pd.to_timedelta(nlastdays-7, unit='D'))\n",
    "        y.index = y.index.where(y.index <= ts, ts)\n",
    "    t0 = pd.to_datetime({'year':[y.index[0].year], 'month':[1], 'day':[1]})[0]\n",
    "    grouper = pd.Grouper(axis=0, freq=freq, sort=True, origin=t0)\n",
    "    # resample only the numerical columns\n",
    "    y = y.groupby([grouper, cat1], sort=True, observed=observed).sum().reset_index(level=1)\n",
    "    #y.fillna(0, inplace=True)\n",
    "    # calculate acumulated runs for numerical columns based on freq period   \n",
    "    # just correct for differences in length of week, month or year\n",
    "    if freq.lower() == 'd':\n",
    "        pass\n",
    "    elif freq.lower() == '7d':\n",
    "        y[cols_num] = y[cols_num]\n",
    "        # correct the divisor if the last week doesn't have 7 days\n",
    "        y.loc[y.index[-1], cols_num] = y.loc[y.index[-1], cols_num] * (7 / nlastdays)\n",
    "    elif freq.lower() == 'm':  # faster than using apply if not too many months\n",
    "        for year in y.index.year.unique().astype(str):\n",
    "            for month in y.loc[year].index.month.unique().astype(str):\n",
    "                date = '{}-{}'.format(year, month)\n",
    "                ndays = pd.Period(date).daysinmonth        \n",
    "                y.loc[date, cols_num] = y.loc[date, cols_num] * (30 / ndays)\n",
    "    elif freq.lower() == 'y':\n",
    "        for year in y.index.year.unique().astype(str):\n",
    "            date = year\n",
    "            ndays = 366 if pd.Period(date).is_leap_year else 365   \n",
    "            y.loc[date, cols_num] = y.loc[date, cols_num] * (365 / ndays)\n",
    "    else:\n",
    "        print('No averages are calculated. Only the sum is reported.')\n",
    "    # number of elements in each index level at each freq period\n",
    "    nidx0 = y.groupby(level=0, observed=True).size()\n",
    "    nidx1 = y.groupby(cat1, observed=True).size()\n",
    "    # add back the categorical columns\n",
    "    if len(cols_cat):\n",
    "        y = y.join(y2.set_index(cat1), on=cat1)\n",
    "    \n",
    "    return y, nidx0, nidx1"
   ]
  },
  {
   "cell_type": "markdown",
   "metadata": {},
   "source": [
    "## Load dataset"
   ]
  },
  {
   "cell_type": "code",
   "execution_count": null,
   "metadata": {
    "ExecuteTime": {
     "end_time": "2021-04-27T22:22:45.240969Z",
     "start_time": "2021-04-27T22:22:44.669984Z"
    }
   },
   "outputs": [],
   "source": [
    "df = pd.read_parquet(os.path.join(path2, 'run_ww_2019_2020.parquet'))\n",
    "#df = df[['datetime', 'athlete', 'gender', 'age_group', 'distance', 'duration']]\n",
    "df['athlete'] = df['athlete'].astype('category')  # bug in parquet\n",
    "df"
   ]
  },
  {
   "cell_type": "markdown",
   "metadata": {},
   "source": [
    "### Checking for missing values"
   ]
  },
  {
   "cell_type": "code",
   "execution_count": null,
   "metadata": {
    "ExecuteTime": {
     "end_time": "2021-04-27T22:22:45.301814Z",
     "start_time": "2021-04-27T22:22:45.241886Z"
    }
   },
   "outputs": [],
   "source": [
    "n = 0\n",
    "for col in df:\n",
    "    null = df[df[col].isnull()]['athlete'].unique().tolist()\n",
    "    if null:\n",
    "        print('Athlete: {}, null value in {}'.format(null, col))\n",
    "        n = 1\n",
    "if n == 0:\n",
    "    print('No missing values found.')"
   ]
  },
  {
   "cell_type": "markdown",
   "metadata": {},
   "source": [
    "### Basic information about the dataset"
   ]
  },
  {
   "cell_type": "code",
   "execution_count": null,
   "metadata": {
    "ExecuteTime": {
     "end_time": "2021-04-27T22:22:45.312290Z",
     "start_time": "2021-04-27T22:22:45.302731Z"
    }
   },
   "outputs": [],
   "source": [
    "df.info(memory_usage='deep')"
   ]
  },
  {
   "cell_type": "code",
   "execution_count": null,
   "metadata": {
    "ExecuteTime": {
     "end_time": "2021-04-27T22:22:48.236261Z",
     "start_time": "2021-04-27T22:22:45.313185Z"
    }
   },
   "outputs": [],
   "source": [
    "nday = df['datetime'].dt.date.value_counts().size\n",
    "print('Number of days:', nday)\n",
    "nathlete = df['athlete'].unique().size\n",
    "print('Number of athletes:', nathlete)\n",
    "nactivity = df.shape[0]\n",
    "print('Number of running activities:', nactivity)"
   ]
  },
  {
   "cell_type": "markdown",
   "metadata": {},
   "source": [
    "## Data resampling\n",
    "\n",
    "Resample data using a custom function to speedup the process.  \n",
    "This process consumes at peak about 10 GB of RAM memory. The process could be divided by year, but because we want to generate all possible categories for days and athletes, we first would have to fill each year with all  athletes."
   ]
  },
  {
   "cell_type": "code",
   "execution_count": null,
   "metadata": {
    "ExecuteTime": {
     "end_time": "2021-04-27T22:26:47.589092Z",
     "start_time": "2021-04-27T22:22:48.237703Z"
    }
   },
   "outputs": [],
   "source": [
    "df.set_index('datetime', inplace=True)\n",
    "df, nathletes, nruns = resample(df, cat1='athlete', freq='d', observed=False)\n",
    "df.reset_index(inplace=True)"
   ]
  },
  {
   "cell_type": "markdown",
   "metadata": {},
   "source": [
    "### Verify data\n",
    "\n",
    "We can see that the Cartesian product of days and athletes was performed and the distance and duration columns were filled with zeros when there was no register for an athlete on a given day:"
   ]
  },
  {
   "cell_type": "code",
   "execution_count": null,
   "metadata": {
    "ExecuteTime": {
     "end_time": "2021-04-27T22:26:47.608219Z",
     "start_time": "2021-04-27T22:26:47.590402Z"
    }
   },
   "outputs": [],
   "source": [
    "df"
   ]
  },
  {
   "cell_type": "code",
   "execution_count": null,
   "metadata": {
    "ExecuteTime": {
     "end_time": "2021-04-27T22:26:47.611465Z",
     "start_time": "2021-04-27T22:26:47.609140Z"
    }
   },
   "outputs": [],
   "source": [
    "nathlete * nday"
   ]
  },
  {
   "cell_type": "code",
   "execution_count": null,
   "metadata": {
    "ExecuteTime": {
     "end_time": "2021-04-27T22:26:47.615803Z",
     "start_time": "2021-04-27T22:26:47.612563Z"
    }
   },
   "outputs": [],
   "source": [
    "nathletes"
   ]
  },
  {
   "cell_type": "code",
   "execution_count": null,
   "metadata": {
    "ExecuteTime": {
     "end_time": "2021-04-27T22:26:48.129558Z",
     "start_time": "2021-04-27T22:26:47.616813Z"
    }
   },
   "outputs": [],
   "source": [
    "df.drop_duplicates(subset='athlete')[['athlete', 'age_group', 'gender']\n",
    "                                     ].groupby(['age_group', 'gender']\n",
    "                                              ).count().unstack(level=0)"
   ]
  },
  {
   "cell_type": "code",
   "execution_count": null,
   "metadata": {
    "ExecuteTime": {
     "end_time": "2021-04-27T22:26:52.247040Z",
     "start_time": "2021-04-27T22:26:48.130495Z"
    }
   },
   "outputs": [],
   "source": [
    "df.groupby([df['datetime'].dt.year]).describe()"
   ]
  },
  {
   "cell_type": "code",
   "execution_count": null,
   "metadata": {
    "ExecuteTime": {
     "end_time": "2021-04-27T22:26:57.410492Z",
     "start_time": "2021-04-27T22:26:52.248043Z"
    }
   },
   "outputs": [],
   "source": [
    "df.groupby([df['datetime'].dt.year, 'age_group', 'gender']).describe()"
   ]
  },
  {
   "cell_type": "markdown",
   "metadata": {},
   "source": [
    "### Export data\n",
    "\n",
    "See its [docs](https://arrow.apache.org/docs/python/feather.html) and a comparison on [formats to save Pandas data](https://towardsdatascience.com/the-best-format-to-save-pandas-data-414dca023e0d)."
   ]
  },
  {
   "cell_type": "code",
   "execution_count": null,
   "metadata": {
    "ExecuteTime": {
     "end_time": "2021-04-27T22:27:00.659594Z",
     "start_time": "2021-04-27T22:26:57.411518Z"
    }
   },
   "outputs": [],
   "source": [
    "df.to_parquet(os.path.join(path2, 'run_ww_2019_2020_d.parquet'))"
   ]
  },
  {
   "cell_type": "markdown",
   "metadata": {
    "ExecuteTime": {
     "end_time": "2021-01-20T00:43:58.675633Z",
     "start_time": "2021-01-20T00:43:57.994890Z"
    }
   },
   "source": [
    "### Resample by year and at different periods\n",
    "\n",
    "Now that we have a DataFrame with all possible categories for athletes in all days (from the Cartesian product between days and athletes, setting the parameter `observed` to `False` in the `resample` function), we can resample the dataset separately by year and at different periods."
   ]
  },
  {
   "cell_type": "code",
   "execution_count": null,
   "metadata": {
    "ExecuteTime": {
     "end_time": "2021-04-27T22:27:17.169955Z",
     "start_time": "2021-04-27T22:27:00.660441Z"
    }
   },
   "outputs": [],
   "source": [
    "years = ['2019', '2020']\n",
    "freqs = ['d', '7d', 'm']\n",
    "df.set_index('datetime', inplace=True)\n",
    "for year in tqdm(years, desc='Year'):\n",
    "    for freq in tqdm(freqs, desc='Freq'):\n",
    "        dfi = resample(df.loc[year], cat1='athlete', freq=freq, observed=True)[0]\n",
    "        dfi.reset_index(inplace=True)\n",
    "        if freq == '7d': freq = 'w'\n",
    "        dfi.to_parquet(os.path.join(path2, 'run_ww_{}_{}.parquet'.format(year, freq)))"
   ]
  },
  {
   "cell_type": "markdown",
   "metadata": {},
   "source": [
    "### Test files"
   ]
  },
  {
   "cell_type": "code",
   "execution_count": null,
   "metadata": {
    "ExecuteTime": {
     "end_time": "2021-04-27T22:27:25.311104Z",
     "start_time": "2021-04-27T22:27:17.171215Z"
    },
    "scrolled": false
   },
   "outputs": [],
   "source": [
    "for year in years:\n",
    "    for freq in freqs:\n",
    "        if freq == '7d': freq = 'w'\n",
    "        df = pd.read_parquet(os.path.join(path2, 'run_ww_{}_{}.parquet'.format(year, freq)))\n",
    "        df['athlete'] = df['athlete'].astype('category')  # bug in parquet\n",
    "        #df.set_index('datetime', inplace=True)\n",
    "        print('\\nFile: run_ww_{}_{}.parquet'.format(year, freq))\n",
    "        display(df.drop_duplicates(subset='athlete')[['athlete', 'age_group', 'gender']\n",
    "                                                    ].groupby(['age_group', 'gender']\n",
    "                                                             ).count().unstack(level=0))\n",
    "        display(df.groupby([df['datetime'].dt.year, 'age_group', 'gender']).describe())"
   ]
  },
  {
   "cell_type": "code",
   "execution_count": null,
   "metadata": {},
   "outputs": [],
   "source": []
  }
 ],
 "metadata": {
  "hide_input": false,
  "kernelspec": {
   "display_name": "Python 3",
   "language": "python",
   "name": "python3"
  },
  "language_info": {
   "codemirror_mode": {
    "name": "ipython",
    "version": 3
   },
   "file_extension": ".py",
   "mimetype": "text/x-python",
   "name": "python",
   "nbconvert_exporter": "python",
   "pygments_lexer": "ipython3",
   "version": "3.8.8"
  },
  "nbTranslate": {
   "displayLangs": [
    "*"
   ],
   "hotkey": "alt-t",
   "langInMainMenu": true,
   "sourceLang": "en",
   "targetLang": "fr",
   "useGoogleTranslate": true
  },
  "toc": {
   "base_numbering": 1,
   "nav_menu": {},
   "number_sections": true,
   "sideBar": true,
   "skip_h1_title": true,
   "title_cell": "Contents",
   "title_sidebar": "Contents",
   "toc_cell": true,
   "toc_position": {},
   "toc_section_display": true,
   "toc_window_display": false
  },
  "varInspector": {
   "cols": {
    "lenName": 16,
    "lenType": 16,
    "lenVar": 40
   },
   "kernels_config": {
    "python": {
     "delete_cmd_postfix": "",
     "delete_cmd_prefix": "del ",
     "library": "var_list.py",
     "varRefreshCmd": "print(var_dic_list())"
    },
    "r": {
     "delete_cmd_postfix": ") ",
     "delete_cmd_prefix": "rm(",
     "library": "var_list.r",
     "varRefreshCmd": "cat(var_dic_list()) "
    }
   },
   "position": {
    "height": "280px",
    "left": "793px",
    "right": "20px",
    "top": "121px",
    "width": "470px"
   },
   "types_to_exclude": [
    "module",
    "function",
    "builtin_function_or_method",
    "instance",
    "_Feature"
   ],
   "window_display": false
  }
 },
 "nbformat": 4,
 "nbformat_minor": 4
}
