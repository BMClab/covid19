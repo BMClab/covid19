{
 "cells": [
  {
   "cell_type": "markdown",
   "metadata": {},
   "source": [
    "# Running training in 2019 and 2020\n",
    "\n",
    "> [https://github.com/BMClab/covid19](https://github.com/BMClab/covid19)  \n",
    "> [Laboratory of Biomechanics and Motor Control](http://pesquisa.ufabc.edu.br/bmclab/)  \n",
    "> Federal University of ABC, Brazil\n",
    "\n",
    "**The data used in this Jupyter notebook are available on the Figshare repository https://doi.org/10.6084/m9.figshare.16620238.**"
   ]
  },
  {
   "cell_type": "markdown",
   "metadata": {
    "toc": true
   },
   "source": [
    "<h1>Contents<span class=\"tocSkip\"></span></h1>\n",
    "<div class=\"toc\"><ul class=\"toc-item\"><li><span><a href=\"#Setup\" data-toc-modified-id=\"Setup-1\"><span class=\"toc-item-num\">1&nbsp;&nbsp;</span>Setup</a></span><ul class=\"toc-item\"><li><span><a href=\"#Environment\" data-toc-modified-id=\"Environment-1.1\"><span class=\"toc-item-num\">1.1&nbsp;&nbsp;</span>Environment</a></span></li><li><span><a href=\"#Helping-functions\" data-toc-modified-id=\"Helping-functions-1.2\"><span class=\"toc-item-num\">1.2&nbsp;&nbsp;</span>Helping functions</a></span></li></ul></li><li><span><a href=\"#Load-dataset\" data-toc-modified-id=\"Load-dataset-2\"><span class=\"toc-item-num\">2&nbsp;&nbsp;</span>Load dataset</a></span><ul class=\"toc-item\"><li><span><a href=\"#Running-activity\" data-toc-modified-id=\"Running-activity-2.1\"><span class=\"toc-item-num\">2.1&nbsp;&nbsp;</span>Running activity</a></span><ul class=\"toc-item\"><li><span><a href=\"#Basic-information-about-data-in-the-dataset\" data-toc-modified-id=\"Basic-information-about-data-in-the-dataset-2.1.1\"><span class=\"toc-item-num\">2.1.1&nbsp;&nbsp;</span>Basic information about data in the dataset</a></span></li></ul></li><li><span><a href=\"#Load-dataset-with-indexes-of-policy-responses-to-the-coronavirus-pandemic\" data-toc-modified-id=\"Load-dataset-with-indexes-of-policy-responses-to-the-coronavirus-pandemic-2.2\"><span class=\"toc-item-num\">2.2&nbsp;&nbsp;</span>Load dataset with indexes of policy responses to the coronavirus pandemic</a></span><ul class=\"toc-item\"><li><span><a href=\"#Correct-dates\" data-toc-modified-id=\"Correct-dates-2.2.1\"><span class=\"toc-item-num\">2.2.1&nbsp;&nbsp;</span>Correct dates</a></span></li></ul></li></ul></li><li><span><a href=\"#Running-activity\" data-toc-modified-id=\"Running-activity-3\"><span class=\"toc-item-num\">3&nbsp;&nbsp;</span>Running activity</a></span><ul class=\"toc-item\"><li><span><a href=\"#Number-of-running-activities-per-period\" data-toc-modified-id=\"Number-of-running-activities-per-period-3.1\"><span class=\"toc-item-num\">3.1&nbsp;&nbsp;</span>Number of running activities per period</a></span></li><li><span><a href=\"#Plot-of-number-of-athletes-per-period\" data-toc-modified-id=\"Plot-of-number-of-athletes-per-period-3.2\"><span class=\"toc-item-num\">3.2&nbsp;&nbsp;</span>Plot of number of athletes per period</a></span></li></ul></li><li><span><a href=\"#Volume-of-training---annual-data\" data-toc-modified-id=\"Volume-of-training---annual-data-4\"><span class=\"toc-item-num\">4&nbsp;&nbsp;</span>Volume of training - annual data</a></span><ul class=\"toc-item\"><li><span><a href=\"#Data-distribution-of-annual-data-of-all-subjects\" data-toc-modified-id=\"Data-distribution-of-annual-data-of-all-subjects-4.1\"><span class=\"toc-item-num\">4.1&nbsp;&nbsp;</span>Data distribution of annual data of all subjects</a></span></li><li><span><a href=\"#Data-distribution-of-annual-data-of-all-subjects-and-only-actual-runs\" data-toc-modified-id=\"Data-distribution-of-annual-data-of-all-subjects-and-only-actual-runs-4.2\"><span class=\"toc-item-num\">4.2&nbsp;&nbsp;</span>Data distribution of annual data of all subjects and only actual runs</a></span></li><li><span><a href=\"#Data-description-of-annual-data-of-all-subjects\" data-toc-modified-id=\"Data-description-of-annual-data-of-all-subjects-4.3\"><span class=\"toc-item-num\">4.3&nbsp;&nbsp;</span>Data description of annual data of all subjects</a></span><ul class=\"toc-item\"><li><span><a href=\"#Statistics-for-annual-data-considering-only-the-actual-runs\" data-toc-modified-id=\"Statistics-for-annual-data-considering-only-the-actual-runs-4.3.1\"><span class=\"toc-item-num\">4.3.1&nbsp;&nbsp;</span>Statistics for annual data considering only the actual runs</a></span></li></ul></li><li><span><a href=\"#Plot-of-annual-number-of-athletes-and-running-volume-per-period\" data-toc-modified-id=\"Plot-of-annual-number-of-athletes-and-running-volume-per-period-4.4\"><span class=\"toc-item-num\">4.4&nbsp;&nbsp;</span>Plot of annual number of athletes and running volume per period</a></span><ul class=\"toc-item\"><li><span><a href=\"#Plot-of-number-of-athletes-and-running-volume-from-only-actual-runs\" data-toc-modified-id=\"Plot-of-number-of-athletes-and-running-volume-from-only-actual-runs-4.4.1\"><span class=\"toc-item-num\">4.4.1&nbsp;&nbsp;</span>Plot of number of athletes and running volume from only actual runs</a></span></li></ul></li></ul></li><li><span><a href=\"#Data-for-relative-difference-between-2020-and-2019-(in-%)\" data-toc-modified-id=\"Data-for-relative-difference-between-2020-and-2019-(in-%)-5\"><span class=\"toc-item-num\">5&nbsp;&nbsp;</span>Data for relative difference between 2020 and 2019 (in %)</a></span><ul class=\"toc-item\"><li><span><a href=\"#Data-distribution\" data-toc-modified-id=\"Data-distribution-5.1\"><span class=\"toc-item-num\">5.1&nbsp;&nbsp;</span>Data distribution</a></span><ul class=\"toc-item\"><li><span><a href=\"#All-subjects\" data-toc-modified-id=\"All-subjects-5.1.1\"><span class=\"toc-item-num\">5.1.1&nbsp;&nbsp;</span>All subjects</a></span></li><li><span><a href=\"#All-subjects-and-only-actual-runs\" data-toc-modified-id=\"All-subjects-and-only-actual-runs-5.1.2\"><span class=\"toc-item-num\">5.1.2&nbsp;&nbsp;</span>All subjects and only actual runs</a></span></li><li><span><a href=\"#All-subjects-at-each-period\" data-toc-modified-id=\"All-subjects-at-each-period-5.1.3\"><span class=\"toc-item-num\">5.1.3&nbsp;&nbsp;</span>All subjects at each period</a></span></li><li><span><a href=\"#Per-gender-and-age-at-each-period\" data-toc-modified-id=\"Per-gender-and-age-at-each-period-5.1.4\"><span class=\"toc-item-num\">5.1.4&nbsp;&nbsp;</span>Per gender and age at each period</a></span></li></ul></li><li><span><a href=\"#Data-description\" data-toc-modified-id=\"Data-description-5.2\"><span class=\"toc-item-num\">5.2&nbsp;&nbsp;</span>Data description</a></span></li></ul></li><li><span><a href=\"#Effect-size,-confidence-interval-and-hypothesis-testing\" data-toc-modified-id=\"Effect-size,-confidence-interval-and-hypothesis-testing-6\"><span class=\"toc-item-num\">6&nbsp;&nbsp;</span>Effect size, confidence interval and hypothesis testing</a></span><ul class=\"toc-item\"><li><span><a href=\"#Load-data-with-statistics-or-run-analysis\" data-toc-modified-id=\"Load-data-with-statistics-or-run-analysis-6.1\"><span class=\"toc-item-num\">6.1&nbsp;&nbsp;</span>Load data with statistics or run analysis</a></span></li></ul></li><li><span><a href=\"#Plots\" data-toc-modified-id=\"Plots-7\"><span class=\"toc-item-num\">7&nbsp;&nbsp;</span>Plots</a></span></li></ul></div>"
   ]
  },
  {
   "cell_type": "markdown",
   "metadata": {},
   "source": [
    "## Setup"
   ]
  },
  {
   "cell_type": "code",
   "execution_count": 1,
   "metadata": {
    "ExecuteTime": {
     "end_time": "2021-10-12T21:24:11.823483Z",
     "start_time": "2021-10-12T21:24:11.181635Z"
    }
   },
   "outputs": [
    {
     "name": "stdout",
     "output_type": "stream",
     "text": [
      "Last updated: 2021-10-12T18:24:11.802522-03:00\n",
      "\n",
      "Python implementation: CPython\n",
      "Python version       : 3.8.12\n",
      "IPython version      : 7.28.0\n",
      "\n",
      "Compiler    : GCC 9.4.0\n",
      "OS          : Linux\n",
      "Release     : 5.11.0-37-generic\n",
      "Machine     : x86_64\n",
      "Processor   : x86_64\n",
      "CPU cores   : 12\n",
      "Architecture: 64bit\n",
      "\n",
      "json          : 2.0.9\n",
      "seaborn       : 0.11.2\n",
      "pandas        : 1.3.3\n",
      "numpy         : 1.20.3\n",
      "tqdm          : 4.62.3\n",
      "bootstrap_stat: 0.2.4.2\n",
      "autopep8      : 1.5.6\n",
      "scipy         : 1.7.1\n",
      "matplotlib    : 3.4.3\n",
      "\n"
     ]
    }
   ],
   "source": [
    "from pathlib import Path\n",
    "import pickle\n",
    "import numpy as np\n",
    "import scipy as sp\n",
    "import pandas as pd\n",
    "import seaborn as sns\n",
    "import matplotlib\n",
    "import matplotlib.pyplot as plt\n",
    "%matplotlib inline\n",
    "from bootstrap_stat import bootstrap_stat as bp\n",
    "import tqdm\n",
    "import matplotlib.patches as patches\n",
    "%load_ext watermark  \n",
    "\n",
    "%watermark\n",
    "%watermark --iversions"
   ]
  },
  {
   "cell_type": "markdown",
   "metadata": {},
   "source": [
    "### Environment"
   ]
  },
  {
   "cell_type": "code",
   "execution_count": 2,
   "metadata": {
    "ExecuteTime": {
     "end_time": "2021-10-12T21:24:11.831722Z",
     "start_time": "2021-10-12T21:24:11.824723Z"
    }
   },
   "outputs": [
    {
     "data": {
      "text/html": [
       "<svg  width=\"550\" height=\"55\"><rect x=\"0\" y=\"0\" width=\"55\" height=\"55\" style=\"fill:#1f77b4;stroke-width:2;stroke:rgb(255,255,255)\"/><rect x=\"55\" y=\"0\" width=\"55\" height=\"55\" style=\"fill:#ff7f0e;stroke-width:2;stroke:rgb(255,255,255)\"/><rect x=\"110\" y=\"0\" width=\"55\" height=\"55\" style=\"fill:#2ca02c;stroke-width:2;stroke:rgb(255,255,255)\"/><rect x=\"165\" y=\"0\" width=\"55\" height=\"55\" style=\"fill:#d62728;stroke-width:2;stroke:rgb(255,255,255)\"/><rect x=\"220\" y=\"0\" width=\"55\" height=\"55\" style=\"fill:#9467bd;stroke-width:2;stroke:rgb(255,255,255)\"/><rect x=\"275\" y=\"0\" width=\"55\" height=\"55\" style=\"fill:#8c564b;stroke-width:2;stroke:rgb(255,255,255)\"/><rect x=\"330\" y=\"0\" width=\"55\" height=\"55\" style=\"fill:#e377c2;stroke-width:2;stroke:rgb(255,255,255)\"/><rect x=\"385\" y=\"0\" width=\"55\" height=\"55\" style=\"fill:#7f7f7f;stroke-width:2;stroke:rgb(255,255,255)\"/><rect x=\"440\" y=\"0\" width=\"55\" height=\"55\" style=\"fill:#bcbd22;stroke-width:2;stroke:rgb(255,255,255)\"/><rect x=\"495\" y=\"0\" width=\"55\" height=\"55\" style=\"fill:#17becf;stroke-width:2;stroke:rgb(255,255,255)\"/></svg>"
      ],
      "text/plain": [
       "[(0.12156862745098039, 0.4666666666666667, 0.7058823529411765),\n",
       " (1.0, 0.4980392156862745, 0.054901960784313725),\n",
       " (0.17254901960784313, 0.6274509803921569, 0.17254901960784313),\n",
       " (0.8392156862745098, 0.15294117647058825, 0.1568627450980392),\n",
       " (0.5803921568627451, 0.403921568627451, 0.7411764705882353),\n",
       " (0.5490196078431373, 0.33725490196078434, 0.29411764705882354),\n",
       " (0.8901960784313725, 0.4666666666666667, 0.7607843137254902),\n",
       " (0.4980392156862745, 0.4980392156862745, 0.4980392156862745),\n",
       " (0.7372549019607844, 0.7411764705882353, 0.13333333333333333),\n",
       " (0.09019607843137255, 0.7450980392156863, 0.8117647058823529)]"
      ]
     },
     "metadata": {},
     "output_type": "display_data"
    }
   ],
   "source": [
    "path2 = Path(r'./../data/')\n",
    "# load file with results if exists (because the bootstrap process takes hours)\n",
    "load_results = True\n",
    "\n",
    "pd.set_option('display.precision', 3)\n",
    "plt.rcParams.update({'font.size': 14, 'xtick.labelsize': 12,\n",
    "                     'ytick.labelsize': 12})\n",
    "sns.set_style('whitegrid', rc={'xtick.bottom': True, 'xtick.top': True,\n",
    "                               'ytick.left': True,\n",
    "              'ytick.right': True, 'xtick.direction': 'in',\n",
    "                               'ytick.direction': 'in'})\n",
    "Slice = pd.IndexSlice\n",
    "# plot colors\n",
    "colors = sns.color_palette()\n",
    "display(colors)\n",
    "c1 = colors[0]\n",
    "c2 = colors[3]\n",
    "c3 = 'k'\n",
    "c4 = colors[2]\n",
    "c5 = colors[1]\n",
    "# Statistics\n",
    "alpha = 0.05\n",
    "two_tailed = True\n",
    "# confidence interval\n",
    "estimate = np.mean\n",
    "boot = 100000  # number of bootstraps\n",
    "seed = 0\n",
    "# other variables:\n",
    "ages = ['ALL', '18 - 34', '35 - 54', '55 +']\n",
    "genders = ['ALL', 'F', 'M']\n",
    "years = ['2019', '2020']\n",
    "months = ['January', 'February', 'March', 'April', 'May', 'June', 'July',\n",
    "          'August', 'September', 'October', 'November', 'December']\n",
    "freqs = ['d', 'w', 'm']\n",
    "freqs_s = ['day', 'week', 'month']\n",
    "# feature (dependent variable)\n",
    "variables, units = ['distance', 'duration'], ['km', 'min']\n",
    "vars_d = [v + '_d' for v in variables]\n",
    "freq = freqs[1]\n",
    "freq_s = freqs_s[1]"
   ]
  },
  {
   "cell_type": "markdown",
   "metadata": {},
   "source": [
    "### Helping functions"
   ]
  },
  {
   "cell_type": "code",
   "execution_count": 3,
   "metadata": {
    "ExecuteTime": {
     "end_time": "2021-10-12T21:24:12.104868Z",
     "start_time": "2021-10-12T21:24:12.092839Z"
    },
    "code_folding": []
   },
   "outputs": [],
   "source": [
    "# standardization (mean 0, variance 1)\n",
    "stdz = lambda x: (x-x.mean())/x.std()\n",
    "\n",
    "\n",
    "def normality(x):\n",
    "    \"\"\"Kurtosis, skewness, p-value of normality test using the scipy library.\n",
    "    \"\"\"\n",
    "    return [sp.stats.kurtosis(x), sp.stats.skew(x), sp.stats.normaltest(x).pvalue]\n",
    "\n",
    "\n",
    "def cohensd(x):\n",
    "    \"\"\"Cohen's d effect size for within-subject sample.\n",
    "    \"\"\"\n",
    "    return np.abs(np.mean(x, axis=0)) / np.std(x, axis=0, ddof=1)\n",
    "\n",
    "\n",
    "def ci_asl(y, stat=np.nanmean, alpha=alpha/2, boot=boot, seed=None):\n",
    "    \"\"\"Confidence interval and 'pvalue' of hypothesis testing by bootstrap.\n",
    "\n",
    "    Parameters\n",
    "    ----------\n",
    "    y : 1-d array_like\n",
    "        Calculate the confidence interval of these values.\n",
    "    stat : function (optional, default=np.nanmean)\n",
    "        Statistics (a function) to which the confidence interval will be\n",
    "        estimated\n",
    "    alpha : float (optional, default=0.025)\n",
    "        alpha level (]0, 1[) of the confidence interval\n",
    "    boot : int (optional, default=100000)\n",
    "        Number of bootstrap iteractions\n",
    "    seed : {None, int, ..., Generator} (optional, default=None)\n",
    "        Seed for the random number generator\n",
    "\n",
    "    Returns\n",
    "    -------\n",
    "    confidence interval : 1-d or 2-d array_like\n",
    "\n",
    "    Example\n",
    "    -------\n",
    "    >>> rng = np.random.default_rng(12345)\n",
    "    >>> y = 1 + rng.standard_normal(size=(10000, 4))\n",
    "    >>> ci_calc(y, method='bootstrap', seed=rng)\n",
    "    array([[0.98543573, 0.97812353, 0.99513357, 0.98174334],\n",
    "           [1.02535726, 1.01852985, 1.03386319, 1.02152344]])\n",
    "\n",
    "    >>> ci_calc(y, method='normal')\n",
    "    array([[0.98530252, 0.97851995, 0.99611958, 0.98188726],\n",
    "           [1.02378054, 1.01758363, 1.03539235, 1.02153012]])\n",
    "\n",
    "    See Also\n",
    "    --------\n",
    "    https://github.com/rwilson4/bootstrap-stat\n",
    "    \"\"\"\n",
    "\n",
    "    ed = bp.EmpiricalDistribution(y)\n",
    "    ci_low, ci_high, theta_star = bp.percentile_interval(ed, stat, alpha=alpha, B=boot,\n",
    "                                                         return_samples=True, num_threads=-1)\n",
    "    asl = bp.percentile_asl(ed, stat, y, theta_0=0, B=boot,\n",
    "                            theta_star=theta_star, two_sided=True, num_threads=1)\n",
    "    \n",
    "    return [ci_low, ci_high, asl]\n",
    "\n",
    "\n",
    "def describe(y, variable=['distance_d', 'duration_d'], show=True):\n",
    "    \"\"\"Descriptive statistics for dataframe columns.\n",
    "    \"\"\"\n",
    "    ys = []\n",
    "    stat = ['count', 'mean', 'std', cohensd]\n",
    "    for var in variable:\n",
    "        y1 = y[['athlete', var]].pivot(columns='athlete')[var].T.agg(stat, axis=0).transpose()\n",
    "        y2 = y[['athlete', var]].pivot(columns='athlete')[var].T.agg(ci_asl, axis=0).transpose()\n",
    "        y2.rename(columns={0: 'ci_inf', 1: 'ci_sup', 2: 'pvalue'}, inplace=True)\n",
    "        ys.append(pd.concat([y1, y2], axis=1))\n",
    "    variable = [v[:-2] for v in variable]\n",
    "    ys = pd.concat(ys, axis=1, keys=variable)\n",
    "    ys.index = ys.index.dayofyear # range(ys.shape[0])\n",
    "    ys.index.rename('Period', inplace=True)\n",
    "    if show:\n",
    "        display(ys)\n",
    "    return ys\n",
    "\n",
    "\n",
    "def highlight_cohensd(x):\n",
    "    '''\n",
    "    Set background color for cohensd values.\n",
    "    '''\n",
    "    #['Nothing', 'Very small', 'Small', 'Medium', 'Large', 'Very large', 'Huge']\n",
    "    d = [0, .01, .2, .5, .8, 1.2, 2, 100]\n",
    "    # colors\n",
    "    cm = sns.color_palette('Greens', n_colors=len(d)-2).as_hex()\n",
    "    cm = ['background-color: {};font-weight:bold;'.format(c) for c in cm]\n",
    "    cm.insert(0, 'background-color: '';') \n",
    "    x = pd.cut(x, bins=d, right=False, labels=cm, retbins=False)\n",
    "    return x.to_list()\n",
    "\n",
    "\n",
    "def highlight_pvalue(x, level=alpha,\n",
    "                     props='color:white;background-color:red;font-weight:bold'):\n",
    "    return np.where(x <= level, props, '')\n",
    "\n",
    "\n",
    "def highlight_max(x,\n",
    "                  props='color:white;background-color:blue;font-weight:bold'):\n",
    "    return np.where(x == np.nanmax(x.values), props, '')\n",
    "\n",
    "\n",
    "def highlight_min(x,\n",
    "                  props='color:white;background-color:purple;font-weight:bold'):\n",
    "    return np.where(x == np.nanmin(x.values), props, '')\n",
    "\n",
    "\n",
    "def display_df(df, subset='mean'):\n",
    "    \"\"\"Diplay dataframe with a certain style.\n",
    "    \"\"\"\n",
    "    if type(df.index) == pd.DatetimeIndex:\n",
    "        df.index = df.index.strftime('%Y-%m-%d')\n",
    "    display(df.style\n",
    "            .highlight_max(subset=subset,\n",
    "                           props='color:white;font-weight:bold;background-color:blue;')\n",
    "            .highlight_min(subset=subset,\n",
    "                           props='color:white;font-weight:bold;background-color:purple;'))\n",
    "    \n",
    "\n",
    "def display_dfsd(df, title=''):\n",
    "    \"\"\"Display dataframe with certain style.\n",
    "       See https://pandas.pydata.org/pandas-docs/stable/user_guide/style.html\n",
    "    \"\"\"\n",
    "    Slice = pd.IndexSlice\n",
    "    display(df.style.format('{:.0f}', subset=Slice[:, Slice[:, 'count']])\n",
    "                    .format('{:.4f}', subset=Slice[:, Slice[:, 'pvalue']])\n",
    "                    .highlight_max(subset=Slice[:, Slice[:, 'mean']],\n",
    "                                   props='color:white;font-weight:bold;background-color:blue;')\n",
    "                    .highlight_min(subset=Slice[:, Slice[:, 'mean']],\n",
    "                                   props='color:white;font-weight:bold;background-color:purple;')\n",
    "                    .apply(highlight_cohensd, subset=Slice[:, Slice[:, 'cohensd']])\n",
    "                    .apply(highlight_pvalue, level=alphaS, subset=Slice[:, Slice[:, 'pvalue']])\n",
    "                    .set_caption(title)\n",
    "                    .set_table_styles([{'selector': 'caption', 'props': 'font-weight:bold; ' +\n",
    "                                        'text-align: center; ' +\n",
    "                                        'caption-side: top; color: #000000; font-size:1.4em;'\n",
    "                                       }]))"
   ]
  },
  {
   "cell_type": "markdown",
   "metadata": {},
   "source": [
    "## Load dataset\n",
    "\n",
    "### Running activity\n",
    "\n",
    "Let's load the dataset and create a dictionary with all the data and grouped by gender and age.  \n",
    "We will also create two equivalents dictionaries with the number of athletes per period and the number of activities per athlete."
   ]
  },
  {
   "cell_type": "code",
   "execution_count": 4,
   "metadata": {
    "ExecuteTime": {
     "end_time": "2021-10-12T21:24:18.472282Z",
     "start_time": "2021-10-12T21:24:12.508321Z"
    }
   },
   "outputs": [
    {
     "data": {
      "text/html": [
       "<style type=\"text/css\">\n",
       "</style>\n",
       "<table id=\"T_71207_\">\n",
       "  <caption>Year: 2019, Frequency: day (first and last rows)</caption>\n",
       "  <thead>\n",
       "    <tr>\n",
       "      <th class=\"blank level0\" >&nbsp;</th>\n",
       "      <th class=\"col_heading level0 col0\" >athlete</th>\n",
       "      <th class=\"col_heading level0 col1\" >distance</th>\n",
       "      <th class=\"col_heading level0 col2\" >duration</th>\n",
       "      <th class=\"col_heading level0 col3\" >gender</th>\n",
       "      <th class=\"col_heading level0 col4\" >age_group</th>\n",
       "      <th class=\"col_heading level0 col5\" >country</th>\n",
       "      <th class=\"col_heading level0 col6\" >major</th>\n",
       "    </tr>\n",
       "    <tr>\n",
       "      <th class=\"index_name level0\" >datetime</th>\n",
       "      <th class=\"blank col0\" >&nbsp;</th>\n",
       "      <th class=\"blank col1\" >&nbsp;</th>\n",
       "      <th class=\"blank col2\" >&nbsp;</th>\n",
       "      <th class=\"blank col3\" >&nbsp;</th>\n",
       "      <th class=\"blank col4\" >&nbsp;</th>\n",
       "      <th class=\"blank col5\" >&nbsp;</th>\n",
       "      <th class=\"blank col6\" >&nbsp;</th>\n",
       "    </tr>\n",
       "  </thead>\n",
       "  <tbody>\n",
       "    <tr>\n",
       "      <th id=\"T_71207_level0_row0\" class=\"row_heading level0 row0\" >2019-01-01 00:00:00</th>\n",
       "      <td id=\"T_71207_row0_col0\" class=\"data row0 col0\" >0</td>\n",
       "      <td id=\"T_71207_row0_col1\" class=\"data row0 col1\" >0.000</td>\n",
       "      <td id=\"T_71207_row0_col2\" class=\"data row0 col2\" >0.000</td>\n",
       "      <td id=\"T_71207_row0_col3\" class=\"data row0 col3\" >F</td>\n",
       "      <td id=\"T_71207_row0_col4\" class=\"data row0 col4\" >18 - 34</td>\n",
       "      <td id=\"T_71207_row0_col5\" class=\"data row0 col5\" >United States</td>\n",
       "      <td id=\"T_71207_row0_col6\" class=\"data row0 col6\" >CHICAGO 2019</td>\n",
       "    </tr>\n",
       "    <tr>\n",
       "      <th id=\"T_71207_level0_row1\" class=\"row_heading level0 row1\" >2019-12-31 00:00:00</th>\n",
       "      <td id=\"T_71207_row1_col0\" class=\"data row1 col0\" >37598</td>\n",
       "      <td id=\"T_71207_row1_col1\" class=\"data row1 col1\" >25.670</td>\n",
       "      <td id=\"T_71207_row1_col2\" class=\"data row1 col2\" >223.000</td>\n",
       "      <td id=\"T_71207_row1_col3\" class=\"data row1 col3\" >M</td>\n",
       "      <td id=\"T_71207_row1_col4\" class=\"data row1 col4\" >35 - 54</td>\n",
       "      <td id=\"T_71207_row1_col5\" class=\"data row1 col5\" >China</td>\n",
       "      <td id=\"T_71207_row1_col6\" class=\"data row1 col6\" >TOKYO 2012</td>\n",
       "    </tr>\n",
       "  </tbody>\n",
       "</table>\n"
      ],
      "text/plain": [
       "<pandas.io.formats.style.Styler at 0x7f78fcc2ea60>"
      ]
     },
     "metadata": {},
     "output_type": "display_data"
    },
    {
     "data": {
      "text/html": [
       "<style type=\"text/css\">\n",
       "</style>\n",
       "<table id=\"T_5a84f_\">\n",
       "  <caption>Year: 2019, Frequency: week (first and last rows)</caption>\n",
       "  <thead>\n",
       "    <tr>\n",
       "      <th class=\"blank level0\" >&nbsp;</th>\n",
       "      <th class=\"col_heading level0 col0\" >athlete</th>\n",
       "      <th class=\"col_heading level0 col1\" >distance</th>\n",
       "      <th class=\"col_heading level0 col2\" >duration</th>\n",
       "      <th class=\"col_heading level0 col3\" >gender</th>\n",
       "      <th class=\"col_heading level0 col4\" >age_group</th>\n",
       "      <th class=\"col_heading level0 col5\" >country</th>\n",
       "      <th class=\"col_heading level0 col6\" >major</th>\n",
       "    </tr>\n",
       "    <tr>\n",
       "      <th class=\"index_name level0\" >datetime</th>\n",
       "      <th class=\"blank col0\" >&nbsp;</th>\n",
       "      <th class=\"blank col1\" >&nbsp;</th>\n",
       "      <th class=\"blank col2\" >&nbsp;</th>\n",
       "      <th class=\"blank col3\" >&nbsp;</th>\n",
       "      <th class=\"blank col4\" >&nbsp;</th>\n",
       "      <th class=\"blank col5\" >&nbsp;</th>\n",
       "      <th class=\"blank col6\" >&nbsp;</th>\n",
       "    </tr>\n",
       "  </thead>\n",
       "  <tbody>\n",
       "    <tr>\n",
       "      <th id=\"T_5a84f_level0_row0\" class=\"row_heading level0 row0\" >2019-01-01 00:00:00</th>\n",
       "      <td id=\"T_5a84f_row0_col0\" class=\"data row0 col0\" >0</td>\n",
       "      <td id=\"T_5a84f_row0_col1\" class=\"data row0 col1\" >0.000</td>\n",
       "      <td id=\"T_5a84f_row0_col2\" class=\"data row0 col2\" >0.000</td>\n",
       "      <td id=\"T_5a84f_row0_col3\" class=\"data row0 col3\" >F</td>\n",
       "      <td id=\"T_5a84f_row0_col4\" class=\"data row0 col4\" >18 - 34</td>\n",
       "      <td id=\"T_5a84f_row0_col5\" class=\"data row0 col5\" >United States</td>\n",
       "      <td id=\"T_5a84f_row0_col6\" class=\"data row0 col6\" >CHICAGO 2019</td>\n",
       "    </tr>\n",
       "    <tr>\n",
       "      <th id=\"T_5a84f_level0_row1\" class=\"row_heading level0 row1\" >2019-12-24 00:00:00</th>\n",
       "      <td id=\"T_5a84f_row1_col0\" class=\"data row1 col0\" >37598</td>\n",
       "      <td id=\"T_5a84f_row1_col1\" class=\"data row1 col1\" >46.078</td>\n",
       "      <td id=\"T_5a84f_row1_col2\" class=\"data row1 col2\" >322.948</td>\n",
       "      <td id=\"T_5a84f_row1_col3\" class=\"data row1 col3\" >M</td>\n",
       "      <td id=\"T_5a84f_row1_col4\" class=\"data row1 col4\" >35 - 54</td>\n",
       "      <td id=\"T_5a84f_row1_col5\" class=\"data row1 col5\" >China</td>\n",
       "      <td id=\"T_5a84f_row1_col6\" class=\"data row1 col6\" >TOKYO 2012</td>\n",
       "    </tr>\n",
       "  </tbody>\n",
       "</table>\n"
      ],
      "text/plain": [
       "<pandas.io.formats.style.Styler at 0x7f7870a027f0>"
      ]
     },
     "metadata": {},
     "output_type": "display_data"
    },
    {
     "data": {
      "text/html": [
       "<style type=\"text/css\">\n",
       "</style>\n",
       "<table id=\"T_23435_\">\n",
       "  <caption>Year: 2019, Frequency: month (first and last rows)</caption>\n",
       "  <thead>\n",
       "    <tr>\n",
       "      <th class=\"blank level0\" >&nbsp;</th>\n",
       "      <th class=\"col_heading level0 col0\" >athlete</th>\n",
       "      <th class=\"col_heading level0 col1\" >distance</th>\n",
       "      <th class=\"col_heading level0 col2\" >duration</th>\n",
       "      <th class=\"col_heading level0 col3\" >gender</th>\n",
       "      <th class=\"col_heading level0 col4\" >age_group</th>\n",
       "      <th class=\"col_heading level0 col5\" >country</th>\n",
       "      <th class=\"col_heading level0 col6\" >major</th>\n",
       "    </tr>\n",
       "    <tr>\n",
       "      <th class=\"index_name level0\" >datetime</th>\n",
       "      <th class=\"blank col0\" >&nbsp;</th>\n",
       "      <th class=\"blank col1\" >&nbsp;</th>\n",
       "      <th class=\"blank col2\" >&nbsp;</th>\n",
       "      <th class=\"blank col3\" >&nbsp;</th>\n",
       "      <th class=\"blank col4\" >&nbsp;</th>\n",
       "      <th class=\"blank col5\" >&nbsp;</th>\n",
       "      <th class=\"blank col6\" >&nbsp;</th>\n",
       "    </tr>\n",
       "  </thead>\n",
       "  <tbody>\n",
       "    <tr>\n",
       "      <th id=\"T_23435_level0_row0\" class=\"row_heading level0 row0\" >2019-01-31 00:00:00</th>\n",
       "      <td id=\"T_23435_row0_col0\" class=\"data row0 col0\" >0</td>\n",
       "      <td id=\"T_23435_row0_col1\" class=\"data row0 col1\" >0.000</td>\n",
       "      <td id=\"T_23435_row0_col2\" class=\"data row0 col2\" >0.000</td>\n",
       "      <td id=\"T_23435_row0_col3\" class=\"data row0 col3\" >F</td>\n",
       "      <td id=\"T_23435_row0_col4\" class=\"data row0 col4\" >18 - 34</td>\n",
       "      <td id=\"T_23435_row0_col5\" class=\"data row0 col5\" >United States</td>\n",
       "      <td id=\"T_23435_row0_col6\" class=\"data row0 col6\" >CHICAGO 2019</td>\n",
       "    </tr>\n",
       "    <tr>\n",
       "      <th id=\"T_23435_level0_row1\" class=\"row_heading level0 row1\" >2019-12-31 00:00:00</th>\n",
       "      <td id=\"T_23435_row1_col0\" class=\"data row1 col0\" >37598</td>\n",
       "      <td id=\"T_23435_row1_col1\" class=\"data row1 col1\" >297.745</td>\n",
       "      <td id=\"T_23435_row1_col2\" class=\"data row1 col2\" >2378.952</td>\n",
       "      <td id=\"T_23435_row1_col3\" class=\"data row1 col3\" >M</td>\n",
       "      <td id=\"T_23435_row1_col4\" class=\"data row1 col4\" >35 - 54</td>\n",
       "      <td id=\"T_23435_row1_col5\" class=\"data row1 col5\" >China</td>\n",
       "      <td id=\"T_23435_row1_col6\" class=\"data row1 col6\" >TOKYO 2012</td>\n",
       "    </tr>\n",
       "  </tbody>\n",
       "</table>\n"
      ],
      "text/plain": [
       "<pandas.io.formats.style.Styler at 0x7f78709a3ee0>"
      ]
     },
     "metadata": {},
     "output_type": "display_data"
    },
    {
     "data": {
      "text/html": [
       "<style type=\"text/css\">\n",
       "</style>\n",
       "<table id=\"T_7c712_\">\n",
       "  <caption>Year: 2020, Frequency: day (first and last rows)</caption>\n",
       "  <thead>\n",
       "    <tr>\n",
       "      <th class=\"blank level0\" >&nbsp;</th>\n",
       "      <th class=\"col_heading level0 col0\" >athlete</th>\n",
       "      <th class=\"col_heading level0 col1\" >distance</th>\n",
       "      <th class=\"col_heading level0 col2\" >duration</th>\n",
       "      <th class=\"col_heading level0 col3\" >gender</th>\n",
       "      <th class=\"col_heading level0 col4\" >age_group</th>\n",
       "      <th class=\"col_heading level0 col5\" >country</th>\n",
       "      <th class=\"col_heading level0 col6\" >major</th>\n",
       "    </tr>\n",
       "    <tr>\n",
       "      <th class=\"index_name level0\" >datetime</th>\n",
       "      <th class=\"blank col0\" >&nbsp;</th>\n",
       "      <th class=\"blank col1\" >&nbsp;</th>\n",
       "      <th class=\"blank col2\" >&nbsp;</th>\n",
       "      <th class=\"blank col3\" >&nbsp;</th>\n",
       "      <th class=\"blank col4\" >&nbsp;</th>\n",
       "      <th class=\"blank col5\" >&nbsp;</th>\n",
       "      <th class=\"blank col6\" >&nbsp;</th>\n",
       "    </tr>\n",
       "  </thead>\n",
       "  <tbody>\n",
       "    <tr>\n",
       "      <th id=\"T_7c712_level0_row0\" class=\"row_heading level0 row0\" >2020-01-01 00:00:00</th>\n",
       "      <td id=\"T_7c712_row0_col0\" class=\"data row0 col0\" >0</td>\n",
       "      <td id=\"T_7c712_row0_col1\" class=\"data row0 col1\" >0.000</td>\n",
       "      <td id=\"T_7c712_row0_col2\" class=\"data row0 col2\" >0.000</td>\n",
       "      <td id=\"T_7c712_row0_col3\" class=\"data row0 col3\" >F</td>\n",
       "      <td id=\"T_7c712_row0_col4\" class=\"data row0 col4\" >18 - 34</td>\n",
       "      <td id=\"T_7c712_row0_col5\" class=\"data row0 col5\" >United States</td>\n",
       "      <td id=\"T_7c712_row0_col6\" class=\"data row0 col6\" >CHICAGO 2019</td>\n",
       "    </tr>\n",
       "    <tr>\n",
       "      <th id=\"T_7c712_level0_row1\" class=\"row_heading level0 row1\" >2020-12-31 00:00:00</th>\n",
       "      <td id=\"T_7c712_row1_col0\" class=\"data row1 col0\" >37598</td>\n",
       "      <td id=\"T_7c712_row1_col1\" class=\"data row1 col1\" >10.620</td>\n",
       "      <td id=\"T_7c712_row1_col2\" class=\"data row1 col2\" >71.000</td>\n",
       "      <td id=\"T_7c712_row1_col3\" class=\"data row1 col3\" >M</td>\n",
       "      <td id=\"T_7c712_row1_col4\" class=\"data row1 col4\" >35 - 54</td>\n",
       "      <td id=\"T_7c712_row1_col5\" class=\"data row1 col5\" >China</td>\n",
       "      <td id=\"T_7c712_row1_col6\" class=\"data row1 col6\" >TOKYO 2012</td>\n",
       "    </tr>\n",
       "  </tbody>\n",
       "</table>\n"
      ],
      "text/plain": [
       "<pandas.io.formats.style.Styler at 0x7f7870952cd0>"
      ]
     },
     "metadata": {},
     "output_type": "display_data"
    },
    {
     "data": {
      "text/html": [
       "<style type=\"text/css\">\n",
       "</style>\n",
       "<table id=\"T_f3df0_\">\n",
       "  <caption>Year: 2020, Frequency: week (first and last rows)</caption>\n",
       "  <thead>\n",
       "    <tr>\n",
       "      <th class=\"blank level0\" >&nbsp;</th>\n",
       "      <th class=\"col_heading level0 col0\" >athlete</th>\n",
       "      <th class=\"col_heading level0 col1\" >distance</th>\n",
       "      <th class=\"col_heading level0 col2\" >duration</th>\n",
       "      <th class=\"col_heading level0 col3\" >gender</th>\n",
       "      <th class=\"col_heading level0 col4\" >age_group</th>\n",
       "      <th class=\"col_heading level0 col5\" >country</th>\n",
       "      <th class=\"col_heading level0 col6\" >major</th>\n",
       "    </tr>\n",
       "    <tr>\n",
       "      <th class=\"index_name level0\" >datetime</th>\n",
       "      <th class=\"blank col0\" >&nbsp;</th>\n",
       "      <th class=\"blank col1\" >&nbsp;</th>\n",
       "      <th class=\"blank col2\" >&nbsp;</th>\n",
       "      <th class=\"blank col3\" >&nbsp;</th>\n",
       "      <th class=\"blank col4\" >&nbsp;</th>\n",
       "      <th class=\"blank col5\" >&nbsp;</th>\n",
       "      <th class=\"blank col6\" >&nbsp;</th>\n",
       "    </tr>\n",
       "  </thead>\n",
       "  <tbody>\n",
       "    <tr>\n",
       "      <th id=\"T_f3df0_level0_row0\" class=\"row_heading level0 row0\" >2020-01-01 00:00:00</th>\n",
       "      <td id=\"T_f3df0_row0_col0\" class=\"data row0 col0\" >0</td>\n",
       "      <td id=\"T_f3df0_row0_col1\" class=\"data row0 col1\" >0.000</td>\n",
       "      <td id=\"T_f3df0_row0_col2\" class=\"data row0 col2\" >0.000</td>\n",
       "      <td id=\"T_f3df0_row0_col3\" class=\"data row0 col3\" >F</td>\n",
       "      <td id=\"T_f3df0_row0_col4\" class=\"data row0 col4\" >18 - 34</td>\n",
       "      <td id=\"T_f3df0_row0_col5\" class=\"data row0 col5\" >United States</td>\n",
       "      <td id=\"T_f3df0_row0_col6\" class=\"data row0 col6\" >CHICAGO 2019</td>\n",
       "    </tr>\n",
       "    <tr>\n",
       "      <th id=\"T_f3df0_level0_row1\" class=\"row_heading level0 row1\" >2020-12-23 00:00:00</th>\n",
       "      <td id=\"T_f3df0_row1_col0\" class=\"data row1 col0\" >37598</td>\n",
       "      <td id=\"T_f3df0_row1_col1\" class=\"data row1 col1\" >102.052</td>\n",
       "      <td id=\"T_f3df0_row1_col2\" class=\"data row1 col2\" >847.220</td>\n",
       "      <td id=\"T_f3df0_row1_col3\" class=\"data row1 col3\" >M</td>\n",
       "      <td id=\"T_f3df0_row1_col4\" class=\"data row1 col4\" >35 - 54</td>\n",
       "      <td id=\"T_f3df0_row1_col5\" class=\"data row1 col5\" >China</td>\n",
       "      <td id=\"T_f3df0_row1_col6\" class=\"data row1 col6\" >TOKYO 2012</td>\n",
       "    </tr>\n",
       "  </tbody>\n",
       "</table>\n"
      ],
      "text/plain": [
       "<pandas.io.formats.style.Styler at 0x7f7870954d60>"
      ]
     },
     "metadata": {},
     "output_type": "display_data"
    },
    {
     "data": {
      "text/html": [
       "<style type=\"text/css\">\n",
       "</style>\n",
       "<table id=\"T_8e639_\">\n",
       "  <caption>Year: 2020, Frequency: month (first and last rows)</caption>\n",
       "  <thead>\n",
       "    <tr>\n",
       "      <th class=\"blank level0\" >&nbsp;</th>\n",
       "      <th class=\"col_heading level0 col0\" >athlete</th>\n",
       "      <th class=\"col_heading level0 col1\" >distance</th>\n",
       "      <th class=\"col_heading level0 col2\" >duration</th>\n",
       "      <th class=\"col_heading level0 col3\" >gender</th>\n",
       "      <th class=\"col_heading level0 col4\" >age_group</th>\n",
       "      <th class=\"col_heading level0 col5\" >country</th>\n",
       "      <th class=\"col_heading level0 col6\" >major</th>\n",
       "    </tr>\n",
       "    <tr>\n",
       "      <th class=\"index_name level0\" >datetime</th>\n",
       "      <th class=\"blank col0\" >&nbsp;</th>\n",
       "      <th class=\"blank col1\" >&nbsp;</th>\n",
       "      <th class=\"blank col2\" >&nbsp;</th>\n",
       "      <th class=\"blank col3\" >&nbsp;</th>\n",
       "      <th class=\"blank col4\" >&nbsp;</th>\n",
       "      <th class=\"blank col5\" >&nbsp;</th>\n",
       "      <th class=\"blank col6\" >&nbsp;</th>\n",
       "    </tr>\n",
       "  </thead>\n",
       "  <tbody>\n",
       "    <tr>\n",
       "      <th id=\"T_8e639_level0_row0\" class=\"row_heading level0 row0\" >2020-01-31 00:00:00</th>\n",
       "      <td id=\"T_8e639_row0_col0\" class=\"data row0 col0\" >0</td>\n",
       "      <td id=\"T_8e639_row0_col1\" class=\"data row0 col1\" >0.000</td>\n",
       "      <td id=\"T_8e639_row0_col2\" class=\"data row0 col2\" >0.000</td>\n",
       "      <td id=\"T_8e639_row0_col3\" class=\"data row0 col3\" >F</td>\n",
       "      <td id=\"T_8e639_row0_col4\" class=\"data row0 col4\" >18 - 34</td>\n",
       "      <td id=\"T_8e639_row0_col5\" class=\"data row0 col5\" >United States</td>\n",
       "      <td id=\"T_8e639_row0_col6\" class=\"data row0 col6\" >CHICAGO 2019</td>\n",
       "    </tr>\n",
       "    <tr>\n",
       "      <th id=\"T_8e639_level0_row1\" class=\"row_heading level0 row1\" >2020-12-31 00:00:00</th>\n",
       "      <td id=\"T_8e639_row1_col0\" class=\"data row1 col0\" >37598</td>\n",
       "      <td id=\"T_8e639_row1_col1\" class=\"data row1 col1\" >377.719</td>\n",
       "      <td id=\"T_8e639_row1_col2\" class=\"data row1 col2\" >2842.565</td>\n",
       "      <td id=\"T_8e639_row1_col3\" class=\"data row1 col3\" >M</td>\n",
       "      <td id=\"T_8e639_row1_col4\" class=\"data row1 col4\" >35 - 54</td>\n",
       "      <td id=\"T_8e639_row1_col5\" class=\"data row1 col5\" >China</td>\n",
       "      <td id=\"T_8e639_row1_col6\" class=\"data row1 col6\" >TOKYO 2012</td>\n",
       "    </tr>\n",
       "  </tbody>\n",
       "</table>\n"
      ],
      "text/plain": [
       "<pandas.io.formats.style.Styler at 0x7f7870921c70>"
      ]
     },
     "metadata": {},
     "output_type": "display_data"
    }
   ],
   "source": [
    "dfs, dfs_no0, nathletes, nruns = dict(), dict(), dict(), dict()\n",
    "for year in years:\n",
    "    for f, frq in enumerate(freqs):\n",
    "        fname = path2 / 'run_ww_{}_{}.parquet'.format(year, frq)\n",
    "        df = pd.read_parquet(fname)\n",
    "        df['athlete'] = df['athlete'].astype('category')  # bug in parquet\n",
    "        df = df.set_index('datetime', drop=True)\n",
    "        #df.index = df.index.normalize()\n",
    "        if df.index[0].is_leap_year and frq == 'd':\n",
    "            # if leap year, remove Feb 29, average data of Feb 28 and 29\n",
    "            feb28 = pd.Timestamp(unit='D', year=df.index[0].year, month=2, day=28)\n",
    "            feb29 = pd.Timestamp(unit='D', year=df.index[0].year, month=2, day=29)\n",
    "            nbs = df.select_dtypes(include='number').columns.to_list()\n",
    "            df.loc[df.index==feb28, nbs] = (df.loc[df.index==feb28, nbs].values +\n",
    "                                            df.loc[df.index==feb29, nbs].values)/2\n",
    "            df = df.drop(index=feb29)  \n",
    "        \n",
    "        display(df.iloc[[0, -1]].style.set_caption(\n",
    "                'Year: {}, Frequency: {} (first and last rows)'.format(year, freqs_s[f])))\n",
    "        # create dictionary will all the data (including no runs data)\n",
    "        dfs[year, frq] = df\n",
    "        # create dictionary will all the data (excluding no runs data)\n",
    "        dfs_no0[year, frq] = df[df[variables[0]] > 0]\n",
    "        # number of athletes and runs per gender and age group\n",
    "        for gender in genders:\n",
    "            if gender == 'ALL':\n",
    "                x = dfs_no0[year, frq]\n",
    "            else:\n",
    "                x = dfs_no0[year, frq][dfs_no0[year, frq]['gender'] == gender]            \n",
    "            for age in ages:\n",
    "                if age == 'ALL':\n",
    "                    y = x.copy(deep=True)\n",
    "                else:\n",
    "                    y = x[x['age_group'] == age] \n",
    "                nathletes[year, frq, gender, age] = y.groupby(level='datetime').size()\n",
    "                y = y.groupby('athlete').size()\n",
    "                nruns[year, frq, gender, age] = y[y > 0]  # removes athletes with zero runs"
   ]
  },
  {
   "cell_type": "markdown",
   "metadata": {},
   "source": [
    "#### Basic information about data in the dataset"
   ]
  },
  {
   "cell_type": "code",
   "execution_count": 5,
   "metadata": {
    "ExecuteTime": {
     "end_time": "2021-10-12T21:24:18.611093Z",
     "start_time": "2021-10-12T21:24:18.473337Z"
    }
   },
   "outputs": [
    {
     "name": "stdout",
     "output_type": "stream",
     "text": [
      "<class 'pandas.core.frame.DataFrame'>\n",
      "DatetimeIndex: 13290380 entries, 2019-01-01 to 2019-12-31\n",
      "Data columns (total 7 columns):\n",
      " #   Column     Dtype   \n",
      "---  ------     -----   \n",
      " 0   athlete    category\n",
      " 1   distance   float64 \n",
      " 2   duration   float64 \n",
      " 3   gender     category\n",
      " 4   age_group  category\n",
      " 5   country    category\n",
      " 6   major      category\n",
      "dtypes: category(5), float64(2)\n",
      "memory usage: 432.4 MB\n"
     ]
    }
   ],
   "source": [
    "dfs['2019', 'd'].info(memory_usage='deep')"
   ]
  },
  {
   "cell_type": "code",
   "execution_count": 6,
   "metadata": {
    "ExecuteTime": {
     "end_time": "2021-10-12T21:24:18.624412Z",
     "start_time": "2021-10-12T21:24:18.611972Z"
    }
   },
   "outputs": [
    {
     "data": {
      "text/html": [
       "<div>\n",
       "<style scoped>\n",
       "    .dataframe tbody tr th:only-of-type {\n",
       "        vertical-align: middle;\n",
       "    }\n",
       "\n",
       "    .dataframe tbody tr th {\n",
       "        vertical-align: top;\n",
       "    }\n",
       "\n",
       "    .dataframe thead th {\n",
       "        text-align: right;\n",
       "    }\n",
       "</style>\n",
       "<table border=\"1\" class=\"dataframe\">\n",
       "  <thead>\n",
       "    <tr style=\"text-align: right;\">\n",
       "      <th></th>\n",
       "      <th>athlete</th>\n",
       "      <th>distance</th>\n",
       "      <th>duration</th>\n",
       "      <th>gender</th>\n",
       "      <th>age_group</th>\n",
       "      <th>country</th>\n",
       "      <th>major</th>\n",
       "    </tr>\n",
       "    <tr>\n",
       "      <th>datetime</th>\n",
       "      <th></th>\n",
       "      <th></th>\n",
       "      <th></th>\n",
       "      <th></th>\n",
       "      <th></th>\n",
       "      <th></th>\n",
       "      <th></th>\n",
       "    </tr>\n",
       "  </thead>\n",
       "  <tbody>\n",
       "    <tr>\n",
       "      <th>2019-01-01</th>\n",
       "      <td>0</td>\n",
       "      <td>0.000</td>\n",
       "      <td>0.000</td>\n",
       "      <td>F</td>\n",
       "      <td>18 - 34</td>\n",
       "      <td>United States</td>\n",
       "      <td>CHICAGO 2019</td>\n",
       "    </tr>\n",
       "    <tr>\n",
       "      <th>2019-01-01</th>\n",
       "      <td>1</td>\n",
       "      <td>5.270</td>\n",
       "      <td>30.200</td>\n",
       "      <td>M</td>\n",
       "      <td>35 - 54</td>\n",
       "      <td>Germany</td>\n",
       "      <td>BERLIN 2016</td>\n",
       "    </tr>\n",
       "    <tr>\n",
       "      <th>2019-01-01</th>\n",
       "      <td>2</td>\n",
       "      <td>9.300</td>\n",
       "      <td>98.000</td>\n",
       "      <td>M</td>\n",
       "      <td>35 - 54</td>\n",
       "      <td>United Kingdom</td>\n",
       "      <td>LONDON 2018,LONDON 2019</td>\n",
       "    </tr>\n",
       "    <tr>\n",
       "      <th>2019-01-01</th>\n",
       "      <td>3</td>\n",
       "      <td>103.130</td>\n",
       "      <td>453.400</td>\n",
       "      <td>M</td>\n",
       "      <td>18 - 34</td>\n",
       "      <td>United Kingdom</td>\n",
       "      <td>LONDON 2017</td>\n",
       "    </tr>\n",
       "    <tr>\n",
       "      <th>2019-01-01</th>\n",
       "      <td>4</td>\n",
       "      <td>34.670</td>\n",
       "      <td>185.650</td>\n",
       "      <td>M</td>\n",
       "      <td>35 - 54</td>\n",
       "      <td>United States</td>\n",
       "      <td>BOSTON 2017</td>\n",
       "    </tr>\n",
       "    <tr>\n",
       "      <th>...</th>\n",
       "      <td>...</td>\n",
       "      <td>...</td>\n",
       "      <td>...</td>\n",
       "      <td>...</td>\n",
       "      <td>...</td>\n",
       "      <td>...</td>\n",
       "      <td>...</td>\n",
       "    </tr>\n",
       "    <tr>\n",
       "      <th>2019-12-24</th>\n",
       "      <td>37594</td>\n",
       "      <td>12.835</td>\n",
       "      <td>63.481</td>\n",
       "      <td>M</td>\n",
       "      <td>18 - 34</td>\n",
       "      <td>United Kingdom</td>\n",
       "      <td>BERLIN 2017</td>\n",
       "    </tr>\n",
       "    <tr>\n",
       "      <th>2019-12-24</th>\n",
       "      <td>37595</td>\n",
       "      <td>151.725</td>\n",
       "      <td>623.919</td>\n",
       "      <td>M</td>\n",
       "      <td>18 - 34</td>\n",
       "      <td>United States</td>\n",
       "      <td>BERLIN 2019,NEW YORK 2015</td>\n",
       "    </tr>\n",
       "    <tr>\n",
       "      <th>2019-12-24</th>\n",
       "      <td>37596</td>\n",
       "      <td>35.770</td>\n",
       "      <td>153.081</td>\n",
       "      <td>M</td>\n",
       "      <td>18 - 34</td>\n",
       "      <td>United States</td>\n",
       "      <td>BOSTON 2017</td>\n",
       "    </tr>\n",
       "    <tr>\n",
       "      <th>2019-12-24</th>\n",
       "      <td>37597</td>\n",
       "      <td>31.938</td>\n",
       "      <td>176.473</td>\n",
       "      <td>F</td>\n",
       "      <td>18 - 34</td>\n",
       "      <td>United States</td>\n",
       "      <td>BOSTON 2015</td>\n",
       "    </tr>\n",
       "    <tr>\n",
       "      <th>2019-12-24</th>\n",
       "      <td>37598</td>\n",
       "      <td>46.078</td>\n",
       "      <td>322.948</td>\n",
       "      <td>M</td>\n",
       "      <td>35 - 54</td>\n",
       "      <td>China</td>\n",
       "      <td>TOKYO 2012</td>\n",
       "    </tr>\n",
       "  </tbody>\n",
       "</table>\n",
       "<p>1893424 rows × 7 columns</p>\n",
       "</div>"
      ],
      "text/plain": [
       "           athlete  distance  duration gender age_group         country  \\\n",
       "datetime                                                                  \n",
       "2019-01-01       0     0.000     0.000      F   18 - 34   United States   \n",
       "2019-01-01       1     5.270    30.200      M   35 - 54         Germany   \n",
       "2019-01-01       2     9.300    98.000      M   35 - 54  United Kingdom   \n",
       "2019-01-01       3   103.130   453.400      M   18 - 34  United Kingdom   \n",
       "2019-01-01       4    34.670   185.650      M   35 - 54   United States   \n",
       "...            ...       ...       ...    ...       ...             ...   \n",
       "2019-12-24   37594    12.835    63.481      M   18 - 34  United Kingdom   \n",
       "2019-12-24   37595   151.725   623.919      M   18 - 34   United States   \n",
       "2019-12-24   37596    35.770   153.081      M   18 - 34   United States   \n",
       "2019-12-24   37597    31.938   176.473      F   18 - 34   United States   \n",
       "2019-12-24   37598    46.078   322.948      M   35 - 54           China   \n",
       "\n",
       "                                major  \n",
       "datetime                               \n",
       "2019-01-01               CHICAGO 2019  \n",
       "2019-01-01                BERLIN 2016  \n",
       "2019-01-01    LONDON 2018,LONDON 2019  \n",
       "2019-01-01                LONDON 2017  \n",
       "2019-01-01                BOSTON 2017  \n",
       "...                               ...  \n",
       "2019-12-24                BERLIN 2017  \n",
       "2019-12-24  BERLIN 2019,NEW YORK 2015  \n",
       "2019-12-24                BOSTON 2017  \n",
       "2019-12-24                BOSTON 2015  \n",
       "2019-12-24                 TOKYO 2012  \n",
       "\n",
       "[1893424 rows x 7 columns]"
      ]
     },
     "execution_count": 6,
     "metadata": {},
     "output_type": "execute_result"
    }
   ],
   "source": [
    "dfs['2019', freq]"
   ]
  },
  {
   "cell_type": "markdown",
   "metadata": {},
   "source": [
    "### Load dataset with indexes of policy responses to the coronavirus pandemic"
   ]
  },
  {
   "cell_type": "code",
   "execution_count": 7,
   "metadata": {
    "ExecuteTime": {
     "end_time": "2021-10-12T21:24:18.631302Z",
     "start_time": "2021-10-12T21:24:18.626138Z"
    }
   },
   "outputs": [],
   "source": [
    "c19idx = pd.read_csv(path2 / 'policy_response_indexes.csv',\n",
    "                     sep=',', header=0, parse_dates=['date'], verbose=False)\n",
    "c19idx = c19idx.set_index('date', drop=True)"
   ]
  },
  {
   "cell_type": "markdown",
   "metadata": {},
   "source": [
    "#### Correct dates"
   ]
  },
  {
   "cell_type": "code",
   "execution_count": 8,
   "metadata": {
    "ExecuteTime": {
     "end_time": "2021-10-12T21:24:18.649471Z",
     "start_time": "2021-10-12T21:24:18.632315Z"
    }
   },
   "outputs": [
    {
     "data": {
      "text/html": [
       "<div>\n",
       "<style scoped>\n",
       "    .dataframe tbody tr th:only-of-type {\n",
       "        vertical-align: middle;\n",
       "    }\n",
       "\n",
       "    .dataframe tbody tr th {\n",
       "        vertical-align: top;\n",
       "    }\n",
       "\n",
       "    .dataframe thead th {\n",
       "        text-align: right;\n",
       "    }\n",
       "</style>\n",
       "<table border=\"1\" class=\"dataframe\">\n",
       "  <thead>\n",
       "    <tr style=\"text-align: right;\">\n",
       "      <th></th>\n",
       "      <th>si_w</th>\n",
       "      <th>ci_w</th>\n",
       "      <th>hi_w</th>\n",
       "      <th>wi_w</th>\n",
       "    </tr>\n",
       "    <tr>\n",
       "      <th>date</th>\n",
       "      <th></th>\n",
       "      <th></th>\n",
       "      <th></th>\n",
       "      <th></th>\n",
       "    </tr>\n",
       "  </thead>\n",
       "  <tbody>\n",
       "    <tr>\n",
       "      <th>2020-01-01</th>\n",
       "      <td>0.186</td>\n",
       "      <td>0.357</td>\n",
       "      <td>0.000</td>\n",
       "      <td>0.000</td>\n",
       "    </tr>\n",
       "    <tr>\n",
       "      <th>2020-01-08</th>\n",
       "      <td>0.284</td>\n",
       "      <td>0.449</td>\n",
       "      <td>0.000</td>\n",
       "      <td>0.000</td>\n",
       "    </tr>\n",
       "    <tr>\n",
       "      <th>2020-01-15</th>\n",
       "      <td>0.724</td>\n",
       "      <td>1.317</td>\n",
       "      <td>0.000</td>\n",
       "      <td>0.000</td>\n",
       "    </tr>\n",
       "    <tr>\n",
       "      <th>2020-01-22</th>\n",
       "      <td>2.987</td>\n",
       "      <td>5.636</td>\n",
       "      <td>0.010</td>\n",
       "      <td>0.012</td>\n",
       "    </tr>\n",
       "    <tr>\n",
       "      <th>2020-01-29</th>\n",
       "      <td>6.145</td>\n",
       "      <td>9.716</td>\n",
       "      <td>0.024</td>\n",
       "      <td>0.029</td>\n",
       "    </tr>\n",
       "    <tr>\n",
       "      <th>2020-02-05</th>\n",
       "      <td>8.726</td>\n",
       "      <td>12.127</td>\n",
       "      <td>0.032</td>\n",
       "      <td>0.029</td>\n",
       "    </tr>\n",
       "    <tr>\n",
       "      <th>2020-02-12</th>\n",
       "      <td>9.068</td>\n",
       "      <td>12.422</td>\n",
       "      <td>0.032</td>\n",
       "      <td>0.029</td>\n",
       "    </tr>\n",
       "    <tr>\n",
       "      <th>2020-02-19</th>\n",
       "      <td>9.667</td>\n",
       "      <td>12.899</td>\n",
       "      <td>0.046</td>\n",
       "      <td>0.060</td>\n",
       "    </tr>\n",
       "    <tr>\n",
       "      <th>2020-02-26</th>\n",
       "      <td>12.606</td>\n",
       "      <td>16.095</td>\n",
       "      <td>0.066</td>\n",
       "      <td>0.105</td>\n",
       "    </tr>\n",
       "    <tr>\n",
       "      <th>2020-03-04</th>\n",
       "      <td>19.092</td>\n",
       "      <td>22.204</td>\n",
       "      <td>0.123</td>\n",
       "      <td>0.114</td>\n",
       "    </tr>\n",
       "    <tr>\n",
       "      <th>2020-03-11</th>\n",
       "      <td>34.056</td>\n",
       "      <td>32.133</td>\n",
       "      <td>0.723</td>\n",
       "      <td>0.365</td>\n",
       "    </tr>\n",
       "    <tr>\n",
       "      <th>2020-03-18</th>\n",
       "      <td>63.356</td>\n",
       "      <td>52.372</td>\n",
       "      <td>1.511</td>\n",
       "      <td>2.188</td>\n",
       "    </tr>\n",
       "    <tr>\n",
       "      <th>2020-03-25</th>\n",
       "      <td>74.047</td>\n",
       "      <td>59.814</td>\n",
       "      <td>1.762</td>\n",
       "      <td>2.707</td>\n",
       "    </tr>\n",
       "    <tr>\n",
       "      <th>2020-04-01</th>\n",
       "      <td>75.142</td>\n",
       "      <td>61.812</td>\n",
       "      <td>1.824</td>\n",
       "      <td>2.739</td>\n",
       "    </tr>\n",
       "    <tr>\n",
       "      <th>2020-04-08</th>\n",
       "      <td>75.407</td>\n",
       "      <td>63.237</td>\n",
       "      <td>1.831</td>\n",
       "      <td>2.762</td>\n",
       "    </tr>\n",
       "    <tr>\n",
       "      <th>2020-04-15</th>\n",
       "      <td>75.307</td>\n",
       "      <td>63.353</td>\n",
       "      <td>1.827</td>\n",
       "      <td>2.762</td>\n",
       "    </tr>\n",
       "    <tr>\n",
       "      <th>2020-04-22</th>\n",
       "      <td>75.139</td>\n",
       "      <td>63.444</td>\n",
       "      <td>1.821</td>\n",
       "      <td>2.754</td>\n",
       "    </tr>\n",
       "    <tr>\n",
       "      <th>2020-04-29</th>\n",
       "      <td>74.739</td>\n",
       "      <td>63.862</td>\n",
       "      <td>1.812</td>\n",
       "      <td>2.726</td>\n",
       "    </tr>\n",
       "    <tr>\n",
       "      <th>2020-05-06</th>\n",
       "      <td>73.307</td>\n",
       "      <td>63.068</td>\n",
       "      <td>1.684</td>\n",
       "      <td>2.673</td>\n",
       "    </tr>\n",
       "    <tr>\n",
       "      <th>2020-05-13</th>\n",
       "      <td>70.658</td>\n",
       "      <td>61.650</td>\n",
       "      <td>1.432</td>\n",
       "      <td>2.618</td>\n",
       "    </tr>\n",
       "    <tr>\n",
       "      <th>2020-05-20</th>\n",
       "      <td>70.108</td>\n",
       "      <td>61.766</td>\n",
       "      <td>1.412</td>\n",
       "      <td>2.594</td>\n",
       "    </tr>\n",
       "    <tr>\n",
       "      <th>2020-05-27</th>\n",
       "      <td>68.999</td>\n",
       "      <td>62.171</td>\n",
       "      <td>1.361</td>\n",
       "      <td>2.406</td>\n",
       "    </tr>\n",
       "    <tr>\n",
       "      <th>2020-06-03</th>\n",
       "      <td>67.501</td>\n",
       "      <td>62.001</td>\n",
       "      <td>1.341</td>\n",
       "      <td>2.290</td>\n",
       "    </tr>\n",
       "    <tr>\n",
       "      <th>2020-06-10</th>\n",
       "      <td>67.252</td>\n",
       "      <td>61.944</td>\n",
       "      <td>1.328</td>\n",
       "      <td>2.157</td>\n",
       "    </tr>\n",
       "    <tr>\n",
       "      <th>2020-06-17</th>\n",
       "      <td>65.555</td>\n",
       "      <td>61.098</td>\n",
       "      <td>1.310</td>\n",
       "      <td>1.867</td>\n",
       "    </tr>\n",
       "    <tr>\n",
       "      <th>2020-06-24</th>\n",
       "      <td>64.618</td>\n",
       "      <td>60.780</td>\n",
       "      <td>1.273</td>\n",
       "      <td>1.819</td>\n",
       "    </tr>\n",
       "    <tr>\n",
       "      <th>2020-07-01</th>\n",
       "      <td>63.852</td>\n",
       "      <td>61.062</td>\n",
       "      <td>1.311</td>\n",
       "      <td>1.844</td>\n",
       "    </tr>\n",
       "    <tr>\n",
       "      <th>2020-07-08</th>\n",
       "      <td>62.530</td>\n",
       "      <td>60.111</td>\n",
       "      <td>1.335</td>\n",
       "      <td>1.847</td>\n",
       "    </tr>\n",
       "    <tr>\n",
       "      <th>2020-07-15</th>\n",
       "      <td>62.241</td>\n",
       "      <td>59.945</td>\n",
       "      <td>1.228</td>\n",
       "      <td>1.863</td>\n",
       "    </tr>\n",
       "    <tr>\n",
       "      <th>2020-07-22</th>\n",
       "      <td>61.763</td>\n",
       "      <td>59.694</td>\n",
       "      <td>0.968</td>\n",
       "      <td>1.868</td>\n",
       "    </tr>\n",
       "    <tr>\n",
       "      <th>2020-07-29</th>\n",
       "      <td>62.460</td>\n",
       "      <td>60.483</td>\n",
       "      <td>0.973</td>\n",
       "      <td>1.888</td>\n",
       "    </tr>\n",
       "    <tr>\n",
       "      <th>2020-08-05</th>\n",
       "      <td>63.155</td>\n",
       "      <td>60.967</td>\n",
       "      <td>0.972</td>\n",
       "      <td>1.912</td>\n",
       "    </tr>\n",
       "    <tr>\n",
       "      <th>2020-08-12</th>\n",
       "      <td>62.571</td>\n",
       "      <td>60.619</td>\n",
       "      <td>0.975</td>\n",
       "      <td>1.943</td>\n",
       "    </tr>\n",
       "    <tr>\n",
       "      <th>2020-08-19</th>\n",
       "      <td>62.680</td>\n",
       "      <td>60.746</td>\n",
       "      <td>0.964</td>\n",
       "      <td>1.969</td>\n",
       "    </tr>\n",
       "    <tr>\n",
       "      <th>2020-08-26</th>\n",
       "      <td>62.570</td>\n",
       "      <td>60.340</td>\n",
       "      <td>0.950</td>\n",
       "      <td>1.970</td>\n",
       "    </tr>\n",
       "    <tr>\n",
       "      <th>2020-09-02</th>\n",
       "      <td>61.193</td>\n",
       "      <td>58.963</td>\n",
       "      <td>0.898</td>\n",
       "      <td>1.954</td>\n",
       "    </tr>\n",
       "    <tr>\n",
       "      <th>2020-09-09</th>\n",
       "      <td>60.046</td>\n",
       "      <td>58.175</td>\n",
       "      <td>0.894</td>\n",
       "      <td>1.938</td>\n",
       "    </tr>\n",
       "    <tr>\n",
       "      <th>2020-09-16</th>\n",
       "      <td>59.602</td>\n",
       "      <td>58.009</td>\n",
       "      <td>0.922</td>\n",
       "      <td>1.947</td>\n",
       "    </tr>\n",
       "    <tr>\n",
       "      <th>2020-09-23</th>\n",
       "      <td>59.443</td>\n",
       "      <td>57.898</td>\n",
       "      <td>0.916</td>\n",
       "      <td>1.938</td>\n",
       "    </tr>\n",
       "    <tr>\n",
       "      <th>2020-09-30</th>\n",
       "      <td>59.565</td>\n",
       "      <td>57.899</td>\n",
       "      <td>0.905</td>\n",
       "      <td>1.927</td>\n",
       "    </tr>\n",
       "    <tr>\n",
       "      <th>2020-10-07</th>\n",
       "      <td>59.267</td>\n",
       "      <td>57.580</td>\n",
       "      <td>0.966</td>\n",
       "      <td>1.901</td>\n",
       "    </tr>\n",
       "    <tr>\n",
       "      <th>2020-10-14</th>\n",
       "      <td>60.094</td>\n",
       "      <td>58.198</td>\n",
       "      <td>1.399</td>\n",
       "      <td>1.893</td>\n",
       "    </tr>\n",
       "    <tr>\n",
       "      <th>2020-10-21</th>\n",
       "      <td>62.828</td>\n",
       "      <td>60.172</td>\n",
       "      <td>1.571</td>\n",
       "      <td>1.911</td>\n",
       "    </tr>\n",
       "    <tr>\n",
       "      <th>2020-10-28</th>\n",
       "      <td>62.984</td>\n",
       "      <td>60.344</td>\n",
       "      <td>1.344</td>\n",
       "      <td>1.916</td>\n",
       "    </tr>\n",
       "    <tr>\n",
       "      <th>2020-11-04</th>\n",
       "      <td>63.790</td>\n",
       "      <td>60.863</td>\n",
       "      <td>1.170</td>\n",
       "      <td>2.092</td>\n",
       "    </tr>\n",
       "    <tr>\n",
       "      <th>2020-11-11</th>\n",
       "      <td>64.881</td>\n",
       "      <td>61.293</td>\n",
       "      <td>1.231</td>\n",
       "      <td>2.097</td>\n",
       "    </tr>\n",
       "    <tr>\n",
       "      <th>2020-11-18</th>\n",
       "      <td>68.321</td>\n",
       "      <td>63.786</td>\n",
       "      <td>1.517</td>\n",
       "      <td>2.398</td>\n",
       "    </tr>\n",
       "    <tr>\n",
       "      <th>2020-11-25</th>\n",
       "      <td>68.771</td>\n",
       "      <td>64.131</td>\n",
       "      <td>1.517</td>\n",
       "      <td>2.388</td>\n",
       "    </tr>\n",
       "    <tr>\n",
       "      <th>2020-12-02</th>\n",
       "      <td>66.464</td>\n",
       "      <td>62.897</td>\n",
       "      <td>1.364</td>\n",
       "      <td>1.988</td>\n",
       "    </tr>\n",
       "    <tr>\n",
       "      <th>2020-12-09</th>\n",
       "      <td>67.165</td>\n",
       "      <td>63.946</td>\n",
       "      <td>1.508</td>\n",
       "      <td>2.000</td>\n",
       "    </tr>\n",
       "    <tr>\n",
       "      <th>2020-12-16</th>\n",
       "      <td>69.386</td>\n",
       "      <td>66.697</td>\n",
       "      <td>1.697</td>\n",
       "      <td>2.220</td>\n",
       "    </tr>\n",
       "    <tr>\n",
       "      <th>2020-12-23</th>\n",
       "      <td>54.810</td>\n",
       "      <td>52.723</td>\n",
       "      <td>1.392</td>\n",
       "      <td>1.814</td>\n",
       "    </tr>\n",
       "  </tbody>\n",
       "</table>\n",
       "</div>"
      ],
      "text/plain": [
       "              si_w    ci_w   hi_w   wi_w\n",
       "date                                    \n",
       "2020-01-01   0.186   0.357  0.000  0.000\n",
       "2020-01-08   0.284   0.449  0.000  0.000\n",
       "2020-01-15   0.724   1.317  0.000  0.000\n",
       "2020-01-22   2.987   5.636  0.010  0.012\n",
       "2020-01-29   6.145   9.716  0.024  0.029\n",
       "2020-02-05   8.726  12.127  0.032  0.029\n",
       "2020-02-12   9.068  12.422  0.032  0.029\n",
       "2020-02-19   9.667  12.899  0.046  0.060\n",
       "2020-02-26  12.606  16.095  0.066  0.105\n",
       "2020-03-04  19.092  22.204  0.123  0.114\n",
       "2020-03-11  34.056  32.133  0.723  0.365\n",
       "2020-03-18  63.356  52.372  1.511  2.188\n",
       "2020-03-25  74.047  59.814  1.762  2.707\n",
       "2020-04-01  75.142  61.812  1.824  2.739\n",
       "2020-04-08  75.407  63.237  1.831  2.762\n",
       "2020-04-15  75.307  63.353  1.827  2.762\n",
       "2020-04-22  75.139  63.444  1.821  2.754\n",
       "2020-04-29  74.739  63.862  1.812  2.726\n",
       "2020-05-06  73.307  63.068  1.684  2.673\n",
       "2020-05-13  70.658  61.650  1.432  2.618\n",
       "2020-05-20  70.108  61.766  1.412  2.594\n",
       "2020-05-27  68.999  62.171  1.361  2.406\n",
       "2020-06-03  67.501  62.001  1.341  2.290\n",
       "2020-06-10  67.252  61.944  1.328  2.157\n",
       "2020-06-17  65.555  61.098  1.310  1.867\n",
       "2020-06-24  64.618  60.780  1.273  1.819\n",
       "2020-07-01  63.852  61.062  1.311  1.844\n",
       "2020-07-08  62.530  60.111  1.335  1.847\n",
       "2020-07-15  62.241  59.945  1.228  1.863\n",
       "2020-07-22  61.763  59.694  0.968  1.868\n",
       "2020-07-29  62.460  60.483  0.973  1.888\n",
       "2020-08-05  63.155  60.967  0.972  1.912\n",
       "2020-08-12  62.571  60.619  0.975  1.943\n",
       "2020-08-19  62.680  60.746  0.964  1.969\n",
       "2020-08-26  62.570  60.340  0.950  1.970\n",
       "2020-09-02  61.193  58.963  0.898  1.954\n",
       "2020-09-09  60.046  58.175  0.894  1.938\n",
       "2020-09-16  59.602  58.009  0.922  1.947\n",
       "2020-09-23  59.443  57.898  0.916  1.938\n",
       "2020-09-30  59.565  57.899  0.905  1.927\n",
       "2020-10-07  59.267  57.580  0.966  1.901\n",
       "2020-10-14  60.094  58.198  1.399  1.893\n",
       "2020-10-21  62.828  60.172  1.571  1.911\n",
       "2020-10-28  62.984  60.344  1.344  1.916\n",
       "2020-11-04  63.790  60.863  1.170  2.092\n",
       "2020-11-11  64.881  61.293  1.231  2.097\n",
       "2020-11-18  68.321  63.786  1.517  2.398\n",
       "2020-11-25  68.771  64.131  1.517  2.388\n",
       "2020-12-02  66.464  62.897  1.364  1.988\n",
       "2020-12-09  67.165  63.946  1.508  2.000\n",
       "2020-12-16  69.386  66.697  1.697  2.220\n",
       "2020-12-23  54.810  52.723  1.392  1.814"
      ]
     },
     "execution_count": 8,
     "metadata": {},
     "output_type": "execute_result"
    }
   ],
   "source": [
    "def correct_date(y, freq):\n",
    "    \"\"\"\n",
    "    Correct dates and adjust data of last days to avoid last week with < 7 days\n",
    "     or of the last day of February if leap year.\n",
    "    \"\"\"\n",
    "    # numerical columns\n",
    "    cols_num = y.select_dtypes(include='number').columns.to_list()\n",
    "    ndays_lastweek = 7 + y.index[-1].dayofyear % 7\n",
    "    if freq == '7d' and ndays_lastweek > 7:\n",
    "        ts = pd.Timestamp(y.index[-1].date() - pd.to_timedelta(ndays_lastweek-7, unit='D'))\n",
    "        y.index = y.index.where(y.index <= ts, ts)    \n",
    "        grouper = pd.Grouper(axis=0, freq=freq)\n",
    "        y = y.groupby(grouper).mean()\n",
    "        # correct the divisor if the last week doesn't have 7 days\n",
    "        y.loc[y.index[-1], cols_num] = y.loc[y.index[-1], cols_num] * (7 / ndays_lastweek)\n",
    "    elif freq == 'd' and y.index.unique()[59].day == 29:  # leap year\n",
    "        grouper = pd.Grouper(axis=0, freq=freq)\n",
    "        y = y.groupby(grouper).mean()\n",
    "        # February 28 as the average February 28 and 29\n",
    "        y.loc[y.index[58], cols_num] = y.loc[y.index[58:60], cols_num].mean(axis=0)  \n",
    "        y = y.drop(index=y.index[59])\n",
    "    elif freq == 'm' and y.index.unique()[59].day == 29:  # just resample data\n",
    "        grouper = pd.Grouper(axis=0, freq=freq)\n",
    "        y = y.groupby(grouper).mean()\n",
    "    return y\n",
    "\n",
    "c19idx = correct_date(c19idx, '7d' if freq == 'w' else freq)\n",
    "c19idx"
   ]
  },
  {
   "cell_type": "markdown",
   "metadata": {},
   "source": [
    "## Running activity"
   ]
  },
  {
   "cell_type": "code",
   "execution_count": 9,
   "metadata": {
    "ExecuteTime": {
     "end_time": "2021-10-12T21:24:18.745618Z",
     "start_time": "2021-10-12T21:24:18.650490Z"
    }
   },
   "outputs": [
    {
     "name": "stdout",
     "output_type": "stream",
     "text": [
      "Year: 2019\n",
      "  Number of days: 365\n",
      "  Number of athletes: 36412\n",
      "  Number of activities: 13290380\n",
      "  Number of actual running activities: 4677389\n",
      "Year: 2020\n",
      "  Number of days: 365\n",
      "  Number of athletes: 35083\n",
      "  Number of activities: 13290380\n",
      "  Number of actual running activities: 4575794\n",
      "Total number of actual running activities in 2019 and 2020: 9253183\n"
     ]
    }
   ],
   "source": [
    "for year in years:\n",
    "    print('Year: {}'.format(year))\n",
    "    print('  Number of days:', dfs[year, 'd'].index.value_counts().size)\n",
    "    print('  Number of athletes:', nruns[year, 'd', 'ALL', 'ALL'].size)\n",
    "    print('  Number of activities:', dfs[year, 'd'].shape[0])\n",
    "    print('  Number of actual running activities:', nathletes[year, 'd', 'ALL', 'ALL'].sum())\n",
    "\n",
    "nathlete = nruns['2019', 'd', 'ALL', 'ALL'].size\n",
    "nactivity = nathletes['2019', 'd', 'ALL', 'ALL'].sum() + nathletes['2020', 'd', 'ALL', 'ALL'].sum()\n",
    "\n",
    "print('Total number of actual running activities in 2019 and 2020:', nactivity)"
   ]
  },
  {
   "cell_type": "markdown",
   "metadata": {},
   "source": [
    "### Number of running activities per period"
   ]
  },
  {
   "cell_type": "code",
   "execution_count": 10,
   "metadata": {
    "ExecuteTime": {
     "end_time": "2021-10-12T21:24:18.751526Z",
     "start_time": "2021-10-12T21:24:18.746687Z"
    }
   },
   "outputs": [
    {
     "name": "stdout",
     "output_type": "stream",
     "text": [
      "Median and interquartile range of number of days the athletes ran each year:\n",
      "In 2019: 120 (63, 183) days\n",
      "In 2020: 119 (59, 191) days\n"
     ]
    }
   ],
   "source": [
    "print('Median and interquartile range of number of days the athletes ran each year:')\n",
    "for year in years:\n",
    "    print('In {}: {:.0f} ({:.0f}, {:.0f}) days'.\n",
    "          format(year, *np.percentile(nruns[year, 'd', 'ALL', 'ALL'], [50, 25, 75]).round()))"
   ]
  },
  {
   "cell_type": "markdown",
   "metadata": {},
   "source": [
    "The athletes ran on average about once every three days and half of them ran between once every week and once every two days in 2019 and 2020."
   ]
  },
  {
   "cell_type": "markdown",
   "metadata": {},
   "source": [
    "### Plot of number of athletes per period"
   ]
  },
  {
   "cell_type": "code",
   "execution_count": 11,
   "metadata": {
    "ExecuteTime": {
     "end_time": "2021-10-12T21:24:19.040430Z",
     "start_time": "2021-10-12T21:24:18.752304Z"
    }
   },
   "outputs": [
    {
     "data": {
      "image/png": "[encoded data removed]",
      "text/plain": [
       "<Figure size 864x504 with 3 Axes>"
      ]
     },
     "metadata": {},
     "output_type": "display_data"
    }
   ],
   "source": [
    "fig, axs = plt.subplots(3, 1, squeeze=True, sharex=True, figsize=(12, 7))\n",
    "    \n",
    "for i, year in enumerate(years):\n",
    "    y = nathletes[year, 'd', 'ALL', 'ALL'].values\n",
    "    axs[0].plot(np.linspace(0, 365, 366), np.append(y, y[-1]),\n",
    "                color=colors[i], lw=2, label=year, drawstyle='steps-post')\n",
    "    y = nathletes[year, 'w', 'ALL', 'ALL'].values\n",
    "    axs[1].plot(np.linspace(0, 365, 53), np.append(y, y[-1]),\n",
    "                color=colors[i], lw=3, label=year, drawstyle='steps-post')\n",
    "    x = nathletes[year, 'm', 'ALL', 'ALL'].index.day_of_year.values\n",
    "    y = nathletes[year, 'm', 'ALL', 'ALL'].values\n",
    "    axs[2].plot(np.append([0], x), np.append(y, y[-1]),\n",
    "                color=colors[i], lw=3, label=year, drawstyle='steps-post')\n",
    "\n",
    "axs[0].set_xlim([0, 365])\n",
    "axs[0].legend(['2019', '2020'])\n",
    "axs[0].set_ylabel('Per day')\n",
    "axs[1].set_ylabel('Per week')\n",
    "axs[2].set_ylabel('Per month')\n",
    "axs[2].set_xlabel('Month')\n",
    "axs[2].set_xticks(np.append([0], x[:-1]))\n",
    "axs[2].set_xticklabels(months, rotation=0, ha='center')\n",
    "offset = matplotlib.transforms.ScaledTranslation(34/72, 0, fig.dpi_scale_trans)\n",
    "for label in axs[2].get_xticklabels():\n",
    "    label.set_transform(label.get_transform() + offset)\n",
    "for ax in axs:\n",
    "    ax.tick_params(axis='both', which='major', labelsize=13)\n",
    "plt.suptitle('Number of athletes running per period (out of a total of {:,d})'\n",
    "             .format(nruns['2019', 'd', 'ALL', 'ALL'].size), fontsize=18)\n",
    "plt.tight_layout(h_pad=.5)\n",
    "plt.show()"
   ]
  },
  {
   "cell_type": "code",
   "execution_count": 12,
   "metadata": {
    "ExecuteTime": {
     "end_time": "2021-10-12T21:24:19.045380Z",
     "start_time": "2021-10-12T21:24:19.041427Z"
    }
   },
   "outputs": [
    {
     "data": {
      "text/plain": [
       "mean    128.457\n",
       "std      81.522\n",
       "dtype: float64"
      ]
     },
     "execution_count": 12,
     "metadata": {},
     "output_type": "execute_result"
    }
   ],
   "source": [
    "nruns['2019', 'd', 'ALL', 'ALL'].agg(['mean', 'std'])"
   ]
  },
  {
   "cell_type": "code",
   "execution_count": 13,
   "metadata": {
    "ExecuteTime": {
     "end_time": "2021-10-12T21:24:19.050445Z",
     "start_time": "2021-10-12T21:24:19.046724Z"
    }
   },
   "outputs": [
    {
     "data": {
      "text/plain": [
       "mean    130.428\n",
       "std      87.492\n",
       "dtype: float64"
      ]
     },
     "execution_count": 13,
     "metadata": {},
     "output_type": "execute_result"
    }
   ],
   "source": [
    "nruns['2020', 'd', 'ALL', 'ALL'].agg(['mean', 'std'])"
   ]
  },
  {
   "cell_type": "markdown",
   "metadata": {},
   "source": [
    "## Volume of training - annual data"
   ]
  },
  {
   "cell_type": "code",
   "execution_count": 14,
   "metadata": {
    "ExecuteTime": {
     "end_time": "2021-10-12T21:24:19.053930Z",
     "start_time": "2021-10-12T21:24:19.051372Z"
    }
   },
   "outputs": [
    {
     "name": "stdout",
     "output_type": "stream",
     "text": [
      "Parameters:\n",
      " years = ['2019', '2020']\n",
      " frequency = w\n",
      " variables = ['distance', 'duration']\n",
      " estimate = <function mean at 0x7f790c074790>\n"
     ]
    }
   ],
   "source": [
    "print('Parameters:')\n",
    "print(' years =', years)\n",
    "print(' frequency =', freq)\n",
    "print(' variables =', variables)\n",
    "print(' estimate =', estimate)"
   ]
  },
  {
   "cell_type": "markdown",
   "metadata": {},
   "source": [
    "###  Data distribution of annual data of all subjects"
   ]
  },
  {
   "cell_type": "code",
   "execution_count": 15,
   "metadata": {
    "ExecuteTime": {
     "end_time": "2021-10-12T21:24:28.137656Z",
     "start_time": "2021-10-12T21:24:19.054717Z"
    }
   },
   "outputs": [
    {
     "data": {
      "image/png": "[encoded data removed]",
      "text/plain": [
       "<Figure size 936x504 with 4 Axes>"
      ]
     },
     "metadata": {},
     "output_type": "display_data"
    },
    {
     "data": {
      "image/png": "[encoded data removed]",
      "text/plain": [
       "<Figure size 936x504 with 4 Axes>"
      ]
     },
     "metadata": {},
     "output_type": "display_data"
    }
   ],
   "source": [
    "fig, ax = plt.subplots(2, 2, figsize=(13, 7))\n",
    "for v, year in enumerate(years):\n",
    "    y = dfs[year, freq]['distance']\n",
    "    y.hist(bins=100, ax=ax[0, v])\n",
    "    sp.stats.probplot(stdz(y), dist='norm', plot=ax[1, v])\n",
    "    ax[0, v].set_title('{}'.format(year))\n",
    "    ax[1, v].set_title('Kurtosis = {}, Skewness = {}, p = {}'\n",
    "                       .format(np.round(sp.stats.kurtosis(y), 1),\n",
    "                               np.round(sp.stats.skew(y), 1),\n",
    "                               np.round(sp.stats.jarque_bera(y).pvalue, 4)))\n",
    "ax[0, 0].set_xlim(0, 300)\n",
    "ax[0, 1].set_xlim(0, 300)\n",
    "fig.suptitle('All subjects - Histogram and Q-Q plot of' + \\\n",
    "             ' the distance [km]')\n",
    "plt.show()\n",
    "\n",
    "fig, ax = plt.subplots(2, 2, figsize=(13, 7))\n",
    "for v, year in enumerate(years):\n",
    "    y = dfs[year, freq]['duration']\n",
    "    y.hist(bins=100, ax=ax[0, v])\n",
    "    sp.stats.probplot(stdz(y), dist='norm', plot=ax[1, v])\n",
    "    ax[0, v].set_title('{}'.format(year))\n",
    "    ax[1, v].set_title('Kurtosis = {}, Skewness = {}, p = {}'\n",
    "                       .format(np.round(sp.stats.kurtosis(y), 1),\n",
    "                               np.round(sp.stats.skew(y), 1),\n",
    "                               np.round(sp.stats.jarque_bera(y).pvalue, 4)))\n",
    "ax[0, 0].set_xlim(0, 2000)\n",
    "ax[0, 1].set_xlim(0, 2000)\n",
    "fig.suptitle('All subjects - Histogram and Q-Q plot of' + \\\n",
    "             ' the duration [min]')\n",
    "plt.show()"
   ]
  },
  {
   "cell_type": "markdown",
   "metadata": {},
   "source": [
    "### Data distribution of annual data of all subjects and only actual runs"
   ]
  },
  {
   "cell_type": "code",
   "execution_count": 16,
   "metadata": {
    "ExecuteTime": {
     "end_time": "2021-10-12T21:24:33.920675Z",
     "start_time": "2021-10-12T21:24:28.138843Z"
    }
   },
   "outputs": [
    {
     "data": {
      "image/png": "[encoded data removed]",
      "text/plain": [
       "<Figure size 936x504 with 4 Axes>"
      ]
     },
     "metadata": {},
     "output_type": "display_data"
    },
    {
     "data": {
      "image/png": "[encoded data removed]",
      "text/plain": [
       "<Figure size 936x504 with 4 Axes>"
      ]
     },
     "metadata": {},
     "output_type": "display_data"
    }
   ],
   "source": [
    "# index of only actual runs (the athlete must have ran at least one period of the year)\n",
    "x = dfs['2019', freq][['distance']].reset_index()\n",
    "idx19 = x[x['distance'] != 0].index\n",
    "x = dfs['2020', freq].iloc[idx19]['distance'].reset_index()\n",
    "idx20 = x[x['distance'] != 0].index\n",
    "idx_0 = idx19[idx20]\n",
    "\n",
    "fig, ax = plt.subplots(2, 2, figsize=(13, 7))\n",
    "for v, year in enumerate(years):\n",
    "    y = dfs[year, freq].iloc[idx_0]['distance']\n",
    "    y.hist(bins=100, ax=ax[0, v])\n",
    "    sp.stats.probplot(stdz(y), dist='norm', plot=ax[1, v])\n",
    "    ax[0, v].set_title('{}'.format(year))\n",
    "    ax[1, v].set_title('Kurtosis = {}, Skewness = {}, p = {}'\n",
    "                       .format(np.round(sp.stats.kurtosis(y), 1),\n",
    "                               np.round(sp.stats.skew(y), 1),\n",
    "                               np.round(sp.stats.jarque_bera(y).pvalue, 4)))\n",
    "ax[0, 0].set_xlim(0, 300)\n",
    "ax[0, 1].set_xlim(0, 300)\n",
    "fig.suptitle('All subjects - Histogram and Q-Q plot of' + \\\n",
    "             ' the distance [km]')\n",
    "plt.show()\n",
    "\n",
    "fig, ax = plt.subplots(2, 2, figsize=(13, 7))\n",
    "for v, year in enumerate(years):\n",
    "    y = dfs[year, freq].iloc[idx_0]['duration']\n",
    "    y.hist(bins=100, ax=ax[0, v])\n",
    "    sp.stats.probplot(stdz(y), dist='norm', plot=ax[1, v])\n",
    "    ax[0, v].set_title('{}'.format(year))\n",
    "    ax[1, v].set_title('Kurtosis = {}, Skewness = {}, p = {}'\n",
    "                       .format(np.round(sp.stats.kurtosis(y), 1),\n",
    "                               np.round(sp.stats.skew(y), 1),\n",
    "                               np.round(sp.stats.jarque_bera(y).pvalue, 4)))\n",
    "ax[0, 0].set_xlim(0, 2000)\n",
    "ax[0, 1].set_xlim(0, 2000)\n",
    "fig.suptitle('All subjects - Histogram and Q-Q plot of' + \\\n",
    "             ' the duration [min]')\n",
    "plt.show()"
   ]
  },
  {
   "cell_type": "markdown",
   "metadata": {},
   "source": [
    "### Data description of annual data of all subjects"
   ]
  },
  {
   "cell_type": "code",
   "execution_count": 17,
   "metadata": {
    "ExecuteTime": {
     "end_time": "2021-10-12T21:24:34.189280Z",
     "start_time": "2021-10-12T21:24:33.921595Z"
    }
   },
   "outputs": [
    {
     "name": "stdout",
     "output_type": "stream",
     "text": [
      "Relative difference in total running volume between years (%)\n"
     ]
    },
    {
     "data": {
      "text/plain": [
       "distance   -7.485\n",
       "duration   -6.747\n",
       "dtype: float64"
      ]
     },
     "execution_count": 17,
     "metadata": {},
     "output_type": "execute_result"
    }
   ],
   "source": [
    "print('Relative difference in total running volume between years (%)')\n",
    "100 * (dfs['2020', 'd'][['distance', 'duration']].sum(axis=0) -\n",
    "       dfs['2019', 'd'][['distance', 'duration']].sum(axis=0)) / \\\n",
    "       dfs['2019', 'd'][['distance', 'duration']].sum(axis=0)"
   ]
  },
  {
   "cell_type": "code",
   "execution_count": 18,
   "metadata": {
    "ExecuteTime": {
     "end_time": "2021-10-12T21:24:43.698880Z",
     "start_time": "2021-10-12T21:24:34.190127Z"
    }
   },
   "outputs": [],
   "source": [
    "# Statistics for annual data\n",
    "dfs_stat = dict()\n",
    "for y in years:\n",
    "    for f in freqs:\n",
    "        idx = pd.Series(data=True, index=dfs[y, f].index)\n",
    "        for g in genders:\n",
    "            if g == 'ALL':\n",
    "                idxg = idx\n",
    "            else:\n",
    "                idxg = dfs[y, f]['gender'] == g\n",
    "            for a in ages:\n",
    "                if a == 'ALL':   \n",
    "                    idxa = idx\n",
    "                else:\n",
    "                    idxa = dfs[y, f]['age_group'] == a\n",
    "                    \n",
    "                dfs_stat[y, f, g, a] = dfs[y, f][(idxg) & (idxa)\n",
    "                                                ][['distance', 'duration']].describe().T"
   ]
  },
  {
   "cell_type": "code",
   "execution_count": null,
   "metadata": {
    "ExecuteTime": {
     "start_time": "2021-10-12T21:24:18.254Z"
    }
   },
   "outputs": [],
   "source": [
    "grouper = pd.Grouper(axis=0, freq='y', sort=True)\n",
    "for year in years:\n",
    "    print(year)\n",
    "    display(dfs[year, freq][['distance', 'duration']\n",
    "                           ].groupby(grouper).describe().stack(level=0))    \n",
    "    display(dfs[year, freq][['gender', 'age_group', 'distance', 'duration']\n",
    "                           ].groupby([grouper, 'gender', 'age_group']\n",
    "                                    ).describe().stack(level=0))"
   ]
  },
  {
   "cell_type": "markdown",
   "metadata": {},
   "source": [
    "#### Statistics for annual data considering only the actual runs"
   ]
  },
  {
   "cell_type": "code",
   "execution_count": null,
   "metadata": {
    "ExecuteTime": {
     "start_time": "2021-10-12T21:24:18.721Z"
    }
   },
   "outputs": [],
   "source": [
    "grouper = pd.Grouper(axis=0, freq='y', sort=True)\n",
    "for year in years:\n",
    "    print(year)\n",
    "    display(dfs_no0[year, freq][['distance', 'duration']\n",
    "                               ].groupby(grouper).describe().stack(level=0))    \n",
    "    display(dfs_no0[year, freq][['gender', 'age_group', 'distance', 'duration']\n",
    "                               ].groupby([grouper, 'gender', 'age_group']\n",
    "                                         ).describe().stack(level=0))"
   ]
  },
  {
   "cell_type": "markdown",
   "metadata": {},
   "source": [
    "### Plot of annual number of athletes and running volume per period"
   ]
  },
  {
   "cell_type": "code",
   "execution_count": null,
   "metadata": {
    "ExecuteTime": {
     "start_time": "2021-10-12T21:24:19.224Z"
    }
   },
   "outputs": [],
   "source": [
    "for year in years:\n",
    "    y = dfs[year, freq][['duration', 'distance']].groupby(dfs[year, freq].index).agg('sum')\n",
    "    y['pace'] = y['duration'] / y['distance']\n",
    "    y['nathletes'] = nathletes[year, freq, 'ALL', 'ALL']\n",
    "    y.loc[:, ['duration', 'distance']] = y.loc[:, ['duration', 'distance']\n",
    "                                              ].div(y['nathletes'], axis=0)\n",
    "    offset = 30 if freq == 'm' else 0\n",
    "    y.index = dfs['2019', freq].index.dayofyear.unique() - offset \n",
    "    y.index.rename('Period', inplace=True)\n",
    "    last = y.iloc[-1]\n",
    "    last.name = 366\n",
    "    y = y.append(last)  # for plotting with steps\n",
    "    y = y[['nathletes', 'duration', 'distance', 'pace']]\n",
    "    y.rename(columns={'nathletes': 'N athletes', 'distance': 'Distance (km)',\n",
    "                      'duration': 'Duration (min)', 'pace': 'Pace (min/km)'}, inplace=True)\n",
    "    if year == '2019':\n",
    "        data = y.copy(deep=True)\n",
    "    else:\n",
    "        data = pd.concat([data, y], axis=1, keys=years, names=['year', 'var'])\n",
    "        \n",
    "display_df(data, subset=data.columns)"
   ]
  },
  {
   "cell_type": "markdown",
   "metadata": {},
   "source": [
    "#### Plot of number of athletes and running volume from only actual runs"
   ]
  },
  {
   "cell_type": "code",
   "execution_count": null,
   "metadata": {
    "ExecuteTime": {
     "start_time": "2021-10-12T21:24:19.748Z"
    }
   },
   "outputs": [],
   "source": [
    "fig, axs = plt.subplots(4, 1, sharex=True, figsize=(12, 8))\n",
    "cols = data['2019'].columns\n",
    "precision = [0, 1, 1, 2]\n",
    "for a, ax in enumerate(axs):\n",
    "    for y, year in enumerate(years):\n",
    "        ax.plot(np.linspace(0, 365, data[year].shape[0]), data[year][cols[a]],\n",
    "                    color=colors[y], lw=3, label=year, drawstyle='steps-post')\n",
    "        msd = '{:g}±{:g}'.format(np.round(data[year][cols[a]].iloc[:-1].mean(), precision[a]),\n",
    "                                 np.round(data[year][cols[a]].iloc[:-1].std(), precision[a]))\n",
    "        ax.text(.98, .85-y/7, msd, ha='right', c=colors[y],\n",
    "                fontsize=14, transform=ax.transAxes)\n",
    "    ax.margins(x=0, y=0.3)\n",
    "    ax.tick_params(axis='both', which='major', labelsize=13)\n",
    "    ax.set_ylabel(cols[a])\n",
    "\n",
    "axs[0].text(.97, 1.03, 'Mean±SD', ha='right', c='k',\n",
    "            fontsize=14, transform=axs[0].transAxes)\n",
    "axs[0].set_xlim([0, 365])\n",
    "axs[0].legend(['2019', '2020'], loc='lower left', frameon=True, framealpha=.5, fontsize=14)\n",
    "axs[3].set_xlabel('Month')\n",
    "x = nathletes['2019', 'm', 'ALL', 'ALL'].index.day_of_year.values\n",
    "axs[3].set_xticks(np.append([0], x[:-1]))\n",
    "axs[3].set_xticklabels(months, rotation=0, ha='center')\n",
    "offset = matplotlib.transforms.ScaledTranslation(34/72, 0, fig.dpi_scale_trans)\n",
    "for label in axs[3].get_xticklabels():\n",
    "    label.set_transform(label.get_transform() + offset)\n",
    "\n",
    "plt.suptitle('Number of athletes and running volume per athlete at each {} (from only actual runs)'\n",
    "             .format(freq_s), fontsize=18)\n",
    "fig.align_ylabels(axs)\n",
    "plt.tight_layout(h_pad=.05)\n",
    "plt.show()"
   ]
  },
  {
   "cell_type": "markdown",
   "metadata": {},
   "source": [
    "## Data for relative difference between 2020 and 2019 (in %)\n",
    "\n",
    "The difference between 2020 and 2019 in the number of athletes per period (day, week or month) will be normalized by the total number of athletes in 2019 instead of normalizing by the average number of athletes per period in 2019.  \n",
    "This way, because we also show the total number of athletes in the graphs, the plots will be easier to understand.\n",
    "\n",
    "The difference between 2020 and 2019 in the average running volume per period (day, week or month) will be normalized by the 2019 average running volume per period (a single number) because, once again, the year average running volume per period are also shown and it will be easier to understand the plots."
   ]
  },
  {
   "cell_type": "code",
   "execution_count": null,
   "metadata": {
    "ExecuteTime": {
     "start_time": "2021-10-12T21:24:20.216Z"
    },
    "scrolled": false
   },
   "outputs": [],
   "source": [
    "nathletesd = dict()\n",
    "for frq in freqs:\n",
    "    # 2019 total number of athletes\n",
    "    Na = nruns['2019', 'd', 'ALL', 'ALL'].size\n",
    "    # 2019 average number of athletes per period (day, week or month)\n",
    "    #Na = estimate(nathletes['2019', frq, 'ALL', 'ALL'])\n",
    "    # 2019 average running volume per period (day, week or month)    \n",
    "    Vr = estimate(dfs['2019', frq][variables].values, axis=0)\n",
    "    \n",
    "    dfs['2020', frq][vars_d] = (100 * (dfs['2020', frq][variables].values -\n",
    "                                       dfs['2019', frq][variables].values) / Vr)\n",
    "\n",
    "    for gender in genders:\n",
    "        for age in ages:\n",
    "            nathletesd[frq, gender, age] = \\\n",
    "                pd.Series(100 * ((nathletes['2020', frq, gender, age].values -\n",
    "                                  nathletes['2019', frq, gender, age].values\n",
    "                                 ) / nruns['2019', frq, gender, age].size),\n",
    "                          index=nathletes['2020', frq, gender, age].index)\n",
    "    \n",
    "display(dfs['2020', freq])"
   ]
  },
  {
   "cell_type": "markdown",
   "metadata": {},
   "source": [
    "### Data distribution\n",
    "\n",
    "The data distributions for the difference between years for the variables distance and duration are symmetric (by visual inspection and by the low values of skewness), however the data present large amounts of zero values and long tails (by visual inspection and by the large values of kurtosis).\n",
    "\n",
    "The large amount of zeros values is due to the fact a zero value was attributed to a given period (day, week or month) whenever the athlete did not run on that period. However, even for the data of only actual runs (disregarding the zeros values), the data still do not present normal distribution because of the long tails, see the second plot below ('All subjects and only actual runs').\n",
    "\n",
    "The long tails in the distribution are not due to outliers; they reflect the fact an athlete ran a longer distance (duration) than average in a certain period (e.g., a marathon) in one year and not at the same period of the other year.\n",
    "\n",
    "The data of the difference between years for the variables distance and duration do not present normal distribution (see plots below). Of note, the sample sizes are very large (for most normality tests, sample sizes were a few thousand).  \n",
    "\n",
    "#### All subjects"
   ]
  },
  {
   "cell_type": "code",
   "execution_count": null,
   "metadata": {
    "ExecuteTime": {
     "start_time": "2021-10-12T21:24:20.632Z"
    }
   },
   "outputs": [],
   "source": [
    "fig, ax = plt.subplots(2, 2, figsize=(13, 7))\n",
    "for v, var in enumerate(vars_d):\n",
    "    y = dfs['2020', freq][var]\n",
    "    y.hist(bins=500, ax=ax[0, v])\n",
    "    sp.stats.probplot(stdz(y), dist='norm', plot=ax[1, v])\n",
    "    ax[0, v].set_title('{}'.format(var))\n",
    "    ax[1, v].set_title('Kurtosis = {}, Skewness = {}, p = {}'\n",
    "                       .format(np.round(sp.stats.kurtosis(y), 1),\n",
    "                               np.round(sp.stats.skew(y), 1),\n",
    "                               np.round(sp.stats.jarque_bera(y).pvalue, 4)))\n",
    "ax[0, 0].set_xlim(-300, 300)\n",
    "ax[0, 1].set_xlim(-300, 300)\n",
    "fig.suptitle('All subjects - Histogram and Q-Q plot of the difference (2020-2019)/2019 [%]')\n",
    "plt.show()"
   ]
  },
  {
   "cell_type": "markdown",
   "metadata": {},
   "source": [
    "#### All subjects and only actual runs"
   ]
  },
  {
   "cell_type": "code",
   "execution_count": null,
   "metadata": {
    "ExecuteTime": {
     "start_time": "2021-10-12T21:24:21.056Z"
    }
   },
   "outputs": [],
   "source": [
    "# index of only actual runs (the athlete must have ran at least one period of the year)\n",
    "x = dfs['2019', freq][['distance']].reset_index()\n",
    "idx19 = x[x['distance'] != 0].index\n",
    "x = dfs['2020', freq].iloc[idx19]['distance'].reset_index()\n",
    "idx20 = x[x['distance'] != 0].index\n",
    "idx_0 = idx19[idx20]\n",
    "\n",
    "fig, ax = plt.subplots(2, 2, figsize=(13, 7))\n",
    "for v, var in enumerate(vars_d):\n",
    "    y = dfs['2020', freq].iloc[idx_0][var]\n",
    "    y.hist(bins=500, ax=ax[0, v])\n",
    "    sp.stats.probplot(stdz(y), dist='norm', plot=ax[1, v])\n",
    "    ax[0, v].set_title('{}'.format(var))\n",
    "    ax[1, v].set_title('Kurtosis = {}, Skewness = {}, p = {}'\n",
    "                       .format(np.round(sp.stats.kurtosis(y), 1),\n",
    "                               np.round(sp.stats.skew(y), 1),\n",
    "                               np.round(sp.stats.jarque_bera(y).pvalue, 4)))\n",
    "ax[0, 0].set_xlim(-400, 400)\n",
    "ax[0, 1].set_xlim(-400, 400)\n",
    "fig.suptitle('All subjects (only actual runs) - Histogram and Q-Q plot of' + \\\n",
    "             ' the difference (2020-2019)/2019 [%]')\n",
    "plt.show()"
   ]
  },
  {
   "cell_type": "markdown",
   "metadata": {},
   "source": [
    "#### All subjects at each period"
   ]
  },
  {
   "cell_type": "code",
   "execution_count": null,
   "metadata": {
    "ExecuteTime": {
     "start_time": "2021-10-12T21:24:21.477Z"
    },
    "scrolled": false
   },
   "outputs": [],
   "source": [
    "if freq == 'd':\n",
    "    nrows, ncols = 31, 12\n",
    "    xmin, xmax = -250, 250\n",
    "elif freq == 'w':\n",
    "    nrows, ncols = 7, 8\n",
    "    xmin, xmax = -250, 250\n",
    "else:\n",
    "    nrows, ncols = 4, 3  \n",
    "    xmin, xmax = -250, 250\n",
    "    \n",
    "for v, var in enumerate(variables):\n",
    "    fig, axs = plt.subplots(nrows, ncols, sharex=True, sharey=True, figsize=(13, 8))\n",
    "    fig.suptitle('All subjects - Histograms for {} difference at each {} (2020-2019)/2019 [%]'\n",
    "                 .format(var, freq_s))\n",
    "    axs[0, 0].set_xlim(xmin, xmax)\n",
    "    axs = axs.flatten()\n",
    "    y = dfs['2020', freq][['athlete', vars_d[v]]].pivot(columns='athlete')[vars_d[v]].T\n",
    "    axs = y.hist(bins=100, figsize=(13, 9), ax=axs[:y.shape[1]])\n",
    "    for a, ax in enumerate(axs):\n",
    "        ax.text(.02, .8, '{}'.format(a+1), fontsize=14, transform=ax.transAxes)\n",
    "        ax.set_title('')\n",
    "    plt.tight_layout(h_pad=.01, w_pad=.01)\n",
    "    plt.show()\n",
    "    \n",
    "for v, var in enumerate(variables):\n",
    "    fig, axs = plt.subplots(nrows, ncols, sharex=True, sharey=True, figsize=(13, 10))\n",
    "    fig.suptitle('All subjects - Q-Q plots for {} difference at each {} (2020-2019)/2019 [%]'\n",
    "                 .format(var, freq_s))\n",
    "    axs = axs.flatten()\n",
    "    ys = dfs['2020', freq][['athlete', vars_d[v]]].pivot(columns='athlete')[vars_d[v]].T\n",
    "    for a, ax in enumerate(axs):\n",
    "        if a < 52:\n",
    "            y = ys.iloc[:, a]\n",
    "            sp.stats.probplot(stdz(y), dist='norm', plot=ax)\n",
    "            ax.text(.02, .05, '{}; {}; {}'.format(np.round(sp.stats.kurtosis(y), 1),\n",
    "                                                      np.round(sp.stats.skew(y), 1),\n",
    "                                                      np.round(sp.stats.jarque_bera(y).pvalue, 4)),\n",
    "                    fontsize=13, color='r', transform=ax.transAxes)\n",
    "            ax.text(.02, .8, '{}'.format(a+1), fontsize=14, transform=ax.transAxes)\n",
    "        ax.set_title('')\n",
    "        ax.set_xlabel('')\n",
    "        ax.set_ylabel('')\n",
    "    plt.tight_layout(h_pad=.01, w_pad=.01)\n",
    "    plt.show()"
   ]
  },
  {
   "cell_type": "markdown",
   "metadata": {},
   "source": [
    "#### Per gender and age at each period"
   ]
  },
  {
   "cell_type": "raw",
   "metadata": {
    "ExecuteTime": {
     "end_time": "2021-10-06T04:27:18.726410Z",
     "start_time": "2021-10-06T04:25:32.844708Z"
    },
    "scrolled": false
   },
   "source": [
    "for gender in genders[1:]:\n",
    "    for age in ages[1:]:\n",
    "        for v, var in enumerate(variables):\n",
    "            fig, axs = plt.subplots(nrows, ncols, sharex=True, sharey=True, figsize=(13, 8))\n",
    "            axs[0, 0].set_xlim(xmin, xmax)\n",
    "            axs = axs.flatten()\n",
    "            idx = (dfs['2020', freq]['gender'] == gender) & (dfs['2020', freq]['age_group'] == age)\n",
    "            y = dfs['2020', freq][idx][['athlete', vars_d[v]]].pivot(columns='athlete')[vars_d[v]].T    \n",
    "            axs = y.hist(bins=100, figsize=(13, 9), ax=axs[:y.shape[1]])\n",
    "            for a, ax in enumerate(axs):\n",
    "                ax.text(.02, .8, '{}'.format(a+1), fontsize=14, transform=ax.transAxes)\n",
    "                ax.set_title('')\n",
    "            fig.suptitle('{}, {} (N={}) - Histograms for {} difference at each {} (2020-2019)/2019 [%]'\n",
    "                         .format(gender, age, y.shape[0], var, freq_s))\n",
    "            plt.tight_layout(h_pad=.01, w_pad=.01)\n",
    "            plt.show()   \n",
    "            \n",
    "for gender in genders[1:]:\n",
    "    for age in ages[1:]:\n",
    "        for v, var in enumerate(variables):\n",
    "            fig, axs = plt.subplots(nrows, ncols, sharex=True, sharey=True, figsize=(13, 9))\n",
    "            axs = axs.flatten()\n",
    "            idx = (dfs['2020', freq]['gender'] == gender) & (dfs['2020', freq]['age_group'] == age)\n",
    "            ys = dfs['2020', freq][idx][['athlete', vars_d[v]]].pivot(columns='athlete')[vars_d[v]].T    \n",
    "            for a, ax in enumerate(axs):\n",
    "                if a < 52:\n",
    "                    y = ys.iloc[:, a]\n",
    "                    sp.stats.probplot(stdz(y), dist='norm', plot=ax)\n",
    "                    ax.text(.02, .05, '{}; {}; {}'.format(np.round(sp.stats.kurtosis(y), 1),\n",
    "                                                              np.round(sp.stats.skew(y), 1),\n",
    "                                                              np.round(sp.stats.jarque_bera(y).pvalue, 4)),\n",
    "                            fontsize=13, color='r', transform=ax.transAxes)\n",
    "                    ax.text(.02, .8, '{}'.format(a+1), fontsize=14, transform=ax.transAxes)\n",
    "                ax.set_title('')\n",
    "                ax.set_xlabel('')\n",
    "                ax.set_ylabel('')\n",
    "            fig.suptitle('{}, {} (N={}) - Q-Q plots for {} difference at each {} (2020-2019)/2019 [%]'\n",
    "                         .format(gender, age, ys.shape[0], var, freq_s))\n",
    "            plt.tight_layout(h_pad=.0, w_pad=.0)\n",
    "            plt.show()    "
   ]
  },
  {
   "cell_type": "markdown",
   "metadata": {},
   "source": [
    "### Data description"
   ]
  },
  {
   "cell_type": "code",
   "execution_count": null,
   "metadata": {
    "ExecuteTime": {
     "start_time": "2021-10-12T21:24:22.546Z"
    }
   },
   "outputs": [],
   "source": [
    "print('Relative difference in total number of athletes between years')\n",
    "100 * (nruns['2020', 'd', 'ALL', 'ALL'].size - nruns['2019', 'd', 'ALL', 'ALL'].size) / \\\n",
    "       nruns['2019', 'd', 'ALL', 'ALL'].size"
   ]
  },
  {
   "cell_type": "code",
   "execution_count": null,
   "metadata": {
    "ExecuteTime": {
     "start_time": "2021-10-12T21:24:22.552Z"
    },
    "scrolled": false
   },
   "outputs": [],
   "source": [
    "print('Relative difference in number of athletes per {} between years'.format(freq_s))\n",
    "display(nathletesd[freq, 'ALL', 'ALL'].describe().to_frame().T)    \n",
    "display_df(nathletesd[freq, 'ALL', 'ALL'].groupby('datetime').agg(['mean']))\n"
   ]
  },
  {
   "cell_type": "code",
   "execution_count": null,
   "metadata": {
    "ExecuteTime": {
     "start_time": "2021-10-12T21:24:22.557Z"
    }
   },
   "outputs": [],
   "source": [
    "grouper = pd.Grouper(axis=0, freq='y', sort=True)\n",
    "display(dfs['2020', freq][vars_d].groupby(grouper).describe().stack(level=0))    \n",
    "vs = ['gender', 'age_group']\n",
    "vs.extend(vars_d)\n",
    "display(dfs['2020', freq][vs].groupby([grouper, 'gender', 'age_group']\n",
    "                                     ).describe().stack(level=0))"
   ]
  },
  {
   "cell_type": "markdown",
   "metadata": {},
   "source": [
    "## Effect size, confidence interval and hypothesis testing"
   ]
  },
  {
   "cell_type": "markdown",
   "metadata": {},
   "source": [
    "We will adopt the following rules of thumb for the magnitude of Cohen's d (https://doi.org/10.22237%2Fjmasm%2F1257035100):  "
   ]
  },
  {
   "cell_type": "code",
   "execution_count": null,
   "metadata": {
    "ExecuteTime": {
     "start_time": "2021-10-12T21:24:23.461Z"
    }
   },
   "outputs": [],
   "source": [
    "effect_sizes = pd.DataFrame({'d': [.01, .2, .5, .8, 1.2, 2], 'effect size':\n",
    "                             ['Very small', 'Small', 'Medium', 'Large', 'Very large', 'Huge']})\n",
    "effect_sizes"
   ]
  },
  {
   "cell_type": "code",
   "execution_count": null,
   "metadata": {
    "ExecuteTime": {
     "start_time": "2021-10-12T21:24:23.466Z"
    }
   },
   "outputs": [],
   "source": [
    "n_periods = dfs['2020', freq].index.unique().size\n",
    "alphaB = alpha / n_periods\n",
    "alphaS = 1-(1-alpha)**(1/n_periods)\n",
    "print('Number of comparisons: {}'.format(n_periods))\n",
    "print('Alpha level: {:.2f}'.format(alpha))\n",
    "print('Alpha level with Bonferroni correction: {:.5f}'.format(alphaB))\n",
    "print('Alpha level with Sidak correction: {:.5f}'.format(alphaS))"
   ]
  },
  {
   "cell_type": "markdown",
   "metadata": {},
   "source": [
    "### Load data with statistics or run analysis"
   ]
  },
  {
   "cell_type": "code",
   "execution_count": null,
   "metadata": {
    "ExecuteTime": {
     "start_time": "2021-10-12T21:24:23.964Z"
    },
    "scrolled": false
   },
   "outputs": [],
   "source": [
    "dfsd = None\n",
    "if load_results:\n",
    "    try:\n",
    "        fname = path2 / 'dfsd.pkl'\n",
    "        with open(fname, 'rb') as file:\n",
    "            dfsd = pickle.loads(file.read())\n",
    "            print('{} loaded.\\n'.format(fname))\n",
    "        # display statistics\n",
    "        for gender in genders:\n",
    "            for age in ages:\n",
    "                title = 'Results for Age: {} and Gender: {}'.format(gender, age)\n",
    "                display_dfsd(dfsd[gender, age], title)\n",
    "    except Exception as e:\n",
    "        print(e, '\\nError in loading {}. Running analysis...'.format(fname))\n",
    "        \n",
    "if dfsd is None:\n",
    "    dfsd = dict()\n",
    "    for gender in genders:\n",
    "        if gender == 'ALL':\n",
    "            x = dfs['2020', freq].copy(deep=True)\n",
    "        else:\n",
    "            x = dfs['2020', freq][dfs['2020', freq]['gender'] == gender]\n",
    "        for age in ages:\n",
    "            if age == 'ALL':\n",
    "                x2 = x.copy(deep=True)\n",
    "            else:\n",
    "                x2 = x[x['age_group'] == age]\n",
    "            dfsd[gender, age] = describe(x2, show=False)\n",
    "            title = 'Results for Age: {} and Gender: {}'.format(gender, age)\n",
    "            display_dfsd(dfsd[gender, age], title)\n",
    "\n",
    "    # save data\n",
    "    try:\n",
    "        fname = path2 / 'dfsd.pkl'\n",
    "        with open(fname, 'wb') as file:\n",
    "            pickle.dump(dfsd, file)\n",
    "    except Exception as e:\n",
    "        print(e, '\\nError in saving {}.'.format(fname))"
   ]
  },
  {
   "cell_type": "markdown",
   "metadata": {},
   "source": [
    "## Plots"
   ]
  },
  {
   "cell_type": "code",
   "execution_count": null,
   "metadata": {
    "ExecuteTime": {
     "start_time": "2021-10-12T21:24:24.303Z"
    }
   },
   "outputs": [],
   "source": [
    "ds = 'default'  # drawstyle\n",
    "ds = 'steps-post'  # drawstyle\n",
    "weight = 'normal'\n",
    "x = np.r_[0, np.cumsum(dfs['2019', 'm'].index.unique().daysinmonth.values)[:]]\n",
    "genders2 = genders[1:]\n",
    "ages2 = ages[1:]\n",
    "if estimate == np.mean or estimate == np.nanmean:\n",
    "    desc = 'mean'\n",
    "else:\n",
    "    desc = '50%'\n",
    "# lines stretches from lineoffset - linelength/2 to lineoffset + linelength/2\n",
    "if freq == 'd':\n",
    "    factor = 1\n",
    "elif freq == 'w':\n",
    "    factor = 7\n",
    "elif freq == 'm':\n",
    "    factor = 31    \n",
    "\n",
    "\n",
    "def repeat_last(df, freq):\n",
    "    \"\"\"Repeat last point in data for plotting.\n",
    "    \"\"\"    \n",
    "    x = df.iloc[-1]\n",
    "    if freq == 'w':\n",
    "        x.name = x.name + 7\n",
    "        df = df.append(x)\n",
    "        t = df.index\n",
    "    elif freq == 'm':\n",
    "        x.name = x.name + 31\n",
    "        df = df.append(x)\n",
    "        t = df.index - 31\n",
    "    return t, df\n",
    "\n",
    "\n",
    "def plot(ax, axb, freq, df, n, c1=c1, c2=c2, ds='default'):\n",
    "    \"\"\"General plot.\n",
    "    \"\"\"\n",
    "    t, df = repeat_last(df, freq)\n",
    "    n = np.r_[n, n[-1]]\n",
    "    if ds == 'steps-post':\n",
    "        ax.fill_between(t, df['ci_inf'], df['ci_sup'],\n",
    "                        color=c1, alpha=.7, clip_on=False, step='post')\n",
    "    else:\n",
    "        ax.fill_between(t, df['ci_inf'], df['ci_sup'],\n",
    "                        color=c1, alpha=.7, clip_on=False)        \n",
    "    sns.lineplot(x=t, y=df['mean'], color=c1, ci=None, alpha=1, \n",
    "                 legend=False, lw=3, ax=ax, clip_on=False, drawstyle=ds)\n",
    "    axb.plot(t, n, color=c2, lw=3, alpha=1, clip_on=False, drawstyle=ds)\n",
    "\n",
    "for v, var in enumerate(variables):\n",
    "    fig = plt.figure(constrained_layout=True, figsize=(12, 8))\n",
    "    gs = fig.add_gridspec(3, 3)\n",
    "    ax0 = fig.add_subplot(gs[0, :])\n",
    "    ax1 = fig.add_subplot(gs[1, 0])\n",
    "    ax2 = fig.add_subplot(gs[1, 1])\n",
    "    ax3 = fig.add_subplot(gs[1, 2])\n",
    "    ax4 = fig.add_subplot(gs[2, 0])\n",
    "    ax5 = fig.add_subplot(gs[2, 1])\n",
    "    ax6 = fig.add_subplot(gs[2, 2])\n",
    "    ax0b = ax0.twinx()\n",
    "\n",
    "    ax0.axvline(x[3], c=c3, alpha=.8, ls=':', lw=1)\n",
    "    ax0.axvline(x[6], c=c3, alpha=.8, ls=':', lw=1)\n",
    "    ax0.axvline(x[9], c=c3, alpha=.8, ls=':', lw=1)\n",
    "    ax0.axhline(0, c=c3, alpha=.8, lw=2)\n",
    "\n",
    "    plot(ax0, ax0b, freq, dfsd['ALL', 'ALL'][var],\n",
    "         nathletesd[freq, 'ALL', 'ALL'].values, c1, c2, ds)\n",
    "\n",
    "    # plot coronavirus policy response index\n",
    "    ax0c = ax0.twinx()\n",
    "    c19idx.index = dfsd['ALL', 'ALL'].index\n",
    "    t, c19idx2 = repeat_last(c19idx, freq)\n",
    "    ax0c.plot(t, c19idx2['si_w'], color=c4, alpha=.8, lw=3, ls='-',\n",
    "              clip_on=False, drawstyle=ds)\n",
    "    ax0c.set_ylim([100, -100])\n",
    "    ax0c.set_yticks([0, 50, 100])    \n",
    "\n",
    "    # pvalues plot\n",
    "    s2020 = np.where((dfsd['ALL', 'ALL'][var]['mean'] > 0) &\n",
    "                     (dfsd['ALL', 'ALL'][var]['pvalue'] <= alphaS))[0] \n",
    "    s2020 = (t[s2020] + factor/2, )\n",
    "    s2019 = np.where((dfsd['ALL', 'ALL'][var]['mean'] < 0) &\n",
    "                     (dfsd['ALL', 'ALL'][var]['pvalue'] <= alphaS))[0] \n",
    "    s2019 = (t[s2019] + factor/2, ) \n",
    "    ax0.eventplot(-np.ones_like(s2020)*52, colors=c1, lineoffsets=s2020,\n",
    "                  linelengths=[factor], orientation='vertical',\n",
    "                  linewidth=7, alpha=0.4, clip_on=False)\n",
    "    ax0.eventplot(-np.ones_like(s2019)*59, colors=c1, lineoffsets=s2019,\n",
    "                  linelengths=[factor], orientation='vertical',\n",
    "                  linewidth=7, alpha=0.4, clip_on=False)\n",
    "    # effect sizes plot\n",
    "    es = np.where(dfsd['ALL', 'ALL'][var]['cohensd'] > 0.2)[0] \n",
    "    es = (t[es] + factor/2, ) \n",
    "    ax0.eventplot(-np.ones_like(es)*55.5, colors=c5, lineoffsets=es,\n",
    "                  linelengths=[factor], orientation='vertical',\n",
    "                  linewidth=4, alpha=1, clip_on=False)   \n",
    "\n",
    "    axes = np.array([[ax1, ax2, ax3], [ax4, ax5, ax6]])\n",
    "    axesb = np.empty_like(axes)\n",
    "    letters = np.array([['B', 'C', 'D'], ['E', 'F', 'G']])\n",
    "    for g, gender in enumerate(genders2):\n",
    "        for a, age in enumerate(ages2):\n",
    "            axesb[g, a] = axes[g, a].twinx()\n",
    "            axes[g, a].axvline(x[3], c=c3, alpha=.8, ls=':', lw=1)\n",
    "            axes[g, a].axvline(x[6], c=c3, alpha=.8, ls=':', lw=1)\n",
    "            axes[g, a].axvline(x[9], c=c3, alpha=.8, ls=':', lw=1)\n",
    "            axes[g, a].axhline(0, c=c3, alpha=.8, lw=2)\n",
    "            plot(axes[g, a], axesb[g, a], freq, dfsd[gender, age][var],\n",
    "                 nathletesd[freq, gender, age].values, c1, c2, ds)\n",
    "            # pvalues plot\n",
    "            # lines stretches from lineoffset - linelength/2 to lineoffset + linelength/2\n",
    "            s2020 = np.where((dfsd[gender, age][var]['mean'] > 0) &\n",
    "                             (dfsd[gender, age][var]['pvalue'] <= alphaS))[0] \n",
    "            s2020 = (t[s2020] + factor/2, )\n",
    "            s2019 = np.where((dfsd[gender, age][var]['mean'] < 0) &\n",
    "                             (dfsd[gender, age][var]['pvalue'] <= alphaS))[0] \n",
    "            s2019 = (t[s2019] + factor/2, ) \n",
    "            axes[g, a].eventplot(-np.ones_like(s2020)*52, colors=c1, lineoffsets=s2020,\n",
    "                                 linelengths=[factor], orientation='vertical',\n",
    "                                 linewidth=7, alpha=0.4, clip_on=False)            \n",
    "            axes[g, a].eventplot(-np.ones_like(s2019)*59, colors=c1, lineoffsets=s2019,\n",
    "                                 linelengths=[factor], orientation='vertical',\n",
    "                                 linewidth=7, alpha=0.4, clip_on=False)\n",
    "            es = np.where(dfsd[gender, age][var]['cohensd'] > 0.2)[0] \n",
    "            es = (t[es] + factor/2, ) \n",
    "            axes[g, a].eventplot(-np.ones_like(es)*55.5, colors=c5, lineoffsets=es,\n",
    "                                 linelengths=[factor], orientation='vertical',\n",
    "                                 linewidth=4, alpha=1, clip_on=False) \n",
    "            # aesthetics\n",
    "            axes[g, a].text(-.045, 1.025, letters[g, a], ha='right', weight=weight,\n",
    "                            fontsize=14, c='k', transform=axes[g, a].transAxes)\n",
    "            axes[g, a].text(0.02, .9, '{:.1f} {}'.format(np.round(\n",
    "                dfs_stat['2020', freq, gender, age][desc][var], 1), units[v]),\n",
    "                ha='left', weight=weight, fontsize=14, c=c1, transform=axes[g, a].transAxes)\n",
    "            axes[g, a].text(.98, .9, '{:,}'.format(nruns['2020', freq, gender, age].size),\n",
    "                ha='right', weight=weight, fontsize=14, c=c2, transform=axes[g, a].transAxes)\n",
    "            axes[g, a].text(0.02, .78, '{:.1f} {}'.format(np.round(\n",
    "                dfs_stat['2019', freq, gender, age][desc][var], 1), units[v]),\n",
    "                ha='left', weight=weight, fontsize=14, c=c1, transform=axes[g, a].transAxes)\n",
    "            axes[g, a].text(.98, .78, '{:,}'.format(nruns['2019', freq, gender, age].size),\n",
    "                ha='right', weight=weight, fontsize=14, c=c2, transform=axes[g, a].transAxes)\n",
    "            gender2 = 'Women' if gender == 'F' else 'Men'\n",
    "            age2 = age + ' yr.'\n",
    "            axes[g, a].set_title('{} {}'.format(gender2, age2), fontsize=14,\n",
    "                                 c=c3, ha='center', y=1)\n",
    "            axes[g, a].set_xticks(x)\n",
    "            if g == 0:\n",
    "                axes[g, a].set_xticklabels([])\n",
    "            if g == 1:\n",
    "                labels = ['  ' + m[0] for m in months]\n",
    "                labels.append('')\n",
    "                axes[g, a].set_xticklabels(labels, rotation=0, fontsize=14, ha='left')\n",
    "            if a == 0:\n",
    "                axes[g, a].set_ylabel('')\n",
    "            if a > 0:\n",
    "                axes[g, a].set_yticklabels([])\n",
    "                axes[g, a].set_ylabel('')\n",
    "            if a == 1:\n",
    "                pass\n",
    "            if a == 2:\n",
    "                pass\n",
    "            if a < 2:\n",
    "                axesb[g, a].set_yticklabels([])\n",
    "                axesb[g, a].set_ylabel('')\n",
    "            if g == 1 & a == 1:\n",
    "                axes[g, a].set_xlabel('Month of the year', c=c3, fontsize=16)\n",
    "                axes[g, a].xaxis.set_label_coords(.5, -.3)\n",
    "            else:\n",
    "                axes[g, a].set_xlabel('')\n",
    "\n",
    "            axes[g, a].tick_params(axis='x', colors=c3)\n",
    "            axes[g, a].spines['right'].set_visible(False)\n",
    "            axes[g, a].spines['top'].set_visible(False)\n",
    "            axesb[g, a].spines['bottom'].set_visible(False)\n",
    "            axesb[g, a].spines['left'].set_visible(False)\n",
    "            axesb[g, a].spines['top'].set_visible(False)\n",
    "            axes[g, a].spines['bottom'].set_color(c3)\n",
    "            axes[g, a].spines['left'].set_color(c1)\n",
    "            axes[g, a].tick_params(axis='y', colors=c1)\n",
    "            axesb[g, a].spines['right'].set_color(c2)\n",
    "            axesb[g, a].tick_params(axis='y', colors=c2)\n",
    "            axes[g, a].spines['bottom'].set_position(('axes', -0.15))\n",
    "            axes[g, a].spines['left'].set_position(('axes', -0.04))\n",
    "            axesb[g, a].spines['right'].set_position(('axes', 1.04))\n",
    "            axes[g, a].xaxis.set_ticks_position('bottom')\n",
    "            axes[g, a].yaxis.set_ticks_position('left')\n",
    "            axesb[g, a].xaxis.set_ticks_position('bottom')\n",
    "            axesb[g, a].yaxis.set_ticks_position('right')   \n",
    "            axes[g, a].tick_params(axis='y', which='major', labelsize=14)\n",
    "            axesb[g, a].tick_params(axis='y', which='major', labelsize=14)\n",
    "\n",
    "    ax0.set_ylabel('')\n",
    "    ax0.set_xlabel('')\n",
    "    ax0.xaxis.set_ticks_position('bottom')\n",
    "    ax0.spines['bottom'].set_color(c3)\n",
    "    ax0.spines['top'].set_visible(False)\n",
    "    ax0.spines['right'].set_visible(False)\n",
    "    ax0.spines['left'].set_color(c1)\n",
    "    ax0.tick_params(axis='x', colors=c3)\n",
    "    ax0.tick_params(axis='y', colors=c1)\n",
    "    ax0.spines['left'].set_position(('axes', -0.012))\n",
    "    ax0.spines['bottom'].set_position(('axes', -0.15))\n",
    "\n",
    "    ax0b.spines['bottom'].set_visible(False)\n",
    "    ax0b.spines['top'].set_visible(False)\n",
    "    ax0b.spines['left'].set_visible(False)\n",
    "    ax0b.spines['right'].set_color(c2)\n",
    "    ax0b.spines['right'].set_position(('axes', 1.012))\n",
    "    ax0b.tick_params(axis='y', colors=c2)\n",
    "\n",
    "    ax0c.spines['bottom'].set_visible(False)\n",
    "    ax0c.spines['top'].set_visible(False)\n",
    "    ax0c.spines['left'].set_visible(False)\n",
    "    ax0c.spines['right'].set_color(c4)\n",
    "    ax0c.spines['right'].set_position(('axes', 1.095))\n",
    "    ax0c.tick_params(axis='y', colors=c4)\n",
    "    ax0c.tick_params(axis='both', which='major', labelsize=14)\n",
    "    ax0c.set_ylabel('2020 stringency index', rotation=-90, color=c4, fontsize=16)\n",
    "    ax0c.yaxis.set_label_coords(1.16, .45)\n",
    "    ax0c.grid(False, axis='both')\n",
    "\n",
    "    ax0.set_title('All athletes', fontsize=16, c=c3, ha='center')\n",
    "    ax0.text(.08, 1.04, 'Mean {}'.format(var), ha='center', weight=weight,\n",
    "             fontsize=14, c=c1, transform=ax0.transAxes)\n",
    "    ax0.text(.91, 1.04, 'Number of athletes', ha='center', weight=weight,\n",
    "             fontsize=14, c=c2, transform=ax0.transAxes)\n",
    "    ax0.text(-.0155, 1.025, 'A', ha='right', weight=weight,\n",
    "             fontsize=14, c='k', transform=ax0.transAxes)\n",
    "    ax0.text(0.014, .9, '2020:', ha='left', weight=weight,\n",
    "             fontsize=14, c=c3, transform=ax0.transAxes)\n",
    "    ax0.text(0.07, .9, '{:.1f} {}'.format(\n",
    "             np.round(dfs_stat['2020', freq, 'ALL', 'ALL'][desc][var], 1), units[v]),\n",
    "             ha='left', weight=weight, fontsize=14, c=c1, transform=ax0.transAxes)\n",
    "    ax0.text(0.91, .9, '2020:', ha='right', weight=weight,\n",
    "             fontsize=14, c=c3, transform=ax0.transAxes)\n",
    "    ax0.text(.975, .9,  '{:,}'.format(nruns['2020', 'd', 'ALL', 'ALL'].size),\n",
    "             ha='right', weight=weight, fontsize=14, c=c2, transform=ax0.transAxes)\n",
    "    ax0.text(0.014, .78, '2019:', ha='left', weight=weight,\n",
    "             fontsize=14, c=c3, transform=ax0.transAxes)\n",
    "    ax0.text(0.07, .78, '{:.1f} {}'.format(\n",
    "             np.round(dfs_stat['2019', freq, 'ALL', 'ALL'][desc][var], 1), units[v]),\n",
    "             ha='left', weight=weight, fontsize=14, c=c1, transform=ax0.transAxes)\n",
    "    ax0.text(0.91, .78, '2019:', ha='right', weight=weight,\n",
    "             fontsize=14, c=c3, transform=ax0.transAxes)\n",
    "    ax0.text(.975, .78, '{:,}'.format(nruns['2019', 'd', 'ALL', 'ALL'].size),\n",
    "             ha='right', weight=weight, fontsize=14, c=c2, transform=ax0.transAxes)\n",
    "\n",
    "    if freq == 'd':\n",
    "        sfrq = 'Daily'\n",
    "    elif freq == 'w':\n",
    "        sfrq = 'Weekly'\n",
    "    elif freq == 'm':\n",
    "        sfrq = 'Monthly'\n",
    "    text = '{} running volume difference between 2020 and 2019 [%]'.format(sfrq)\n",
    "    ax1.set_ylabel(text, color=c1, fontsize=16)\n",
    "    ax1.yaxis.set_label_coords(-.18, .5)\n",
    "    text = '{} number of athletes difference between 2020 and 2019 [%]'.format(sfrq)\n",
    "    axesb[0, 2].set_ylabel(text, rotation=-90, color=c2, fontsize=16)\n",
    "    axesb[0, 2].yaxis.set_label_coords(1.27, .5)\n",
    "    ax0.tick_params(axis='both', which='major', labelsize=14)\n",
    "    ax0b.tick_params(axis='both', which='major', labelsize=14)\n",
    "    ax0.set_xticks(x)\n",
    "    labels = [m[0:3] for m in months]\n",
    "    labels.append('')\n",
    "    ax0.set_xticklabels(labels, rotation=0, fontsize=14, ha='left')\n",
    "\n",
    "    axes2 = np.r_[ax0, ax1, ax2, ax3, ax4, ax5, ax6]\n",
    "    axesb2 = np.r_[ax0b, axesb.flatten()]\n",
    "    for ax, axb in zip(axes2, axesb2):\n",
    "        ax.grid(False, axis='both')\n",
    "        axb.grid(False, axis='both')\n",
    "        ax.set_xlim([0, 365])\n",
    "        ax.set_ylim([-50, 50])\n",
    "        ax.set_yticks([-40, -20, 0, 20, 40])\n",
    "        axb.set_ylim([-25, 25])\n",
    "        axb.set_yticks([-20, -10, 0, 10, 20])\n",
    "    fig.savefig(path2 / 'figure{}_{}.svg'.format(v, var), dpi=600)\n",
    "    fig.savefig(path2 / 'figure{}_{}.png'.format(v, var), dpi=600)\n",
    "    plt.show()"
   ]
  }
 ],
 "metadata": {
  "hide_input": false,
  "kernelspec": {
   "display_name": "Python 3 (ipykernel)",
   "language": "python",
   "name": "python3"
  },
  "language_info": {
   "codemirror_mode": {
    "name": "ipython",
    "version": 3
   },
   "file_extension": ".py",
   "mimetype": "text/x-python",
   "name": "python",
   "nbconvert_exporter": "python",
   "pygments_lexer": "ipython3",
   "version": "3.8.12"
  },
  "nbTranslate": {
   "displayLangs": [
    "*"
   ],
   "hotkey": "alt-t",
   "langInMainMenu": true,
   "sourceLang": "en",
   "targetLang": "fr",
   "useGoogleTranslate": true
  },
  "toc": {
   "base_numbering": 1,
   "nav_menu": {},
   "number_sections": true,
   "sideBar": true,
   "skip_h1_title": true,
   "title_cell": "Contents",
   "title_sidebar": "Contents",
   "toc_cell": true,
   "toc_position": {},
   "toc_section_display": true,
   "toc_window_display": false
  },
  "varInspector": {
   "cols": {
    "lenName": 16,
    "lenType": 16,
    "lenVar": 40
   },
   "kernels_config": {
    "python": {
     "delete_cmd_postfix": "",
     "delete_cmd_prefix": "del ",
     "library": "var_list.py",
     "varRefreshCmd": "print(var_dic_list())"
    },
    "r": {
     "delete_cmd_postfix": ") ",
     "delete_cmd_prefix": "rm(",
     "library": "var_list.r",
     "varRefreshCmd": "cat(var_dic_list()) "
    }
   },
   "position": {
    "height": "280px",
    "left": "793px",
    "right": "20px",
    "top": "121px",
    "width": "470px"
   },
   "types_to_exclude": [
    "module",
    "function",
    "builtin_function_or_method",
    "instance",
    "_Feature"
   ],
   "window_display": false
  }
 },
 "nbformat": 4,
 "nbformat_minor": 4
}
